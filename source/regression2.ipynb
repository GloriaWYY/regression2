{
 "cells": [
  {
   "cell_type": "markdown",
   "id": "2021aa15-122c-4e5c-bc18-2ae7bf703090",
   "metadata": {},
   "source": [
    "(regression2)=\n",
    "# Regression II: linear regression"
   ]
  },
  {
   "cell_type": "code",
   "execution_count": 1,
   "id": "dffec295-c3c0-478c-869d-512297e9619c",
   "metadata": {
    "tags": [
     "remove-cell"
    ]
   },
   "outputs": [],
   "source": [
    "import altair as alt\n",
    "import numpy as np\n",
    "import pandas as pd\n",
    "from sklearn.linear_model import LinearRegression\n",
    "from sklearn.model_selection import GridSearchCV, cross_validate, train_test_split\n",
    "from sklearn.compose import make_column_transformer\n",
    "from sklearn.neighbors import KNeighborsRegressor\n",
    "from sklearn.pipeline import Pipeline, make_pipeline\n",
    "from sklearn.preprocessing import StandardScaler\n",
    "import plotly.express as px\n",
    "import plotly.graph_objs as go\n",
    "from plotly.offline import plot\n",
    "from IPython.display import HTML\n",
    "\n",
    "from myst_nb import glue"
   ]
  },
  {
   "cell_type": "markdown",
   "id": "ada6e4fd-f3fd-4edb-b0f8-4a6515f8a2f5",
   "metadata": {},
   "source": [
    "## Overview \n",
    "Up to this point, we have solved all of our predictive problems&mdash;both classification\n",
    "and regression&mdash;using K-nearest neighbors (KNN)-based approaches. In the context of regression, \n",
    "there is another commonly used method known as *linear regression*. This chapter provides an introduction\n",
    "to the basic concept of linear regression, shows how to use `scikit-learn` to perform linear regression in Python,\n",
    "and characterizes its strengths and weaknesses compared to KNN regression. The focus is, as usual,\n",
    "on the case where there is a single predictor and single response variable of interest; but the chapter\n",
    "concludes with an example using *multivariable linear regression* when there is more than one\n",
    "predictor.\n",
    "\n",
    "## Chapter learning objectives \n",
    "By the end of the chapter, readers will be able to do the following:\n",
    "\n",
    "* Use Python and `scikit-learn` to fit a linear regression model on training data.\n",
    "* Evaluate the linear regression model on test data.\n",
    "* Compare and contrast predictions obtained from K-nearest neighbor regression to those obtained using linear regression from the same data set.\n",
    "* In `altair`, overlay predictions from linear regression on a scatter plot of data using `transform_regression`."
   ]
  },
  {
   "cell_type": "markdown",
   "id": "f14d268b-03ae-4a8b-a221-02d0f7f9dd34",
   "metadata": {},
   "source": [
    "## Simple linear regression\n",
    "\n",
    "At the end of the previous chapter, we noted some limitations of KNN regression.\n",
    "While the method is simple and easy to understand, KNN regression does not\n",
    "predict well beyond the range of the predictors in the training data, and\n",
    "the method gets significantly slower as the training data set grows. \\index{regression!linear}\n",
    "Fortunately, there is an alternative to KNN regression&mdash;*linear regression*&mdash;that addresses\n",
    "both of these limitations. Linear regression is also very commonly \n",
    "used in practice because it provides an interpretable mathematical equation that describes\n",
    "the relationship between the predictor and response variables. In this first part of the chapter, we will focus on *simple* linear regression,\n",
    "which involves only one predictor variable and one response variable; later on, we will consider\n",
    " *multivariable* linear regression, which involves multiple predictor variables.\n",
    " Like KNN regression, simple linear regression involves\n",
    "predicting a numerical response variable (like race time, house price, or height);\n",
    "but *how* it makes those predictions for a new observation is quite different from KNN regression.\n",
    " Instead of looking at the K nearest neighbors and averaging\n",
    "over their values for a prediction, in simple linear regression, we create a \n",
    "straight line of best fit through the training data and then\n",
    "\"look up\" the prediction using the line."
   ]
  },
  {
   "cell_type": "markdown",
   "id": "c3b48693-4ea3-4b55-ac97-db32a8071343",
   "metadata": {},
   "source": [
    "> **Note:** Although we did not cover it in earlier chapters, there \n",
    "> is another popular method for classification called *logistic\n",
    "> regression* (it is used for classification even though the name, somewhat confusingly,\n",
    "> has the word \"regression\" in it). In logistic regression&mdash;similar to linear regression&mdash;you\n",
    "> \"fit\" the model to the training data and then \"look up\" the prediction for each new observation.\n",
    "> Logistic regression and KNN classification have an advantage/disadvantage comparison \n",
    "> similar to that of linear regression and KNN\n",
    "> regression. It is useful to have a good understanding of linear regression before learning about\n",
    "> logistic regression. After reading this chapter, see the \"Additional Resources\" section at the end of the\n",
    "> classification chapters to learn more about logistic regression. \\index{regression!logistic}"
   ]
  },
  {
   "cell_type": "markdown",
   "id": "3cb6cd26-5676-4b16-b7bd-c8fbaea1ba93",
   "metadata": {},
   "source": [
    "Let's return to the Sacramento housing data \\index{Sacramento real estate} from Chapter {ref}`regression1` to learn\n",
    "how to apply linear regression and compare it to KNN regression. For now, we\n",
    "will consider \n",
    "a smaller version of the housing data to help make our visualizations clear.\n",
    "Recall our predictive question: can we use the size of a house in the Sacramento, CA area to predict\n",
    "its sale price? \\index{question!regression} In particular, recall that we have come across a new 2,000 square-foot house we are interested\n",
    "in purchasing with an advertised list price of\n",
    "\\$350,000. Should we offer the list price, or is that over/undervalued?\n",
    "To answer this question using simple linear regression, we use the data we have\n",
    "to draw the straight line of best fit through our existing data points.\n",
    "The small subset of data as well as the line of best fit are shown\n",
    "in {numref}`fig:08-lin-reg1`."
   ]
  },
  {
   "cell_type": "code",
   "execution_count": 2,
   "id": "07a97cc6-9a1b-4f05-9d4b-ba642c8ce7b3",
   "metadata": {
    "tags": [
     "remove-cell"
    ]
   },
   "outputs": [
    {
     "data": {
      "text/html": [
       "\n",
       "<div id=\"altair-viz-77ec01099fc6401b9270e45b71e0ea0a\"></div>\n",
       "<script type=\"text/javascript\">\n",
       "  var VEGA_DEBUG = (typeof VEGA_DEBUG == \"undefined\") ? {} : VEGA_DEBUG;\n",
       "  (function(spec, embedOpt){\n",
       "    let outputDiv = document.currentScript.previousElementSibling;\n",
       "    if (outputDiv.id !== \"altair-viz-77ec01099fc6401b9270e45b71e0ea0a\") {\n",
       "      outputDiv = document.getElementById(\"altair-viz-77ec01099fc6401b9270e45b71e0ea0a\");\n",
       "    }\n",
       "    const paths = {\n",
       "      \"vega\": \"https://cdn.jsdelivr.net/npm//vega@5?noext\",\n",
       "      \"vega-lib\": \"https://cdn.jsdelivr.net/npm//vega-lib?noext\",\n",
       "      \"vega-lite\": \"https://cdn.jsdelivr.net/npm//vega-lite@4.17.0?noext\",\n",
       "      \"vega-embed\": \"https://cdn.jsdelivr.net/npm//vega-embed@6?noext\",\n",
       "    };\n",
       "\n",
       "    function maybeLoadScript(lib, version) {\n",
       "      var key = `${lib.replace(\"-\", \"\")}_version`;\n",
       "      return (VEGA_DEBUG[key] == version) ?\n",
       "        Promise.resolve(paths[lib]) :\n",
       "        new Promise(function(resolve, reject) {\n",
       "          var s = document.createElement('script');\n",
       "          document.getElementsByTagName(\"head\")[0].appendChild(s);\n",
       "          s.async = true;\n",
       "          s.onload = () => {\n",
       "            VEGA_DEBUG[key] = version;\n",
       "            return resolve(paths[lib]);\n",
       "          };\n",
       "          s.onerror = () => reject(`Error loading script: ${paths[lib]}`);\n",
       "          s.src = paths[lib];\n",
       "        });\n",
       "    }\n",
       "\n",
       "    function showError(err) {\n",
       "      outputDiv.innerHTML = `<div class=\"error\" style=\"color:red;\">${err}</div>`;\n",
       "      throw err;\n",
       "    }\n",
       "\n",
       "    function displayChart(vegaEmbed) {\n",
       "      vegaEmbed(outputDiv, spec, embedOpt)\n",
       "        .catch(err => showError(`Javascript Error: ${err.message}<br>This usually means there's a typo in your chart specification. See the javascript console for the full traceback.`));\n",
       "    }\n",
       "\n",
       "    if(typeof define === \"function\" && define.amd) {\n",
       "      requirejs.config({paths});\n",
       "      require([\"vega-embed\"], displayChart, err => showError(`Error loading script: ${err.message}`));\n",
       "    } else {\n",
       "      maybeLoadScript(\"vega\", \"5\")\n",
       "        .then(() => maybeLoadScript(\"vega-lite\", \"4.17.0\"))\n",
       "        .then(() => maybeLoadScript(\"vega-embed\", \"6\"))\n",
       "        .catch(showError)\n",
       "        .then(() => displayChart(vegaEmbed));\n",
       "    }\n",
       "  })({\"config\": {\"view\": {\"continuousWidth\": 400, \"continuousHeight\": 300}}, \"layer\": [{\"mark\": {\"type\": \"circle\", \"color\": \"black\"}, \"encoding\": {\"x\": {\"field\": \"sqft\", \"scale\": {\"zero\": false}, \"title\": \"House size (square feet)\", \"type\": \"quantitative\"}, \"y\": {\"axis\": {\"format\": \"$,.0f\"}, \"field\": \"price\", \"scale\": {\"zero\": false}, \"title\": \"Price (USD)\", \"type\": \"quantitative\"}}}, {\"mark\": \"line\", \"encoding\": {\"x\": {\"field\": \"sqft\", \"scale\": {\"zero\": false}, \"title\": \"House size (square feet)\", \"type\": \"quantitative\"}, \"y\": {\"axis\": {\"format\": \"$,.0f\"}, \"field\": \"price\", \"scale\": {\"zero\": false}, \"title\": \"Price (USD)\", \"type\": \"quantitative\"}}, \"transform\": [{\"on\": \"sqft\", \"regression\": \"price\"}]}], \"data\": {\"name\": \"data-dd70ea120b69e4d2199dadb4d59509b6\"}, \"$schema\": \"https://vega.github.io/schema/vega-lite/v4.17.0.json\", \"datasets\": {\"data-dd70ea120b69e4d2199dadb4d59509b6\": [{\"city\": \"SACRAMENTO\", \"zip\": \"z95829\", \"beds\": 3, \"baths\": 2.0, \"sqft\": 2170, \"type\": \"Residential\", \"price\": 257729, \"latitude\": 38.45967, \"longitude\": -121.360461}, {\"city\": \"SACRAMENTO\", \"zip\": \"z95835\", \"beds\": 3, \"baths\": 2.0, \"sqft\": 1686, \"type\": \"Residential\", \"price\": 239000, \"latitude\": 38.671556, \"longitude\": -121.520916}, {\"city\": \"ROSEVILLE\", \"zip\": \"z95678\", \"beds\": 3, \"baths\": 2.0, \"sqft\": 1174, \"type\": \"Residential\", \"price\": 180000, \"latitude\": 38.734136, \"longitude\": -121.299639}, {\"city\": \"EL_DORADO_HILLS\", \"zip\": \"z95762\", \"beds\": 5, \"baths\": 4.0, \"sqft\": 4091, \"type\": \"Residential\", \"price\": 508000, \"latitude\": 38.676131, \"longitude\": -121.038931}, {\"city\": \"SACRAMENTO\", \"zip\": \"z95842\", \"beds\": 5, \"baths\": 2.0, \"sqft\": 1712, \"type\": \"Residential\", \"price\": 168000, \"latitude\": 38.677003, \"longitude\": -121.354454}, {\"city\": \"FAIR_OAKS\", \"zip\": \"z95628\", \"beds\": 3, \"baths\": 1.0, \"sqft\": 960, \"type\": \"Residential\", \"price\": 185000, \"latitude\": 38.667254, \"longitude\": -121.240708}, {\"city\": \"ORANGEVALE\", \"zip\": \"z95662\", \"beds\": 3, \"baths\": 2.0, \"sqft\": 1294, \"type\": \"Residential\", \"price\": 191250, \"latitude\": 38.687006, \"longitude\": -121.254319}, {\"city\": \"SACRAMENTO\", \"zip\": \"z95842\", \"beds\": 2, \"baths\": 2.0, \"sqft\": 1134, \"type\": \"Condo\", \"price\": 110700, \"latitude\": 38.700051, \"longitude\": -121.351278}, {\"city\": \"SACRAMENTO\", \"zip\": \"z95838\", \"beds\": 2, \"baths\": 1.0, \"sqft\": 1011, \"type\": \"Residential\", \"price\": 70000, \"latitude\": 38.643978, \"longitude\": -121.449562}, {\"city\": \"SACRAMENTO\", \"zip\": \"z95824\", \"beds\": 2, \"baths\": 2.0, \"sqft\": 1139, \"type\": \"Residential\", \"price\": 93600, \"latitude\": 38.520469, \"longitude\": -121.458606}, {\"city\": \"ROSEVILLE\", \"zip\": \"z95747\", \"beds\": 3, \"baths\": 2.5, \"sqft\": 1829, \"type\": \"Residential\", \"price\": 306500, \"latitude\": 38.772771, \"longitude\": -121.364877}, {\"city\": \"SACRAMENTO\", \"zip\": \"z95823\", \"beds\": 4, \"baths\": 2.0, \"sqft\": 1472, \"type\": \"Residential\", \"price\": 148750, \"latitude\": 38.479553, \"longitude\": -121.463317}, {\"city\": \"SACRAMENTO\", \"zip\": \"z95819\", \"beds\": 3, \"baths\": 1.0, \"sqft\": 1108, \"type\": \"Residential\", \"price\": 339000, \"latitude\": 38.563805, \"longitude\": -121.436395}, {\"city\": \"SACRAMENTO\", \"zip\": \"z95825\", \"beds\": 3, \"baths\": 1.0, \"sqft\": 1520, \"type\": \"Residential\", \"price\": 255000, \"latitude\": 38.599449, \"longitude\": -121.400305}, {\"city\": \"ELVERTA\", \"zip\": \"z95626\", \"beds\": 3, \"baths\": 2.0, \"sqft\": 1080, \"type\": \"Residential\", \"price\": 126000, \"latitude\": 38.717976, \"longitude\": -121.407684}, {\"city\": \"EL_DORADO_HILLS\", \"zip\": \"z95762\", \"beds\": 3, \"baths\": 2.0, \"sqft\": 2129, \"type\": \"Residential\", \"price\": 460000, \"latitude\": 38.668239, \"longitude\": -121.064437}, {\"city\": \"SACRAMENTO\", \"zip\": \"z95838\", \"beds\": 4, \"baths\": 2.0, \"sqft\": 1799, \"type\": \"Residential\", \"price\": 205000, \"latitude\": 38.655887, \"longitude\": -121.446119}, {\"city\": \"SACRAMENTO\", \"zip\": \"z95835\", \"beds\": 5, \"baths\": 3.0, \"sqft\": 3599, \"type\": \"Residential\", \"price\": 381300, \"latitude\": 38.677126, \"longitude\": -121.500519}, {\"city\": \"CAMERON_PARK\", \"zip\": \"z95682\", \"beds\": 2, \"baths\": 1.5, \"sqft\": 1376, \"type\": \"Residential\", \"price\": 210000, \"latitude\": 38.69437, \"longitude\": -120.996602}, {\"city\": \"SACRAMENTO\", \"zip\": \"z95815\", \"beds\": 3, \"baths\": 1.0, \"sqft\": 696, \"type\": \"Residential\", \"price\": 121725, \"latitude\": 38.613103, \"longitude\": -121.444085}, {\"city\": \"CARMICHAEL\", \"zip\": \"z95608\", \"beds\": 3, \"baths\": 2.0, \"sqft\": 1245, \"type\": \"Condo\", \"price\": 139500, \"latitude\": 38.628563, \"longitude\": -121.328297}, {\"city\": \"ELK_GROVE\", \"zip\": \"z95757\", \"beds\": 5, \"baths\": 3.5, \"sqft\": 2724, \"type\": \"Residential\", \"price\": 383000, \"latitude\": 38.381102, \"longitude\": -121.42901}, {\"city\": \"FAIR_OAKS\", \"zip\": \"z95628\", \"beds\": 3, \"baths\": 2.0, \"sqft\": 3173, \"type\": \"Residential\", \"price\": 525000, \"latitude\": 38.650735, \"longitude\": -121.258628}, {\"city\": \"CITRUS_HEIGHTS\", \"zip\": \"z95621\", \"beds\": 3, \"baths\": 2.0, \"sqft\": 1118, \"type\": \"Residential\", \"price\": 122000, \"latitude\": 38.707851, \"longitude\": -121.320707}, {\"city\": \"CITRUS_HEIGHTS\", \"zip\": \"z95610\", \"beds\": 3, \"baths\": 2.0, \"sqft\": 1882, \"type\": \"Residential\", \"price\": 219000, \"latitude\": 38.715423, \"longitude\": -121.246743}, {\"city\": \"SACRAMENTO\", \"zip\": \"z95834\", \"beds\": 3, \"baths\": 2.0, \"sqft\": 1672, \"type\": \"Condo\", \"price\": 265000, \"latitude\": 38.648879, \"longitude\": -121.544023}, {\"city\": \"SACRAMENTO\", \"zip\": \"z95842\", \"beds\": 2, \"baths\": 1.0, \"sqft\": 924, \"type\": \"Condo\", \"price\": 150454, \"latitude\": 38.672567, \"longitude\": -121.356754}, {\"city\": \"ANTELOPE\", \"zip\": \"z95843\", \"beds\": 3, \"baths\": 2.0, \"sqft\": 1830, \"type\": \"Residential\", \"price\": 254172, \"latitude\": 38.710221, \"longitude\": -121.341707}, {\"city\": \"SACRAMENTO\", \"zip\": \"z95820\", \"beds\": 2, \"baths\": 1.0, \"sqft\": 722, \"type\": \"Residential\", \"price\": 145000, \"latitude\": 38.532727, \"longitude\": -121.470783}, {\"city\": \"SACRAMENTO\", \"zip\": \"z95820\", \"beds\": 3, \"baths\": 2.0, \"sqft\": 1212, \"type\": \"Residential\", \"price\": 228327, \"latitude\": 38.534827, \"longitude\": -121.412545}]}}, {\"mode\": \"vega-lite\"});\n",
       "</script>"
      ],
      "text/plain": [
       "alt.LayerChart(...)"
      ]
     },
     "execution_count": 2,
     "metadata": {},
     "output_type": "execute_result"
    }
   ],
   "source": [
    "sacramento = pd.read_csv(\"data/sacramento.csv\")\n",
    "\n",
    "small_sacramento = sacramento.sample(n=30, random_state=2)\n",
    "\n",
    "small_plot = (\n",
    "    alt.Chart(small_sacramento)\n",
    "    .mark_circle(color=\"black\")\n",
    "    .encode(\n",
    "        x=alt.X(\"sqft\", title=\"House size (square feet)\", scale=alt.Scale(zero=False)),\n",
    "        y=alt.Y(\n",
    "            \"price\",\n",
    "            title=\"Price (USD)\",\n",
    "            axis=alt.Axis(format=\"$,.0f\"),\n",
    "            scale=alt.Scale(zero=False),\n",
    "        ),\n",
    "    )\n",
    ")\n",
    "\n",
    "small_plot += small_plot.transform_regression(\"sqft\", \"price\").mark_line()\n",
    "\n",
    "small_plot"
   ]
  },
  {
   "cell_type": "code",
   "execution_count": 3,
   "id": "449474da-f324-4f0c-b0f6-8b3a46e9a258",
   "metadata": {
    "tags": [
     "remove-cell"
    ]
   },
   "outputs": [
    {
     "data": {
      "text/html": [
       "\n",
       "<div id=\"altair-viz-ce482414b8b9437a94f03f2d887d1c74\"></div>\n",
       "<script type=\"text/javascript\">\n",
       "  var VEGA_DEBUG = (typeof VEGA_DEBUG == \"undefined\") ? {} : VEGA_DEBUG;\n",
       "  (function(spec, embedOpt){\n",
       "    let outputDiv = document.currentScript.previousElementSibling;\n",
       "    if (outputDiv.id !== \"altair-viz-ce482414b8b9437a94f03f2d887d1c74\") {\n",
       "      outputDiv = document.getElementById(\"altair-viz-ce482414b8b9437a94f03f2d887d1c74\");\n",
       "    }\n",
       "    const paths = {\n",
       "      \"vega\": \"https://cdn.jsdelivr.net/npm//vega@5?noext\",\n",
       "      \"vega-lib\": \"https://cdn.jsdelivr.net/npm//vega-lib?noext\",\n",
       "      \"vega-lite\": \"https://cdn.jsdelivr.net/npm//vega-lite@4.17.0?noext\",\n",
       "      \"vega-embed\": \"https://cdn.jsdelivr.net/npm//vega-embed@6?noext\",\n",
       "    };\n",
       "\n",
       "    function maybeLoadScript(lib, version) {\n",
       "      var key = `${lib.replace(\"-\", \"\")}_version`;\n",
       "      return (VEGA_DEBUG[key] == version) ?\n",
       "        Promise.resolve(paths[lib]) :\n",
       "        new Promise(function(resolve, reject) {\n",
       "          var s = document.createElement('script');\n",
       "          document.getElementsByTagName(\"head\")[0].appendChild(s);\n",
       "          s.async = true;\n",
       "          s.onload = () => {\n",
       "            VEGA_DEBUG[key] = version;\n",
       "            return resolve(paths[lib]);\n",
       "          };\n",
       "          s.onerror = () => reject(`Error loading script: ${paths[lib]}`);\n",
       "          s.src = paths[lib];\n",
       "        });\n",
       "    }\n",
       "\n",
       "    function showError(err) {\n",
       "      outputDiv.innerHTML = `<div class=\"error\" style=\"color:red;\">${err}</div>`;\n",
       "      throw err;\n",
       "    }\n",
       "\n",
       "    function displayChart(vegaEmbed) {\n",
       "      vegaEmbed(outputDiv, spec, embedOpt)\n",
       "        .catch(err => showError(`Javascript Error: ${err.message}<br>This usually means there's a typo in your chart specification. See the javascript console for the full traceback.`));\n",
       "    }\n",
       "\n",
       "    if(typeof define === \"function\" && define.amd) {\n",
       "      requirejs.config({paths});\n",
       "      require([\"vega-embed\"], displayChart, err => showError(`Error loading script: ${err.message}`));\n",
       "    } else {\n",
       "      maybeLoadScript(\"vega\", \"5\")\n",
       "        .then(() => maybeLoadScript(\"vega-lite\", \"4.17.0\"))\n",
       "        .then(() => maybeLoadScript(\"vega-embed\", \"6\"))\n",
       "        .catch(showError)\n",
       "        .then(() => displayChart(vegaEmbed));\n",
       "    }\n",
       "  })({\"config\": {\"view\": {\"continuousWidth\": 400, \"continuousHeight\": 300}}, \"layer\": [{\"mark\": {\"type\": \"circle\", \"color\": \"black\"}, \"encoding\": {\"x\": {\"field\": \"sqft\", \"scale\": {\"zero\": false}, \"title\": \"House size (square feet)\", \"type\": \"quantitative\"}, \"y\": {\"axis\": {\"format\": \"$,.0f\"}, \"field\": \"price\", \"scale\": {\"zero\": false}, \"title\": \"Price (USD)\", \"type\": \"quantitative\"}}}, {\"mark\": \"line\", \"encoding\": {\"x\": {\"field\": \"sqft\", \"scale\": {\"zero\": false}, \"title\": \"House size (square feet)\", \"type\": \"quantitative\"}, \"y\": {\"axis\": {\"format\": \"$,.0f\"}, \"field\": \"price\", \"scale\": {\"zero\": false}, \"title\": \"Price (USD)\", \"type\": \"quantitative\"}}, \"transform\": [{\"on\": \"sqft\", \"regression\": \"price\"}]}], \"data\": {\"name\": \"data-dd70ea120b69e4d2199dadb4d59509b6\"}, \"$schema\": \"https://vega.github.io/schema/vega-lite/v4.17.0.json\", \"datasets\": {\"data-dd70ea120b69e4d2199dadb4d59509b6\": [{\"city\": \"SACRAMENTO\", \"zip\": \"z95829\", \"beds\": 3, \"baths\": 2.0, \"sqft\": 2170, \"type\": \"Residential\", \"price\": 257729, \"latitude\": 38.45967, \"longitude\": -121.360461}, {\"city\": \"SACRAMENTO\", \"zip\": \"z95835\", \"beds\": 3, \"baths\": 2.0, \"sqft\": 1686, \"type\": \"Residential\", \"price\": 239000, \"latitude\": 38.671556, \"longitude\": -121.520916}, {\"city\": \"ROSEVILLE\", \"zip\": \"z95678\", \"beds\": 3, \"baths\": 2.0, \"sqft\": 1174, \"type\": \"Residential\", \"price\": 180000, \"latitude\": 38.734136, \"longitude\": -121.299639}, {\"city\": \"EL_DORADO_HILLS\", \"zip\": \"z95762\", \"beds\": 5, \"baths\": 4.0, \"sqft\": 4091, \"type\": \"Residential\", \"price\": 508000, \"latitude\": 38.676131, \"longitude\": -121.038931}, {\"city\": \"SACRAMENTO\", \"zip\": \"z95842\", \"beds\": 5, \"baths\": 2.0, \"sqft\": 1712, \"type\": \"Residential\", \"price\": 168000, \"latitude\": 38.677003, \"longitude\": -121.354454}, {\"city\": \"FAIR_OAKS\", \"zip\": \"z95628\", \"beds\": 3, \"baths\": 1.0, \"sqft\": 960, \"type\": \"Residential\", \"price\": 185000, \"latitude\": 38.667254, \"longitude\": -121.240708}, {\"city\": \"ORANGEVALE\", \"zip\": \"z95662\", \"beds\": 3, \"baths\": 2.0, \"sqft\": 1294, \"type\": \"Residential\", \"price\": 191250, \"latitude\": 38.687006, \"longitude\": -121.254319}, {\"city\": \"SACRAMENTO\", \"zip\": \"z95842\", \"beds\": 2, \"baths\": 2.0, \"sqft\": 1134, \"type\": \"Condo\", \"price\": 110700, \"latitude\": 38.700051, \"longitude\": -121.351278}, {\"city\": \"SACRAMENTO\", \"zip\": \"z95838\", \"beds\": 2, \"baths\": 1.0, \"sqft\": 1011, \"type\": \"Residential\", \"price\": 70000, \"latitude\": 38.643978, \"longitude\": -121.449562}, {\"city\": \"SACRAMENTO\", \"zip\": \"z95824\", \"beds\": 2, \"baths\": 2.0, \"sqft\": 1139, \"type\": \"Residential\", \"price\": 93600, \"latitude\": 38.520469, \"longitude\": -121.458606}, {\"city\": \"ROSEVILLE\", \"zip\": \"z95747\", \"beds\": 3, \"baths\": 2.5, \"sqft\": 1829, \"type\": \"Residential\", \"price\": 306500, \"latitude\": 38.772771, \"longitude\": -121.364877}, {\"city\": \"SACRAMENTO\", \"zip\": \"z95823\", \"beds\": 4, \"baths\": 2.0, \"sqft\": 1472, \"type\": \"Residential\", \"price\": 148750, \"latitude\": 38.479553, \"longitude\": -121.463317}, {\"city\": \"SACRAMENTO\", \"zip\": \"z95819\", \"beds\": 3, \"baths\": 1.0, \"sqft\": 1108, \"type\": \"Residential\", \"price\": 339000, \"latitude\": 38.563805, \"longitude\": -121.436395}, {\"city\": \"SACRAMENTO\", \"zip\": \"z95825\", \"beds\": 3, \"baths\": 1.0, \"sqft\": 1520, \"type\": \"Residential\", \"price\": 255000, \"latitude\": 38.599449, \"longitude\": -121.400305}, {\"city\": \"ELVERTA\", \"zip\": \"z95626\", \"beds\": 3, \"baths\": 2.0, \"sqft\": 1080, \"type\": \"Residential\", \"price\": 126000, \"latitude\": 38.717976, \"longitude\": -121.407684}, {\"city\": \"EL_DORADO_HILLS\", \"zip\": \"z95762\", \"beds\": 3, \"baths\": 2.0, \"sqft\": 2129, \"type\": \"Residential\", \"price\": 460000, \"latitude\": 38.668239, \"longitude\": -121.064437}, {\"city\": \"SACRAMENTO\", \"zip\": \"z95838\", \"beds\": 4, \"baths\": 2.0, \"sqft\": 1799, \"type\": \"Residential\", \"price\": 205000, \"latitude\": 38.655887, \"longitude\": -121.446119}, {\"city\": \"SACRAMENTO\", \"zip\": \"z95835\", \"beds\": 5, \"baths\": 3.0, \"sqft\": 3599, \"type\": \"Residential\", \"price\": 381300, \"latitude\": 38.677126, \"longitude\": -121.500519}, {\"city\": \"CAMERON_PARK\", \"zip\": \"z95682\", \"beds\": 2, \"baths\": 1.5, \"sqft\": 1376, \"type\": \"Residential\", \"price\": 210000, \"latitude\": 38.69437, \"longitude\": -120.996602}, {\"city\": \"SACRAMENTO\", \"zip\": \"z95815\", \"beds\": 3, \"baths\": 1.0, \"sqft\": 696, \"type\": \"Residential\", \"price\": 121725, \"latitude\": 38.613103, \"longitude\": -121.444085}, {\"city\": \"CARMICHAEL\", \"zip\": \"z95608\", \"beds\": 3, \"baths\": 2.0, \"sqft\": 1245, \"type\": \"Condo\", \"price\": 139500, \"latitude\": 38.628563, \"longitude\": -121.328297}, {\"city\": \"ELK_GROVE\", \"zip\": \"z95757\", \"beds\": 5, \"baths\": 3.5, \"sqft\": 2724, \"type\": \"Residential\", \"price\": 383000, \"latitude\": 38.381102, \"longitude\": -121.42901}, {\"city\": \"FAIR_OAKS\", \"zip\": \"z95628\", \"beds\": 3, \"baths\": 2.0, \"sqft\": 3173, \"type\": \"Residential\", \"price\": 525000, \"latitude\": 38.650735, \"longitude\": -121.258628}, {\"city\": \"CITRUS_HEIGHTS\", \"zip\": \"z95621\", \"beds\": 3, \"baths\": 2.0, \"sqft\": 1118, \"type\": \"Residential\", \"price\": 122000, \"latitude\": 38.707851, \"longitude\": -121.320707}, {\"city\": \"CITRUS_HEIGHTS\", \"zip\": \"z95610\", \"beds\": 3, \"baths\": 2.0, \"sqft\": 1882, \"type\": \"Residential\", \"price\": 219000, \"latitude\": 38.715423, \"longitude\": -121.246743}, {\"city\": \"SACRAMENTO\", \"zip\": \"z95834\", \"beds\": 3, \"baths\": 2.0, \"sqft\": 1672, \"type\": \"Condo\", \"price\": 265000, \"latitude\": 38.648879, \"longitude\": -121.544023}, {\"city\": \"SACRAMENTO\", \"zip\": \"z95842\", \"beds\": 2, \"baths\": 1.0, \"sqft\": 924, \"type\": \"Condo\", \"price\": 150454, \"latitude\": 38.672567, \"longitude\": -121.356754}, {\"city\": \"ANTELOPE\", \"zip\": \"z95843\", \"beds\": 3, \"baths\": 2.0, \"sqft\": 1830, \"type\": \"Residential\", \"price\": 254172, \"latitude\": 38.710221, \"longitude\": -121.341707}, {\"city\": \"SACRAMENTO\", \"zip\": \"z95820\", \"beds\": 2, \"baths\": 1.0, \"sqft\": 722, \"type\": \"Residential\", \"price\": 145000, \"latitude\": 38.532727, \"longitude\": -121.470783}, {\"city\": \"SACRAMENTO\", \"zip\": \"z95820\", \"beds\": 3, \"baths\": 2.0, \"sqft\": 1212, \"type\": \"Residential\", \"price\": 228327, \"latitude\": 38.534827, \"longitude\": -121.412545}]}}, {\"mode\": \"vega-lite\"});\n",
       "</script>"
      ],
      "text/plain": [
       "alt.LayerChart(...)"
      ]
     },
     "metadata": {
      "scrapbook": {
       "mime_prefix": "",
       "name": "fig:08-lin-reg1"
      }
     },
     "output_type": "display_data"
    }
   ],
   "source": [
    "glue(\"fig:08-lin-reg1\", small_plot)"
   ]
  },
  {
   "cell_type": "markdown",
   "id": "65bc6e8c-87b3-4435-90f2-75b9aea022e1",
   "metadata": {},
   "source": [
    ":::{glue:figure} fig:08-lin-reg1\n",
    ":name: fig:08-lin-reg1\n",
    "\n",
    "Scatter plot of sale price versus size with line of best fit for subset of the Sacramento housing data.\n",
    ":::"
   ]
  },
  {
   "cell_type": "markdown",
   "id": "78b0c172-4640-4b7a-bad8-a540839e587f",
   "metadata": {},
   "source": [
    "The equation for the straight line is: \\index{straight line!equation}\n",
    "\n",
    "$$\\text{house sale price} = \\beta_0 + \\beta_1 \\cdot (\\text{house size}),$$\n",
    "where\n",
    "\n",
    "- $\\beta_0$ is the *vertical intercept* of the line (the price when house size is 0)\n",
    "- $\\beta_1$ is the *slope* of the line (how quickly the price increases as you increase house size)\n",
    "\n",
    "Therefore using the data to find the line of best fit is equivalent to finding coefficients \n",
    "$\\beta_0$ and $\\beta_1$ that *parametrize* (correspond to) the line of best fit.\n",
    "Now of course, in this particular problem, the idea of a 0 square-foot house is a bit silly;\n",
    "but you can think of $\\beta_0$ here as the \"base price,\" and \n",
    "$\\beta_1$ as the increase in price for each square foot of space.\n",
    "Let's push this thought even further: what would happen in the equation for the line if you \n",
    "tried to evaluate the price of a house with size 6 *million* square feet?\n",
    "Or what about *negative* 2,000 square feet? As it turns out, nothing in the formula breaks; linear\n",
    "regression will happily make predictions for crazy predictor values if you ask it to. But even though\n",
    "you *can* make these wild predictions, you shouldn't. You should only make predictions roughly within\n",
    "the range of your original data, and perhaps a bit beyond it only if it makes sense. For example,\n",
    "the data in {numref}`fig:08-lin-reg1` only reaches around 600 square feet on the low end, but \n",
    "it would probably be reasonable to use the linear regression model to make a prediction at 500 square feet, say.\n",
    "\n",
    "Back to the example! Once we have the coefficients $\\beta_0$ and $\\beta_1$, we can use the equation\n",
    "above to evaluate the predicted sale price given the value we have for the\n",
    "predictor variable&mdash;here 2,000 square feet. {numref}`fig:08-lin-reg2` demonstrates this process."
   ]
  },
  {
   "cell_type": "code",
   "execution_count": 4,
   "id": "af06ad24-2568-4593-aed1-25e4ba85ee3b",
   "metadata": {
    "tags": [
     "remove-cell"
    ]
   },
   "outputs": [
    {
     "data": {
      "text/html": [
       "\n",
       "<div id=\"altair-viz-813bef0114194d598cf97f97af3077b2\"></div>\n",
       "<script type=\"text/javascript\">\n",
       "  var VEGA_DEBUG = (typeof VEGA_DEBUG == \"undefined\") ? {} : VEGA_DEBUG;\n",
       "  (function(spec, embedOpt){\n",
       "    let outputDiv = document.currentScript.previousElementSibling;\n",
       "    if (outputDiv.id !== \"altair-viz-813bef0114194d598cf97f97af3077b2\") {\n",
       "      outputDiv = document.getElementById(\"altair-viz-813bef0114194d598cf97f97af3077b2\");\n",
       "    }\n",
       "    const paths = {\n",
       "      \"vega\": \"https://cdn.jsdelivr.net/npm//vega@5?noext\",\n",
       "      \"vega-lib\": \"https://cdn.jsdelivr.net/npm//vega-lib?noext\",\n",
       "      \"vega-lite\": \"https://cdn.jsdelivr.net/npm//vega-lite@4.17.0?noext\",\n",
       "      \"vega-embed\": \"https://cdn.jsdelivr.net/npm//vega-embed@6?noext\",\n",
       "    };\n",
       "\n",
       "    function maybeLoadScript(lib, version) {\n",
       "      var key = `${lib.replace(\"-\", \"\")}_version`;\n",
       "      return (VEGA_DEBUG[key] == version) ?\n",
       "        Promise.resolve(paths[lib]) :\n",
       "        new Promise(function(resolve, reject) {\n",
       "          var s = document.createElement('script');\n",
       "          document.getElementsByTagName(\"head\")[0].appendChild(s);\n",
       "          s.async = true;\n",
       "          s.onload = () => {\n",
       "            VEGA_DEBUG[key] = version;\n",
       "            return resolve(paths[lib]);\n",
       "          };\n",
       "          s.onerror = () => reject(`Error loading script: ${paths[lib]}`);\n",
       "          s.src = paths[lib];\n",
       "        });\n",
       "    }\n",
       "\n",
       "    function showError(err) {\n",
       "      outputDiv.innerHTML = `<div class=\"error\" style=\"color:red;\">${err}</div>`;\n",
       "      throw err;\n",
       "    }\n",
       "\n",
       "    function displayChart(vegaEmbed) {\n",
       "      vegaEmbed(outputDiv, spec, embedOpt)\n",
       "        .catch(err => showError(`Javascript Error: ${err.message}<br>This usually means there's a typo in your chart specification. See the javascript console for the full traceback.`));\n",
       "    }\n",
       "\n",
       "    if(typeof define === \"function\" && define.amd) {\n",
       "      requirejs.config({paths});\n",
       "      require([\"vega-embed\"], displayChart, err => showError(`Error loading script: ${err.message}`));\n",
       "    } else {\n",
       "      maybeLoadScript(\"vega\", \"5\")\n",
       "        .then(() => maybeLoadScript(\"vega-lite\", \"4.17.0\"))\n",
       "        .then(() => maybeLoadScript(\"vega-embed\", \"6\"))\n",
       "        .catch(showError)\n",
       "        .then(() => displayChart(vegaEmbed));\n",
       "    }\n",
       "  })({\"config\": {\"view\": {\"continuousWidth\": 400, \"continuousHeight\": 300}}, \"layer\": [{\"mark\": {\"type\": \"circle\", \"color\": \"black\"}, \"encoding\": {\"x\": {\"field\": \"sqft\", \"scale\": {\"zero\": false}, \"title\": \"House size (square feet)\", \"type\": \"quantitative\"}, \"y\": {\"axis\": {\"format\": \"$,.0f\"}, \"field\": \"price\", \"scale\": {\"zero\": false}, \"title\": \"Price (USD)\", \"type\": \"quantitative\"}}}, {\"mark\": \"line\", \"encoding\": {\"x\": {\"field\": \"sqft\", \"scale\": {\"zero\": false}, \"title\": \"House size (square feet)\", \"type\": \"quantitative\"}, \"y\": {\"axis\": {\"format\": \"$,.0f\"}, \"field\": \"price\", \"scale\": {\"zero\": false}, \"title\": \"Price (USD)\", \"type\": \"quantitative\"}}, \"transform\": [{\"on\": \"sqft\", \"regression\": \"price\"}]}, {\"data\": {\"name\": \"data-dede3f53429ab08afa6de2a4430fc887\"}, \"mark\": {\"type\": \"rule\", \"strokeDash\": [2, 4]}, \"encoding\": {\"x\": {\"field\": \"x\", \"type\": \"quantitative\"}}}, {\"data\": {\"name\": \"data-55421730bd70617d44503cfef93a70d9\"}, \"mark\": {\"type\": \"circle\", \"color\": \"red\", \"size\": 100}, \"encoding\": {\"x\": {\"field\": \"x\", \"type\": \"quantitative\"}, \"y\": {\"field\": \"y\", \"type\": \"quantitative\"}}}, {\"data\": {\"name\": \"data-5c02433322b2d36cf7dcb0b164409dca\"}, \"mark\": {\"type\": \"text\", \"dy\": -5, \"size\": 15}, \"encoding\": {\"text\": {\"field\": \"prediction\", \"type\": \"nominal\"}, \"x\": {\"field\": \"x\", \"type\": \"quantitative\"}, \"y\": {\"field\": \"y\", \"type\": \"quantitative\"}}}], \"data\": {\"name\": \"data-dd70ea120b69e4d2199dadb4d59509b6\"}, \"$schema\": \"https://vega.github.io/schema/vega-lite/v4.17.0.json\", \"datasets\": {\"data-dd70ea120b69e4d2199dadb4d59509b6\": [{\"city\": \"SACRAMENTO\", \"zip\": \"z95829\", \"beds\": 3, \"baths\": 2.0, \"sqft\": 2170, \"type\": \"Residential\", \"price\": 257729, \"latitude\": 38.45967, \"longitude\": -121.360461}, {\"city\": \"SACRAMENTO\", \"zip\": \"z95835\", \"beds\": 3, \"baths\": 2.0, \"sqft\": 1686, \"type\": \"Residential\", \"price\": 239000, \"latitude\": 38.671556, \"longitude\": -121.520916}, {\"city\": \"ROSEVILLE\", \"zip\": \"z95678\", \"beds\": 3, \"baths\": 2.0, \"sqft\": 1174, \"type\": \"Residential\", \"price\": 180000, \"latitude\": 38.734136, \"longitude\": -121.299639}, {\"city\": \"EL_DORADO_HILLS\", \"zip\": \"z95762\", \"beds\": 5, \"baths\": 4.0, \"sqft\": 4091, \"type\": \"Residential\", \"price\": 508000, \"latitude\": 38.676131, \"longitude\": -121.038931}, {\"city\": \"SACRAMENTO\", \"zip\": \"z95842\", \"beds\": 5, \"baths\": 2.0, \"sqft\": 1712, \"type\": \"Residential\", \"price\": 168000, \"latitude\": 38.677003, \"longitude\": -121.354454}, {\"city\": \"FAIR_OAKS\", \"zip\": \"z95628\", \"beds\": 3, \"baths\": 1.0, \"sqft\": 960, \"type\": \"Residential\", \"price\": 185000, \"latitude\": 38.667254, \"longitude\": -121.240708}, {\"city\": \"ORANGEVALE\", \"zip\": \"z95662\", \"beds\": 3, \"baths\": 2.0, \"sqft\": 1294, \"type\": \"Residential\", \"price\": 191250, \"latitude\": 38.687006, \"longitude\": -121.254319}, {\"city\": \"SACRAMENTO\", \"zip\": \"z95842\", \"beds\": 2, \"baths\": 2.0, \"sqft\": 1134, \"type\": \"Condo\", \"price\": 110700, \"latitude\": 38.700051, \"longitude\": -121.351278}, {\"city\": \"SACRAMENTO\", \"zip\": \"z95838\", \"beds\": 2, \"baths\": 1.0, \"sqft\": 1011, \"type\": \"Residential\", \"price\": 70000, \"latitude\": 38.643978, \"longitude\": -121.449562}, {\"city\": \"SACRAMENTO\", \"zip\": \"z95824\", \"beds\": 2, \"baths\": 2.0, \"sqft\": 1139, \"type\": \"Residential\", \"price\": 93600, \"latitude\": 38.520469, \"longitude\": -121.458606}, {\"city\": \"ROSEVILLE\", \"zip\": \"z95747\", \"beds\": 3, \"baths\": 2.5, \"sqft\": 1829, \"type\": \"Residential\", \"price\": 306500, \"latitude\": 38.772771, \"longitude\": -121.364877}, {\"city\": \"SACRAMENTO\", \"zip\": \"z95823\", \"beds\": 4, \"baths\": 2.0, \"sqft\": 1472, \"type\": \"Residential\", \"price\": 148750, \"latitude\": 38.479553, \"longitude\": -121.463317}, {\"city\": \"SACRAMENTO\", \"zip\": \"z95819\", \"beds\": 3, \"baths\": 1.0, \"sqft\": 1108, \"type\": \"Residential\", \"price\": 339000, \"latitude\": 38.563805, \"longitude\": -121.436395}, {\"city\": \"SACRAMENTO\", \"zip\": \"z95825\", \"beds\": 3, \"baths\": 1.0, \"sqft\": 1520, \"type\": \"Residential\", \"price\": 255000, \"latitude\": 38.599449, \"longitude\": -121.400305}, {\"city\": \"ELVERTA\", \"zip\": \"z95626\", \"beds\": 3, \"baths\": 2.0, \"sqft\": 1080, \"type\": \"Residential\", \"price\": 126000, \"latitude\": 38.717976, \"longitude\": -121.407684}, {\"city\": \"EL_DORADO_HILLS\", \"zip\": \"z95762\", \"beds\": 3, \"baths\": 2.0, \"sqft\": 2129, \"type\": \"Residential\", \"price\": 460000, \"latitude\": 38.668239, \"longitude\": -121.064437}, {\"city\": \"SACRAMENTO\", \"zip\": \"z95838\", \"beds\": 4, \"baths\": 2.0, \"sqft\": 1799, \"type\": \"Residential\", \"price\": 205000, \"latitude\": 38.655887, \"longitude\": -121.446119}, {\"city\": \"SACRAMENTO\", \"zip\": \"z95835\", \"beds\": 5, \"baths\": 3.0, \"sqft\": 3599, \"type\": \"Residential\", \"price\": 381300, \"latitude\": 38.677126, \"longitude\": -121.500519}, {\"city\": \"CAMERON_PARK\", \"zip\": \"z95682\", \"beds\": 2, \"baths\": 1.5, \"sqft\": 1376, \"type\": \"Residential\", \"price\": 210000, \"latitude\": 38.69437, \"longitude\": -120.996602}, {\"city\": \"SACRAMENTO\", \"zip\": \"z95815\", \"beds\": 3, \"baths\": 1.0, \"sqft\": 696, \"type\": \"Residential\", \"price\": 121725, \"latitude\": 38.613103, \"longitude\": -121.444085}, {\"city\": \"CARMICHAEL\", \"zip\": \"z95608\", \"beds\": 3, \"baths\": 2.0, \"sqft\": 1245, \"type\": \"Condo\", \"price\": 139500, \"latitude\": 38.628563, \"longitude\": -121.328297}, {\"city\": \"ELK_GROVE\", \"zip\": \"z95757\", \"beds\": 5, \"baths\": 3.5, \"sqft\": 2724, \"type\": \"Residential\", \"price\": 383000, \"latitude\": 38.381102, \"longitude\": -121.42901}, {\"city\": \"FAIR_OAKS\", \"zip\": \"z95628\", \"beds\": 3, \"baths\": 2.0, \"sqft\": 3173, \"type\": \"Residential\", \"price\": 525000, \"latitude\": 38.650735, \"longitude\": -121.258628}, {\"city\": \"CITRUS_HEIGHTS\", \"zip\": \"z95621\", \"beds\": 3, \"baths\": 2.0, \"sqft\": 1118, \"type\": \"Residential\", \"price\": 122000, \"latitude\": 38.707851, \"longitude\": -121.320707}, {\"city\": \"CITRUS_HEIGHTS\", \"zip\": \"z95610\", \"beds\": 3, \"baths\": 2.0, \"sqft\": 1882, \"type\": \"Residential\", \"price\": 219000, \"latitude\": 38.715423, \"longitude\": -121.246743}, {\"city\": \"SACRAMENTO\", \"zip\": \"z95834\", \"beds\": 3, \"baths\": 2.0, \"sqft\": 1672, \"type\": \"Condo\", \"price\": 265000, \"latitude\": 38.648879, \"longitude\": -121.544023}, {\"city\": \"SACRAMENTO\", \"zip\": \"z95842\", \"beds\": 2, \"baths\": 1.0, \"sqft\": 924, \"type\": \"Condo\", \"price\": 150454, \"latitude\": 38.672567, \"longitude\": -121.356754}, {\"city\": \"ANTELOPE\", \"zip\": \"z95843\", \"beds\": 3, \"baths\": 2.0, \"sqft\": 1830, \"type\": \"Residential\", \"price\": 254172, \"latitude\": 38.710221, \"longitude\": -121.341707}, {\"city\": \"SACRAMENTO\", \"zip\": \"z95820\", \"beds\": 2, \"baths\": 1.0, \"sqft\": 722, \"type\": \"Residential\", \"price\": 145000, \"latitude\": 38.532727, \"longitude\": -121.470783}, {\"city\": \"SACRAMENTO\", \"zip\": \"z95820\", \"beds\": 3, \"baths\": 2.0, \"sqft\": 1212, \"type\": \"Residential\", \"price\": 228327, \"latitude\": 38.534827, \"longitude\": -121.412545}], \"data-dede3f53429ab08afa6de2a4430fc887\": [{\"x\": 2000}], \"data-55421730bd70617d44503cfef93a70d9\": [{\"x\": 2000, \"y\": 276027.1395231306}], \"data-5c02433322b2d36cf7dcb0b164409dca\": [{\"x\": 2350, \"y\": 235027.1395231306, \"prediction\": \"$276,027\"}]}}, {\"mode\": \"vega-lite\"});\n",
       "</script>"
      ],
      "text/plain": [
       "alt.LayerChart(...)"
      ]
     },
     "execution_count": 4,
     "metadata": {},
     "output_type": "execute_result"
    }
   ],
   "source": [
    "lm = LinearRegression()\n",
    "lm.fit(small_sacramento[[\"sqft\"]], small_sacramento[[\"price\"]])\n",
    "prediction = float(lm.predict(pd.DataFrame({\"sqft\": [2000]})))\n",
    "\n",
    "# the vertical dotted line\n",
    "line_df = pd.DataFrame({\"x\": [2000]})\n",
    "rule = alt.Chart(line_df).mark_rule(strokeDash=[2, 4]).encode(x=\"x\")\n",
    "\n",
    "# the red point\n",
    "point_df = pd.DataFrame({\"x\": [2000], \"y\": [prediction]})\n",
    "point = alt.Chart(point_df).mark_circle(color=\"red\", size=100).encode(x=\"x\", y=\"y\")\n",
    "\n",
    "# overlay all plots\n",
    "small_plot_2000_pred = (\n",
    "    small_plot\n",
    "    + rule\n",
    "    + point\n",
    "    # add the text\n",
    "    + alt.Chart(\n",
    "        pd.DataFrame(\n",
    "            {\n",
    "                \"x\": [2350],\n",
    "                \"y\": [prediction - 41000],\n",
    "                \"prediction\": [\"$\" + \"{0:,.0f}\".format(prediction)],\n",
    "            }\n",
    "        )\n",
    "    )\n",
    "    .mark_text(dy=-5, size=15)\n",
    "    .encode(x=\"x\", y=\"y\", text=\"prediction\")\n",
    ")\n",
    "\n",
    "small_plot_2000_pred"
   ]
  },
  {
   "cell_type": "code",
   "execution_count": 5,
   "id": "387e9ec1-c63b-4a0d-bedf-07457eb24068",
   "metadata": {
    "tags": [
     "remove-cell"
    ]
   },
   "outputs": [
    {
     "data": {
      "text/html": [
       "\n",
       "<div id=\"altair-viz-81fb678a6ae74e4285a008c2e3547d32\"></div>\n",
       "<script type=\"text/javascript\">\n",
       "  var VEGA_DEBUG = (typeof VEGA_DEBUG == \"undefined\") ? {} : VEGA_DEBUG;\n",
       "  (function(spec, embedOpt){\n",
       "    let outputDiv = document.currentScript.previousElementSibling;\n",
       "    if (outputDiv.id !== \"altair-viz-81fb678a6ae74e4285a008c2e3547d32\") {\n",
       "      outputDiv = document.getElementById(\"altair-viz-81fb678a6ae74e4285a008c2e3547d32\");\n",
       "    }\n",
       "    const paths = {\n",
       "      \"vega\": \"https://cdn.jsdelivr.net/npm//vega@5?noext\",\n",
       "      \"vega-lib\": \"https://cdn.jsdelivr.net/npm//vega-lib?noext\",\n",
       "      \"vega-lite\": \"https://cdn.jsdelivr.net/npm//vega-lite@4.17.0?noext\",\n",
       "      \"vega-embed\": \"https://cdn.jsdelivr.net/npm//vega-embed@6?noext\",\n",
       "    };\n",
       "\n",
       "    function maybeLoadScript(lib, version) {\n",
       "      var key = `${lib.replace(\"-\", \"\")}_version`;\n",
       "      return (VEGA_DEBUG[key] == version) ?\n",
       "        Promise.resolve(paths[lib]) :\n",
       "        new Promise(function(resolve, reject) {\n",
       "          var s = document.createElement('script');\n",
       "          document.getElementsByTagName(\"head\")[0].appendChild(s);\n",
       "          s.async = true;\n",
       "          s.onload = () => {\n",
       "            VEGA_DEBUG[key] = version;\n",
       "            return resolve(paths[lib]);\n",
       "          };\n",
       "          s.onerror = () => reject(`Error loading script: ${paths[lib]}`);\n",
       "          s.src = paths[lib];\n",
       "        });\n",
       "    }\n",
       "\n",
       "    function showError(err) {\n",
       "      outputDiv.innerHTML = `<div class=\"error\" style=\"color:red;\">${err}</div>`;\n",
       "      throw err;\n",
       "    }\n",
       "\n",
       "    function displayChart(vegaEmbed) {\n",
       "      vegaEmbed(outputDiv, spec, embedOpt)\n",
       "        .catch(err => showError(`Javascript Error: ${err.message}<br>This usually means there's a typo in your chart specification. See the javascript console for the full traceback.`));\n",
       "    }\n",
       "\n",
       "    if(typeof define === \"function\" && define.amd) {\n",
       "      requirejs.config({paths});\n",
       "      require([\"vega-embed\"], displayChart, err => showError(`Error loading script: ${err.message}`));\n",
       "    } else {\n",
       "      maybeLoadScript(\"vega\", \"5\")\n",
       "        .then(() => maybeLoadScript(\"vega-lite\", \"4.17.0\"))\n",
       "        .then(() => maybeLoadScript(\"vega-embed\", \"6\"))\n",
       "        .catch(showError)\n",
       "        .then(() => displayChart(vegaEmbed));\n",
       "    }\n",
       "  })({\"config\": {\"view\": {\"continuousWidth\": 400, \"continuousHeight\": 300}}, \"layer\": [{\"mark\": {\"type\": \"circle\", \"color\": \"black\"}, \"encoding\": {\"x\": {\"field\": \"sqft\", \"scale\": {\"zero\": false}, \"title\": \"House size (square feet)\", \"type\": \"quantitative\"}, \"y\": {\"axis\": {\"format\": \"$,.0f\"}, \"field\": \"price\", \"scale\": {\"zero\": false}, \"title\": \"Price (USD)\", \"type\": \"quantitative\"}}}, {\"mark\": \"line\", \"encoding\": {\"x\": {\"field\": \"sqft\", \"scale\": {\"zero\": false}, \"title\": \"House size (square feet)\", \"type\": \"quantitative\"}, \"y\": {\"axis\": {\"format\": \"$,.0f\"}, \"field\": \"price\", \"scale\": {\"zero\": false}, \"title\": \"Price (USD)\", \"type\": \"quantitative\"}}, \"transform\": [{\"on\": \"sqft\", \"regression\": \"price\"}]}, {\"data\": {\"name\": \"data-dede3f53429ab08afa6de2a4430fc887\"}, \"mark\": {\"type\": \"rule\", \"strokeDash\": [2, 4]}, \"encoding\": {\"x\": {\"field\": \"x\", \"type\": \"quantitative\"}}}, {\"data\": {\"name\": \"data-55421730bd70617d44503cfef93a70d9\"}, \"mark\": {\"type\": \"circle\", \"color\": \"red\", \"size\": 100}, \"encoding\": {\"x\": {\"field\": \"x\", \"type\": \"quantitative\"}, \"y\": {\"field\": \"y\", \"type\": \"quantitative\"}}}, {\"data\": {\"name\": \"data-5c02433322b2d36cf7dcb0b164409dca\"}, \"mark\": {\"type\": \"text\", \"dy\": -5, \"size\": 15}, \"encoding\": {\"text\": {\"field\": \"prediction\", \"type\": \"nominal\"}, \"x\": {\"field\": \"x\", \"type\": \"quantitative\"}, \"y\": {\"field\": \"y\", \"type\": \"quantitative\"}}}], \"data\": {\"name\": \"data-dd70ea120b69e4d2199dadb4d59509b6\"}, \"$schema\": \"https://vega.github.io/schema/vega-lite/v4.17.0.json\", \"datasets\": {\"data-dd70ea120b69e4d2199dadb4d59509b6\": [{\"city\": \"SACRAMENTO\", \"zip\": \"z95829\", \"beds\": 3, \"baths\": 2.0, \"sqft\": 2170, \"type\": \"Residential\", \"price\": 257729, \"latitude\": 38.45967, \"longitude\": -121.360461}, {\"city\": \"SACRAMENTO\", \"zip\": \"z95835\", \"beds\": 3, \"baths\": 2.0, \"sqft\": 1686, \"type\": \"Residential\", \"price\": 239000, \"latitude\": 38.671556, \"longitude\": -121.520916}, {\"city\": \"ROSEVILLE\", \"zip\": \"z95678\", \"beds\": 3, \"baths\": 2.0, \"sqft\": 1174, \"type\": \"Residential\", \"price\": 180000, \"latitude\": 38.734136, \"longitude\": -121.299639}, {\"city\": \"EL_DORADO_HILLS\", \"zip\": \"z95762\", \"beds\": 5, \"baths\": 4.0, \"sqft\": 4091, \"type\": \"Residential\", \"price\": 508000, \"latitude\": 38.676131, \"longitude\": -121.038931}, {\"city\": \"SACRAMENTO\", \"zip\": \"z95842\", \"beds\": 5, \"baths\": 2.0, \"sqft\": 1712, \"type\": \"Residential\", \"price\": 168000, \"latitude\": 38.677003, \"longitude\": -121.354454}, {\"city\": \"FAIR_OAKS\", \"zip\": \"z95628\", \"beds\": 3, \"baths\": 1.0, \"sqft\": 960, \"type\": \"Residential\", \"price\": 185000, \"latitude\": 38.667254, \"longitude\": -121.240708}, {\"city\": \"ORANGEVALE\", \"zip\": \"z95662\", \"beds\": 3, \"baths\": 2.0, \"sqft\": 1294, \"type\": \"Residential\", \"price\": 191250, \"latitude\": 38.687006, \"longitude\": -121.254319}, {\"city\": \"SACRAMENTO\", \"zip\": \"z95842\", \"beds\": 2, \"baths\": 2.0, \"sqft\": 1134, \"type\": \"Condo\", \"price\": 110700, \"latitude\": 38.700051, \"longitude\": -121.351278}, {\"city\": \"SACRAMENTO\", \"zip\": \"z95838\", \"beds\": 2, \"baths\": 1.0, \"sqft\": 1011, \"type\": \"Residential\", \"price\": 70000, \"latitude\": 38.643978, \"longitude\": -121.449562}, {\"city\": \"SACRAMENTO\", \"zip\": \"z95824\", \"beds\": 2, \"baths\": 2.0, \"sqft\": 1139, \"type\": \"Residential\", \"price\": 93600, \"latitude\": 38.520469, \"longitude\": -121.458606}, {\"city\": \"ROSEVILLE\", \"zip\": \"z95747\", \"beds\": 3, \"baths\": 2.5, \"sqft\": 1829, \"type\": \"Residential\", \"price\": 306500, \"latitude\": 38.772771, \"longitude\": -121.364877}, {\"city\": \"SACRAMENTO\", \"zip\": \"z95823\", \"beds\": 4, \"baths\": 2.0, \"sqft\": 1472, \"type\": \"Residential\", \"price\": 148750, \"latitude\": 38.479553, \"longitude\": -121.463317}, {\"city\": \"SACRAMENTO\", \"zip\": \"z95819\", \"beds\": 3, \"baths\": 1.0, \"sqft\": 1108, \"type\": \"Residential\", \"price\": 339000, \"latitude\": 38.563805, \"longitude\": -121.436395}, {\"city\": \"SACRAMENTO\", \"zip\": \"z95825\", \"beds\": 3, \"baths\": 1.0, \"sqft\": 1520, \"type\": \"Residential\", \"price\": 255000, \"latitude\": 38.599449, \"longitude\": -121.400305}, {\"city\": \"ELVERTA\", \"zip\": \"z95626\", \"beds\": 3, \"baths\": 2.0, \"sqft\": 1080, \"type\": \"Residential\", \"price\": 126000, \"latitude\": 38.717976, \"longitude\": -121.407684}, {\"city\": \"EL_DORADO_HILLS\", \"zip\": \"z95762\", \"beds\": 3, \"baths\": 2.0, \"sqft\": 2129, \"type\": \"Residential\", \"price\": 460000, \"latitude\": 38.668239, \"longitude\": -121.064437}, {\"city\": \"SACRAMENTO\", \"zip\": \"z95838\", \"beds\": 4, \"baths\": 2.0, \"sqft\": 1799, \"type\": \"Residential\", \"price\": 205000, \"latitude\": 38.655887, \"longitude\": -121.446119}, {\"city\": \"SACRAMENTO\", \"zip\": \"z95835\", \"beds\": 5, \"baths\": 3.0, \"sqft\": 3599, \"type\": \"Residential\", \"price\": 381300, \"latitude\": 38.677126, \"longitude\": -121.500519}, {\"city\": \"CAMERON_PARK\", \"zip\": \"z95682\", \"beds\": 2, \"baths\": 1.5, \"sqft\": 1376, \"type\": \"Residential\", \"price\": 210000, \"latitude\": 38.69437, \"longitude\": -120.996602}, {\"city\": \"SACRAMENTO\", \"zip\": \"z95815\", \"beds\": 3, \"baths\": 1.0, \"sqft\": 696, \"type\": \"Residential\", \"price\": 121725, \"latitude\": 38.613103, \"longitude\": -121.444085}, {\"city\": \"CARMICHAEL\", \"zip\": \"z95608\", \"beds\": 3, \"baths\": 2.0, \"sqft\": 1245, \"type\": \"Condo\", \"price\": 139500, \"latitude\": 38.628563, \"longitude\": -121.328297}, {\"city\": \"ELK_GROVE\", \"zip\": \"z95757\", \"beds\": 5, \"baths\": 3.5, \"sqft\": 2724, \"type\": \"Residential\", \"price\": 383000, \"latitude\": 38.381102, \"longitude\": -121.42901}, {\"city\": \"FAIR_OAKS\", \"zip\": \"z95628\", \"beds\": 3, \"baths\": 2.0, \"sqft\": 3173, \"type\": \"Residential\", \"price\": 525000, \"latitude\": 38.650735, \"longitude\": -121.258628}, {\"city\": \"CITRUS_HEIGHTS\", \"zip\": \"z95621\", \"beds\": 3, \"baths\": 2.0, \"sqft\": 1118, \"type\": \"Residential\", \"price\": 122000, \"latitude\": 38.707851, \"longitude\": -121.320707}, {\"city\": \"CITRUS_HEIGHTS\", \"zip\": \"z95610\", \"beds\": 3, \"baths\": 2.0, \"sqft\": 1882, \"type\": \"Residential\", \"price\": 219000, \"latitude\": 38.715423, \"longitude\": -121.246743}, {\"city\": \"SACRAMENTO\", \"zip\": \"z95834\", \"beds\": 3, \"baths\": 2.0, \"sqft\": 1672, \"type\": \"Condo\", \"price\": 265000, \"latitude\": 38.648879, \"longitude\": -121.544023}, {\"city\": \"SACRAMENTO\", \"zip\": \"z95842\", \"beds\": 2, \"baths\": 1.0, \"sqft\": 924, \"type\": \"Condo\", \"price\": 150454, \"latitude\": 38.672567, \"longitude\": -121.356754}, {\"city\": \"ANTELOPE\", \"zip\": \"z95843\", \"beds\": 3, \"baths\": 2.0, \"sqft\": 1830, \"type\": \"Residential\", \"price\": 254172, \"latitude\": 38.710221, \"longitude\": -121.341707}, {\"city\": \"SACRAMENTO\", \"zip\": \"z95820\", \"beds\": 2, \"baths\": 1.0, \"sqft\": 722, \"type\": \"Residential\", \"price\": 145000, \"latitude\": 38.532727, \"longitude\": -121.470783}, {\"city\": \"SACRAMENTO\", \"zip\": \"z95820\", \"beds\": 3, \"baths\": 2.0, \"sqft\": 1212, \"type\": \"Residential\", \"price\": 228327, \"latitude\": 38.534827, \"longitude\": -121.412545}], \"data-dede3f53429ab08afa6de2a4430fc887\": [{\"x\": 2000}], \"data-55421730bd70617d44503cfef93a70d9\": [{\"x\": 2000, \"y\": 276027.1395231306}], \"data-5c02433322b2d36cf7dcb0b164409dca\": [{\"x\": 2350, \"y\": 235027.1395231306, \"prediction\": \"$276,027\"}]}}, {\"mode\": \"vega-lite\"});\n",
       "</script>"
      ],
      "text/plain": [
       "alt.LayerChart(...)"
      ]
     },
     "metadata": {
      "scrapbook": {
       "mime_prefix": "",
       "name": "fig:08-lin-reg2"
      }
     },
     "output_type": "display_data"
    },
    {
     "data": {
      "text/plain": [
       "276027"
      ]
     },
     "metadata": {
      "scrapbook": {
       "mime_prefix": "",
       "name": "pred_2000"
      }
     },
     "output_type": "display_data"
    }
   ],
   "source": [
    "glue(\"fig:08-lin-reg2\", small_plot_2000_pred)\n",
    "glue(\"pred_2000\", int(prediction))"
   ]
  },
  {
   "cell_type": "markdown",
   "id": "d662c38a-072b-4bc1-9332-26dc484b7f66",
   "metadata": {},
   "source": [
    ":::{glue:figure} fig:08-lin-reg2\n",
    ":name: fig:08-lin-reg2\n",
    "\n",
    "Scatter plot of sale price versus size with line of best fit and a red dot at the predicted sale price for a 2,000 square-foot home.\n",
    ":::"
   ]
  },
  {
   "cell_type": "markdown",
   "id": "06c25268-fedb-4c41-b15d-2133a4fda392",
   "metadata": {},
   "source": [
    "By using simple linear regression on this small data set to predict the sale price\n",
    "for a 2,000 square-foot house, we get a predicted value of \n",
    "\\${glue:}`pred_2000`. But wait a minute...how\n",
    "exactly does simple linear regression choose the line of best fit? Many\n",
    "different lines could be drawn through the data points. \n",
    "Some plausible examples are shown in {numref}`fig:08-several-lines`."
   ]
  },
  {
   "cell_type": "code",
   "execution_count": 6,
   "id": "9151db88-6551-4bb3-8cbc-58db9447309a",
   "metadata": {
    "tags": [
     "remove-cell"
    ]
   },
   "outputs": [
    {
     "data": {
      "text/html": [
       "\n",
       "<div id=\"altair-viz-78ea4fe8fc5740cfb7e76d4d3aa90618\"></div>\n",
       "<script type=\"text/javascript\">\n",
       "  var VEGA_DEBUG = (typeof VEGA_DEBUG == \"undefined\") ? {} : VEGA_DEBUG;\n",
       "  (function(spec, embedOpt){\n",
       "    let outputDiv = document.currentScript.previousElementSibling;\n",
       "    if (outputDiv.id !== \"altair-viz-78ea4fe8fc5740cfb7e76d4d3aa90618\") {\n",
       "      outputDiv = document.getElementById(\"altair-viz-78ea4fe8fc5740cfb7e76d4d3aa90618\");\n",
       "    }\n",
       "    const paths = {\n",
       "      \"vega\": \"https://cdn.jsdelivr.net/npm//vega@5?noext\",\n",
       "      \"vega-lib\": \"https://cdn.jsdelivr.net/npm//vega-lib?noext\",\n",
       "      \"vega-lite\": \"https://cdn.jsdelivr.net/npm//vega-lite@4.17.0?noext\",\n",
       "      \"vega-embed\": \"https://cdn.jsdelivr.net/npm//vega-embed@6?noext\",\n",
       "    };\n",
       "\n",
       "    function maybeLoadScript(lib, version) {\n",
       "      var key = `${lib.replace(\"-\", \"\")}_version`;\n",
       "      return (VEGA_DEBUG[key] == version) ?\n",
       "        Promise.resolve(paths[lib]) :\n",
       "        new Promise(function(resolve, reject) {\n",
       "          var s = document.createElement('script');\n",
       "          document.getElementsByTagName(\"head\")[0].appendChild(s);\n",
       "          s.async = true;\n",
       "          s.onload = () => {\n",
       "            VEGA_DEBUG[key] = version;\n",
       "            return resolve(paths[lib]);\n",
       "          };\n",
       "          s.onerror = () => reject(`Error loading script: ${paths[lib]}`);\n",
       "          s.src = paths[lib];\n",
       "        });\n",
       "    }\n",
       "\n",
       "    function showError(err) {\n",
       "      outputDiv.innerHTML = `<div class=\"error\" style=\"color:red;\">${err}</div>`;\n",
       "      throw err;\n",
       "    }\n",
       "\n",
       "    function displayChart(vegaEmbed) {\n",
       "      vegaEmbed(outputDiv, spec, embedOpt)\n",
       "        .catch(err => showError(`Javascript Error: ${err.message}<br>This usually means there's a typo in your chart specification. See the javascript console for the full traceback.`));\n",
       "    }\n",
       "\n",
       "    if(typeof define === \"function\" && define.amd) {\n",
       "      requirejs.config({paths});\n",
       "      require([\"vega-embed\"], displayChart, err => showError(`Error loading script: ${err.message}`));\n",
       "    } else {\n",
       "      maybeLoadScript(\"vega\", \"5\")\n",
       "        .then(() => maybeLoadScript(\"vega-lite\", \"4.17.0\"))\n",
       "        .then(() => maybeLoadScript(\"vega-embed\", \"6\"))\n",
       "        .catch(showError)\n",
       "        .then(() => displayChart(vegaEmbed));\n",
       "    }\n",
       "  })({\"config\": {\"view\": {\"continuousWidth\": 400, \"continuousHeight\": 300}}, \"layer\": [{\"mark\": {\"type\": \"circle\", \"color\": \"black\"}, \"encoding\": {\"x\": {\"field\": \"sqft\", \"scale\": {\"zero\": false}, \"title\": \"House size (square feet)\", \"type\": \"quantitative\"}, \"y\": {\"axis\": {\"format\": \"$,.0f\"}, \"field\": \"price\", \"scale\": {\"zero\": false}, \"title\": \"Price (USD)\", \"type\": \"quantitative\"}}}, {\"mark\": \"line\", \"encoding\": {\"x\": {\"field\": \"sqft\", \"scale\": {\"zero\": false}, \"title\": \"House size (square feet)\", \"type\": \"quantitative\"}, \"y\": {\"axis\": {\"format\": \"$,.0f\"}, \"field\": \"price\", \"scale\": {\"zero\": false}, \"title\": \"Price (USD)\", \"type\": \"quantitative\"}}, \"transform\": [{\"on\": \"sqft\", \"regression\": \"price\"}]}, {\"data\": {\"name\": \"data-7625a72922e8eb8d9f4a6215c1cb69db\"}, \"mark\": {\"type\": \"line\", \"color\": \"green\"}, \"encoding\": {\"x\": {\"field\": \"x\", \"type\": \"quantitative\"}, \"y\": {\"field\": \"y\", \"type\": \"quantitative\"}}}, {\"data\": {\"name\": \"data-7e87ec4fcfa14bc107c49e24bb26d2be\"}, \"mark\": {\"type\": \"line\", \"color\": \"purple\"}, \"encoding\": {\"x\": {\"field\": \"x\", \"type\": \"quantitative\"}, \"y\": {\"field\": \"y\", \"type\": \"quantitative\"}}}, {\"data\": {\"name\": \"data-d8da1658b8aab1a17d932e0539f00c8f\"}, \"mark\": {\"type\": \"line\", \"color\": \"red\"}, \"encoding\": {\"x\": {\"field\": \"x\", \"type\": \"quantitative\"}, \"y\": {\"field\": \"y\", \"type\": \"quantitative\"}}}], \"data\": {\"name\": \"data-dd70ea120b69e4d2199dadb4d59509b6\"}, \"$schema\": \"https://vega.github.io/schema/vega-lite/v4.17.0.json\", \"datasets\": {\"data-dd70ea120b69e4d2199dadb4d59509b6\": [{\"city\": \"SACRAMENTO\", \"zip\": \"z95829\", \"beds\": 3, \"baths\": 2.0, \"sqft\": 2170, \"type\": \"Residential\", \"price\": 257729, \"latitude\": 38.45967, \"longitude\": -121.360461}, {\"city\": \"SACRAMENTO\", \"zip\": \"z95835\", \"beds\": 3, \"baths\": 2.0, \"sqft\": 1686, \"type\": \"Residential\", \"price\": 239000, \"latitude\": 38.671556, \"longitude\": -121.520916}, {\"city\": \"ROSEVILLE\", \"zip\": \"z95678\", \"beds\": 3, \"baths\": 2.0, \"sqft\": 1174, \"type\": \"Residential\", \"price\": 180000, \"latitude\": 38.734136, \"longitude\": -121.299639}, {\"city\": \"EL_DORADO_HILLS\", \"zip\": \"z95762\", \"beds\": 5, \"baths\": 4.0, \"sqft\": 4091, \"type\": \"Residential\", \"price\": 508000, \"latitude\": 38.676131, \"longitude\": -121.038931}, {\"city\": \"SACRAMENTO\", \"zip\": \"z95842\", \"beds\": 5, \"baths\": 2.0, \"sqft\": 1712, \"type\": \"Residential\", \"price\": 168000, \"latitude\": 38.677003, \"longitude\": -121.354454}, {\"city\": \"FAIR_OAKS\", \"zip\": \"z95628\", \"beds\": 3, \"baths\": 1.0, \"sqft\": 960, \"type\": \"Residential\", \"price\": 185000, \"latitude\": 38.667254, \"longitude\": -121.240708}, {\"city\": \"ORANGEVALE\", \"zip\": \"z95662\", \"beds\": 3, \"baths\": 2.0, \"sqft\": 1294, \"type\": \"Residential\", \"price\": 191250, \"latitude\": 38.687006, \"longitude\": -121.254319}, {\"city\": \"SACRAMENTO\", \"zip\": \"z95842\", \"beds\": 2, \"baths\": 2.0, \"sqft\": 1134, \"type\": \"Condo\", \"price\": 110700, \"latitude\": 38.700051, \"longitude\": -121.351278}, {\"city\": \"SACRAMENTO\", \"zip\": \"z95838\", \"beds\": 2, \"baths\": 1.0, \"sqft\": 1011, \"type\": \"Residential\", \"price\": 70000, \"latitude\": 38.643978, \"longitude\": -121.449562}, {\"city\": \"SACRAMENTO\", \"zip\": \"z95824\", \"beds\": 2, \"baths\": 2.0, \"sqft\": 1139, \"type\": \"Residential\", \"price\": 93600, \"latitude\": 38.520469, \"longitude\": -121.458606}, {\"city\": \"ROSEVILLE\", \"zip\": \"z95747\", \"beds\": 3, \"baths\": 2.5, \"sqft\": 1829, \"type\": \"Residential\", \"price\": 306500, \"latitude\": 38.772771, \"longitude\": -121.364877}, {\"city\": \"SACRAMENTO\", \"zip\": \"z95823\", \"beds\": 4, \"baths\": 2.0, \"sqft\": 1472, \"type\": \"Residential\", \"price\": 148750, \"latitude\": 38.479553, \"longitude\": -121.463317}, {\"city\": \"SACRAMENTO\", \"zip\": \"z95819\", \"beds\": 3, \"baths\": 1.0, \"sqft\": 1108, \"type\": \"Residential\", \"price\": 339000, \"latitude\": 38.563805, \"longitude\": -121.436395}, {\"city\": \"SACRAMENTO\", \"zip\": \"z95825\", \"beds\": 3, \"baths\": 1.0, \"sqft\": 1520, \"type\": \"Residential\", \"price\": 255000, \"latitude\": 38.599449, \"longitude\": -121.400305}, {\"city\": \"ELVERTA\", \"zip\": \"z95626\", \"beds\": 3, \"baths\": 2.0, \"sqft\": 1080, \"type\": \"Residential\", \"price\": 126000, \"latitude\": 38.717976, \"longitude\": -121.407684}, {\"city\": \"EL_DORADO_HILLS\", \"zip\": \"z95762\", \"beds\": 3, \"baths\": 2.0, \"sqft\": 2129, \"type\": \"Residential\", \"price\": 460000, \"latitude\": 38.668239, \"longitude\": -121.064437}, {\"city\": \"SACRAMENTO\", \"zip\": \"z95838\", \"beds\": 4, \"baths\": 2.0, \"sqft\": 1799, \"type\": \"Residential\", \"price\": 205000, \"latitude\": 38.655887, \"longitude\": -121.446119}, {\"city\": \"SACRAMENTO\", \"zip\": \"z95835\", \"beds\": 5, \"baths\": 3.0, \"sqft\": 3599, \"type\": \"Residential\", \"price\": 381300, \"latitude\": 38.677126, \"longitude\": -121.500519}, {\"city\": \"CAMERON_PARK\", \"zip\": \"z95682\", \"beds\": 2, \"baths\": 1.5, \"sqft\": 1376, \"type\": \"Residential\", \"price\": 210000, \"latitude\": 38.69437, \"longitude\": -120.996602}, {\"city\": \"SACRAMENTO\", \"zip\": \"z95815\", \"beds\": 3, \"baths\": 1.0, \"sqft\": 696, \"type\": \"Residential\", \"price\": 121725, \"latitude\": 38.613103, \"longitude\": -121.444085}, {\"city\": \"CARMICHAEL\", \"zip\": \"z95608\", \"beds\": 3, \"baths\": 2.0, \"sqft\": 1245, \"type\": \"Condo\", \"price\": 139500, \"latitude\": 38.628563, \"longitude\": -121.328297}, {\"city\": \"ELK_GROVE\", \"zip\": \"z95757\", \"beds\": 5, \"baths\": 3.5, \"sqft\": 2724, \"type\": \"Residential\", \"price\": 383000, \"latitude\": 38.381102, \"longitude\": -121.42901}, {\"city\": \"FAIR_OAKS\", \"zip\": \"z95628\", \"beds\": 3, \"baths\": 2.0, \"sqft\": 3173, \"type\": \"Residential\", \"price\": 525000, \"latitude\": 38.650735, \"longitude\": -121.258628}, {\"city\": \"CITRUS_HEIGHTS\", \"zip\": \"z95621\", \"beds\": 3, \"baths\": 2.0, \"sqft\": 1118, \"type\": \"Residential\", \"price\": 122000, \"latitude\": 38.707851, \"longitude\": -121.320707}, {\"city\": \"CITRUS_HEIGHTS\", \"zip\": \"z95610\", \"beds\": 3, \"baths\": 2.0, \"sqft\": 1882, \"type\": \"Residential\", \"price\": 219000, \"latitude\": 38.715423, \"longitude\": -121.246743}, {\"city\": \"SACRAMENTO\", \"zip\": \"z95834\", \"beds\": 3, \"baths\": 2.0, \"sqft\": 1672, \"type\": \"Condo\", \"price\": 265000, \"latitude\": 38.648879, \"longitude\": -121.544023}, {\"city\": \"SACRAMENTO\", \"zip\": \"z95842\", \"beds\": 2, \"baths\": 1.0, \"sqft\": 924, \"type\": \"Condo\", \"price\": 150454, \"latitude\": 38.672567, \"longitude\": -121.356754}, {\"city\": \"ANTELOPE\", \"zip\": \"z95843\", \"beds\": 3, \"baths\": 2.0, \"sqft\": 1830, \"type\": \"Residential\", \"price\": 254172, \"latitude\": 38.710221, \"longitude\": -121.341707}, {\"city\": \"SACRAMENTO\", \"zip\": \"z95820\", \"beds\": 2, \"baths\": 1.0, \"sqft\": 722, \"type\": \"Residential\", \"price\": 145000, \"latitude\": 38.532727, \"longitude\": -121.470783}, {\"city\": \"SACRAMENTO\", \"zip\": \"z95820\", \"beds\": 3, \"baths\": 2.0, \"sqft\": 1212, \"type\": \"Residential\", \"price\": 228327, \"latitude\": 38.534827, \"longitude\": -121.412545}], \"data-7625a72922e8eb8d9f4a6215c1cb69db\": [{\"x\": 696, \"y\": 67697.76999999999}, {\"x\": 4091, \"y\": 712747.77}], \"data-7e87ec4fcfa14bc107c49e24bb26d2be\": [{\"x\": 696, \"y\": 114900}, {\"x\": 4091, \"y\": 709025}], \"data-d8da1658b8aab1a17d932e0539f00c8f\": [{\"x\": 696, \"y\": 46817.77}, {\"x\": 4091, \"y\": 590017.77}]}}, {\"mode\": \"vega-lite\"});\n",
       "</script>"
      ],
      "text/plain": [
       "alt.LayerChart(...)"
      ]
     },
     "execution_count": 6,
     "metadata": {},
     "output_type": "execute_result"
    }
   ],
   "source": [
    "intercept_l = [-64542.23, -6900, -64542.23]\n",
    "slope_l = [190, 175, 160]\n",
    "line_color_l = [\"green\", \"purple\", \"red\"]\n",
    "\n",
    "# set the domains (range of x values) of lines\n",
    "min_x = small_sacramento[\"sqft\"].min()\n",
    "max_x = small_sacramento[\"sqft\"].max()\n",
    "\n",
    "several_lines_plot = small_plot.copy()\n",
    "\n",
    "for i in range(len(slope_l)):\n",
    "    several_lines_plot += (\n",
    "        alt.Chart(\n",
    "            pd.DataFrame(\n",
    "                {\n",
    "                    \"x\": [min_x, max_x],\n",
    "                    \"y\": [\n",
    "                        intercept_l[i] + slope_l[i] * min_x,\n",
    "                        intercept_l[i] + slope_l[i] * max_x,\n",
    "                    ],\n",
    "                }\n",
    "            )\n",
    "        )\n",
    "        .mark_line(color=line_color_l[i])\n",
    "        .encode(x=alt.X(\"x\"), y=alt.Y(\"y\"))\n",
    "    )\n",
    "\n",
    "several_lines_plot"
   ]
  },
  {
   "cell_type": "code",
   "execution_count": 7,
   "id": "611d20ac-c075-4112-a0f6-6c5e6c65d73c",
   "metadata": {
    "tags": [
     "remove-cell"
    ]
   },
   "outputs": [
    {
     "data": {
      "text/html": [
       "\n",
       "<div id=\"altair-viz-df1b20a2a7444aa7a0b2a1b45b9474aa\"></div>\n",
       "<script type=\"text/javascript\">\n",
       "  var VEGA_DEBUG = (typeof VEGA_DEBUG == \"undefined\") ? {} : VEGA_DEBUG;\n",
       "  (function(spec, embedOpt){\n",
       "    let outputDiv = document.currentScript.previousElementSibling;\n",
       "    if (outputDiv.id !== \"altair-viz-df1b20a2a7444aa7a0b2a1b45b9474aa\") {\n",
       "      outputDiv = document.getElementById(\"altair-viz-df1b20a2a7444aa7a0b2a1b45b9474aa\");\n",
       "    }\n",
       "    const paths = {\n",
       "      \"vega\": \"https://cdn.jsdelivr.net/npm//vega@5?noext\",\n",
       "      \"vega-lib\": \"https://cdn.jsdelivr.net/npm//vega-lib?noext\",\n",
       "      \"vega-lite\": \"https://cdn.jsdelivr.net/npm//vega-lite@4.17.0?noext\",\n",
       "      \"vega-embed\": \"https://cdn.jsdelivr.net/npm//vega-embed@6?noext\",\n",
       "    };\n",
       "\n",
       "    function maybeLoadScript(lib, version) {\n",
       "      var key = `${lib.replace(\"-\", \"\")}_version`;\n",
       "      return (VEGA_DEBUG[key] == version) ?\n",
       "        Promise.resolve(paths[lib]) :\n",
       "        new Promise(function(resolve, reject) {\n",
       "          var s = document.createElement('script');\n",
       "          document.getElementsByTagName(\"head\")[0].appendChild(s);\n",
       "          s.async = true;\n",
       "          s.onload = () => {\n",
       "            VEGA_DEBUG[key] = version;\n",
       "            return resolve(paths[lib]);\n",
       "          };\n",
       "          s.onerror = () => reject(`Error loading script: ${paths[lib]}`);\n",
       "          s.src = paths[lib];\n",
       "        });\n",
       "    }\n",
       "\n",
       "    function showError(err) {\n",
       "      outputDiv.innerHTML = `<div class=\"error\" style=\"color:red;\">${err}</div>`;\n",
       "      throw err;\n",
       "    }\n",
       "\n",
       "    function displayChart(vegaEmbed) {\n",
       "      vegaEmbed(outputDiv, spec, embedOpt)\n",
       "        .catch(err => showError(`Javascript Error: ${err.message}<br>This usually means there's a typo in your chart specification. See the javascript console for the full traceback.`));\n",
       "    }\n",
       "\n",
       "    if(typeof define === \"function\" && define.amd) {\n",
       "      requirejs.config({paths});\n",
       "      require([\"vega-embed\"], displayChart, err => showError(`Error loading script: ${err.message}`));\n",
       "    } else {\n",
       "      maybeLoadScript(\"vega\", \"5\")\n",
       "        .then(() => maybeLoadScript(\"vega-lite\", \"4.17.0\"))\n",
       "        .then(() => maybeLoadScript(\"vega-embed\", \"6\"))\n",
       "        .catch(showError)\n",
       "        .then(() => displayChart(vegaEmbed));\n",
       "    }\n",
       "  })({\"config\": {\"view\": {\"continuousWidth\": 400, \"continuousHeight\": 300}}, \"layer\": [{\"mark\": {\"type\": \"circle\", \"color\": \"black\"}, \"encoding\": {\"x\": {\"field\": \"sqft\", \"scale\": {\"zero\": false}, \"title\": \"House size (square feet)\", \"type\": \"quantitative\"}, \"y\": {\"axis\": {\"format\": \"$,.0f\"}, \"field\": \"price\", \"scale\": {\"zero\": false}, \"title\": \"Price (USD)\", \"type\": \"quantitative\"}}}, {\"mark\": \"line\", \"encoding\": {\"x\": {\"field\": \"sqft\", \"scale\": {\"zero\": false}, \"title\": \"House size (square feet)\", \"type\": \"quantitative\"}, \"y\": {\"axis\": {\"format\": \"$,.0f\"}, \"field\": \"price\", \"scale\": {\"zero\": false}, \"title\": \"Price (USD)\", \"type\": \"quantitative\"}}, \"transform\": [{\"on\": \"sqft\", \"regression\": \"price\"}]}, {\"data\": {\"name\": \"data-7625a72922e8eb8d9f4a6215c1cb69db\"}, \"mark\": {\"type\": \"line\", \"color\": \"green\"}, \"encoding\": {\"x\": {\"field\": \"x\", \"type\": \"quantitative\"}, \"y\": {\"field\": \"y\", \"type\": \"quantitative\"}}}, {\"data\": {\"name\": \"data-7e87ec4fcfa14bc107c49e24bb26d2be\"}, \"mark\": {\"type\": \"line\", \"color\": \"purple\"}, \"encoding\": {\"x\": {\"field\": \"x\", \"type\": \"quantitative\"}, \"y\": {\"field\": \"y\", \"type\": \"quantitative\"}}}, {\"data\": {\"name\": \"data-d8da1658b8aab1a17d932e0539f00c8f\"}, \"mark\": {\"type\": \"line\", \"color\": \"red\"}, \"encoding\": {\"x\": {\"field\": \"x\", \"type\": \"quantitative\"}, \"y\": {\"field\": \"y\", \"type\": \"quantitative\"}}}], \"data\": {\"name\": \"data-dd70ea120b69e4d2199dadb4d59509b6\"}, \"$schema\": \"https://vega.github.io/schema/vega-lite/v4.17.0.json\", \"datasets\": {\"data-dd70ea120b69e4d2199dadb4d59509b6\": [{\"city\": \"SACRAMENTO\", \"zip\": \"z95829\", \"beds\": 3, \"baths\": 2.0, \"sqft\": 2170, \"type\": \"Residential\", \"price\": 257729, \"latitude\": 38.45967, \"longitude\": -121.360461}, {\"city\": \"SACRAMENTO\", \"zip\": \"z95835\", \"beds\": 3, \"baths\": 2.0, \"sqft\": 1686, \"type\": \"Residential\", \"price\": 239000, \"latitude\": 38.671556, \"longitude\": -121.520916}, {\"city\": \"ROSEVILLE\", \"zip\": \"z95678\", \"beds\": 3, \"baths\": 2.0, \"sqft\": 1174, \"type\": \"Residential\", \"price\": 180000, \"latitude\": 38.734136, \"longitude\": -121.299639}, {\"city\": \"EL_DORADO_HILLS\", \"zip\": \"z95762\", \"beds\": 5, \"baths\": 4.0, \"sqft\": 4091, \"type\": \"Residential\", \"price\": 508000, \"latitude\": 38.676131, \"longitude\": -121.038931}, {\"city\": \"SACRAMENTO\", \"zip\": \"z95842\", \"beds\": 5, \"baths\": 2.0, \"sqft\": 1712, \"type\": \"Residential\", \"price\": 168000, \"latitude\": 38.677003, \"longitude\": -121.354454}, {\"city\": \"FAIR_OAKS\", \"zip\": \"z95628\", \"beds\": 3, \"baths\": 1.0, \"sqft\": 960, \"type\": \"Residential\", \"price\": 185000, \"latitude\": 38.667254, \"longitude\": -121.240708}, {\"city\": \"ORANGEVALE\", \"zip\": \"z95662\", \"beds\": 3, \"baths\": 2.0, \"sqft\": 1294, \"type\": \"Residential\", \"price\": 191250, \"latitude\": 38.687006, \"longitude\": -121.254319}, {\"city\": \"SACRAMENTO\", \"zip\": \"z95842\", \"beds\": 2, \"baths\": 2.0, \"sqft\": 1134, \"type\": \"Condo\", \"price\": 110700, \"latitude\": 38.700051, \"longitude\": -121.351278}, {\"city\": \"SACRAMENTO\", \"zip\": \"z95838\", \"beds\": 2, \"baths\": 1.0, \"sqft\": 1011, \"type\": \"Residential\", \"price\": 70000, \"latitude\": 38.643978, \"longitude\": -121.449562}, {\"city\": \"SACRAMENTO\", \"zip\": \"z95824\", \"beds\": 2, \"baths\": 2.0, \"sqft\": 1139, \"type\": \"Residential\", \"price\": 93600, \"latitude\": 38.520469, \"longitude\": -121.458606}, {\"city\": \"ROSEVILLE\", \"zip\": \"z95747\", \"beds\": 3, \"baths\": 2.5, \"sqft\": 1829, \"type\": \"Residential\", \"price\": 306500, \"latitude\": 38.772771, \"longitude\": -121.364877}, {\"city\": \"SACRAMENTO\", \"zip\": \"z95823\", \"beds\": 4, \"baths\": 2.0, \"sqft\": 1472, \"type\": \"Residential\", \"price\": 148750, \"latitude\": 38.479553, \"longitude\": -121.463317}, {\"city\": \"SACRAMENTO\", \"zip\": \"z95819\", \"beds\": 3, \"baths\": 1.0, \"sqft\": 1108, \"type\": \"Residential\", \"price\": 339000, \"latitude\": 38.563805, \"longitude\": -121.436395}, {\"city\": \"SACRAMENTO\", \"zip\": \"z95825\", \"beds\": 3, \"baths\": 1.0, \"sqft\": 1520, \"type\": \"Residential\", \"price\": 255000, \"latitude\": 38.599449, \"longitude\": -121.400305}, {\"city\": \"ELVERTA\", \"zip\": \"z95626\", \"beds\": 3, \"baths\": 2.0, \"sqft\": 1080, \"type\": \"Residential\", \"price\": 126000, \"latitude\": 38.717976, \"longitude\": -121.407684}, {\"city\": \"EL_DORADO_HILLS\", \"zip\": \"z95762\", \"beds\": 3, \"baths\": 2.0, \"sqft\": 2129, \"type\": \"Residential\", \"price\": 460000, \"latitude\": 38.668239, \"longitude\": -121.064437}, {\"city\": \"SACRAMENTO\", \"zip\": \"z95838\", \"beds\": 4, \"baths\": 2.0, \"sqft\": 1799, \"type\": \"Residential\", \"price\": 205000, \"latitude\": 38.655887, \"longitude\": -121.446119}, {\"city\": \"SACRAMENTO\", \"zip\": \"z95835\", \"beds\": 5, \"baths\": 3.0, \"sqft\": 3599, \"type\": \"Residential\", \"price\": 381300, \"latitude\": 38.677126, \"longitude\": -121.500519}, {\"city\": \"CAMERON_PARK\", \"zip\": \"z95682\", \"beds\": 2, \"baths\": 1.5, \"sqft\": 1376, \"type\": \"Residential\", \"price\": 210000, \"latitude\": 38.69437, \"longitude\": -120.996602}, {\"city\": \"SACRAMENTO\", \"zip\": \"z95815\", \"beds\": 3, \"baths\": 1.0, \"sqft\": 696, \"type\": \"Residential\", \"price\": 121725, \"latitude\": 38.613103, \"longitude\": -121.444085}, {\"city\": \"CARMICHAEL\", \"zip\": \"z95608\", \"beds\": 3, \"baths\": 2.0, \"sqft\": 1245, \"type\": \"Condo\", \"price\": 139500, \"latitude\": 38.628563, \"longitude\": -121.328297}, {\"city\": \"ELK_GROVE\", \"zip\": \"z95757\", \"beds\": 5, \"baths\": 3.5, \"sqft\": 2724, \"type\": \"Residential\", \"price\": 383000, \"latitude\": 38.381102, \"longitude\": -121.42901}, {\"city\": \"FAIR_OAKS\", \"zip\": \"z95628\", \"beds\": 3, \"baths\": 2.0, \"sqft\": 3173, \"type\": \"Residential\", \"price\": 525000, \"latitude\": 38.650735, \"longitude\": -121.258628}, {\"city\": \"CITRUS_HEIGHTS\", \"zip\": \"z95621\", \"beds\": 3, \"baths\": 2.0, \"sqft\": 1118, \"type\": \"Residential\", \"price\": 122000, \"latitude\": 38.707851, \"longitude\": -121.320707}, {\"city\": \"CITRUS_HEIGHTS\", \"zip\": \"z95610\", \"beds\": 3, \"baths\": 2.0, \"sqft\": 1882, \"type\": \"Residential\", \"price\": 219000, \"latitude\": 38.715423, \"longitude\": -121.246743}, {\"city\": \"SACRAMENTO\", \"zip\": \"z95834\", \"beds\": 3, \"baths\": 2.0, \"sqft\": 1672, \"type\": \"Condo\", \"price\": 265000, \"latitude\": 38.648879, \"longitude\": -121.544023}, {\"city\": \"SACRAMENTO\", \"zip\": \"z95842\", \"beds\": 2, \"baths\": 1.0, \"sqft\": 924, \"type\": \"Condo\", \"price\": 150454, \"latitude\": 38.672567, \"longitude\": -121.356754}, {\"city\": \"ANTELOPE\", \"zip\": \"z95843\", \"beds\": 3, \"baths\": 2.0, \"sqft\": 1830, \"type\": \"Residential\", \"price\": 254172, \"latitude\": 38.710221, \"longitude\": -121.341707}, {\"city\": \"SACRAMENTO\", \"zip\": \"z95820\", \"beds\": 2, \"baths\": 1.0, \"sqft\": 722, \"type\": \"Residential\", \"price\": 145000, \"latitude\": 38.532727, \"longitude\": -121.470783}, {\"city\": \"SACRAMENTO\", \"zip\": \"z95820\", \"beds\": 3, \"baths\": 2.0, \"sqft\": 1212, \"type\": \"Residential\", \"price\": 228327, \"latitude\": 38.534827, \"longitude\": -121.412545}], \"data-7625a72922e8eb8d9f4a6215c1cb69db\": [{\"x\": 696, \"y\": 67697.76999999999}, {\"x\": 4091, \"y\": 712747.77}], \"data-7e87ec4fcfa14bc107c49e24bb26d2be\": [{\"x\": 696, \"y\": 114900}, {\"x\": 4091, \"y\": 709025}], \"data-d8da1658b8aab1a17d932e0539f00c8f\": [{\"x\": 696, \"y\": 46817.77}, {\"x\": 4091, \"y\": 590017.77}]}}, {\"mode\": \"vega-lite\"});\n",
       "</script>"
      ],
      "text/plain": [
       "alt.LayerChart(...)"
      ]
     },
     "metadata": {
      "scrapbook": {
       "mime_prefix": "",
       "name": "fig:08-several-lines"
      }
     },
     "output_type": "display_data"
    }
   ],
   "source": [
    "glue(\"fig:08-several-lines\", several_lines_plot)"
   ]
  },
  {
   "cell_type": "markdown",
   "id": "9455c977-a41b-4035-ae2b-f5a8f51584b6",
   "metadata": {},
   "source": [
    ":::{glue:figure} fig:08-several-lines\n",
    ":name: fig:08-several-lines\n",
    "\n",
    "Scatter plot of sale price versus size with many possible lines that could be drawn through the data points.\n",
    ":::"
   ]
  },
  {
   "cell_type": "markdown",
   "id": "36051261-750c-4a1e-be53-56277eee9096",
   "metadata": {},
   "source": [
    "Simple linear regression chooses the straight line of best fit by choosing\n",
    "the line that minimizes the **average squared vertical distance** between itself and\n",
    "each of the observed data points in the training data. {numref}`fig:08-verticalDistToMin` illustrates \n",
    "these vertical distances as red lines. Finally, to assess the predictive \n",
    "accuracy of a simple linear regression model,\n",
    "we use RMSPE&mdash;the same measure of predictive performance we used with KNN regression.\n",
    "\\index{RMSPE}"
   ]
  },
  {
   "cell_type": "code",
   "execution_count": 9,
   "id": "2aab0ee8-c5a0-43ba-97b3-328eada34a5f",
   "metadata": {
    "tags": [
     "remove-cell"
    ]
   },
   "outputs": [
    {
     "data": {
      "text/html": [
       "\n",
       "<div id=\"altair-viz-7d754d68f2bc46a0825c2f5c2d3d0cfb\"></div>\n",
       "<script type=\"text/javascript\">\n",
       "  var VEGA_DEBUG = (typeof VEGA_DEBUG == \"undefined\") ? {} : VEGA_DEBUG;\n",
       "  (function(spec, embedOpt){\n",
       "    let outputDiv = document.currentScript.previousElementSibling;\n",
       "    if (outputDiv.id !== \"altair-viz-7d754d68f2bc46a0825c2f5c2d3d0cfb\") {\n",
       "      outputDiv = document.getElementById(\"altair-viz-7d754d68f2bc46a0825c2f5c2d3d0cfb\");\n",
       "    }\n",
       "    const paths = {\n",
       "      \"vega\": \"https://cdn.jsdelivr.net/npm//vega@5?noext\",\n",
       "      \"vega-lib\": \"https://cdn.jsdelivr.net/npm//vega-lib?noext\",\n",
       "      \"vega-lite\": \"https://cdn.jsdelivr.net/npm//vega-lite@4.17.0?noext\",\n",
       "      \"vega-embed\": \"https://cdn.jsdelivr.net/npm//vega-embed@6?noext\",\n",
       "    };\n",
       "\n",
       "    function maybeLoadScript(lib, version) {\n",
       "      var key = `${lib.replace(\"-\", \"\")}_version`;\n",
       "      return (VEGA_DEBUG[key] == version) ?\n",
       "        Promise.resolve(paths[lib]) :\n",
       "        new Promise(function(resolve, reject) {\n",
       "          var s = document.createElement('script');\n",
       "          document.getElementsByTagName(\"head\")[0].appendChild(s);\n",
       "          s.async = true;\n",
       "          s.onload = () => {\n",
       "            VEGA_DEBUG[key] = version;\n",
       "            return resolve(paths[lib]);\n",
       "          };\n",
       "          s.onerror = () => reject(`Error loading script: ${paths[lib]}`);\n",
       "          s.src = paths[lib];\n",
       "        });\n",
       "    }\n",
       "\n",
       "    function showError(err) {\n",
       "      outputDiv.innerHTML = `<div class=\"error\" style=\"color:red;\">${err}</div>`;\n",
       "      throw err;\n",
       "    }\n",
       "\n",
       "    function displayChart(vegaEmbed) {\n",
       "      vegaEmbed(outputDiv, spec, embedOpt)\n",
       "        .catch(err => showError(`Javascript Error: ${err.message}<br>This usually means there's a typo in your chart specification. See the javascript console for the full traceback.`));\n",
       "    }\n",
       "\n",
       "    if(typeof define === \"function\" && define.amd) {\n",
       "      requirejs.config({paths});\n",
       "      require([\"vega-embed\"], displayChart, err => showError(`Error loading script: ${err.message}`));\n",
       "    } else {\n",
       "      maybeLoadScript(\"vega\", \"5\")\n",
       "        .then(() => maybeLoadScript(\"vega-lite\", \"4.17.0\"))\n",
       "        .then(() => maybeLoadScript(\"vega-embed\", \"6\"))\n",
       "        .catch(showError)\n",
       "        .then(() => displayChart(vegaEmbed));\n",
       "    }\n",
       "  })({\"config\": {\"view\": {\"continuousWidth\": 400, \"continuousHeight\": 300}}, \"layer\": [{\"mark\": {\"type\": \"circle\", \"color\": \"black\"}, \"encoding\": {\"x\": {\"field\": \"sqft\", \"scale\": {\"zero\": false}, \"title\": \"House size (square feet)\", \"type\": \"quantitative\"}, \"y\": {\"axis\": {\"format\": \"$,.0f\"}, \"field\": \"price\", \"scale\": {\"zero\": false}, \"title\": \"Price (USD)\", \"type\": \"quantitative\"}}}, {\"mark\": \"line\", \"encoding\": {\"x\": {\"field\": \"sqft\", \"scale\": {\"zero\": false}, \"title\": \"House size (square feet)\", \"type\": \"quantitative\"}, \"y\": {\"axis\": {\"format\": \"$,.0f\"}, \"field\": \"price\", \"scale\": {\"zero\": false}, \"title\": \"Price (USD)\", \"type\": \"quantitative\"}}, \"transform\": [{\"on\": \"sqft\", \"regression\": \"price\"}]}, {\"data\": {\"name\": \"data-158e575ab9368412b29f685ce69990a5\"}, \"mark\": {\"type\": \"line\", \"color\": \"red\"}, \"encoding\": {\"x\": {\"field\": \"sqft\", \"type\": \"quantitative\"}, \"y\": {\"field\": \"value\", \"type\": \"quantitative\"}}}, {\"data\": {\"name\": \"data-0f1d0f34d6e2481ed5c4477021b0d756\"}, \"mark\": {\"type\": \"line\", \"color\": \"red\"}, \"encoding\": {\"x\": {\"field\": \"sqft\", \"type\": \"quantitative\"}, \"y\": {\"field\": \"value\", \"type\": \"quantitative\"}}}, {\"data\": {\"name\": \"data-f4b12bdcc0035168dfa592e903a8349e\"}, \"mark\": {\"type\": \"line\", \"color\": \"red\"}, \"encoding\": {\"x\": {\"field\": \"sqft\", \"type\": \"quantitative\"}, \"y\": {\"field\": \"value\", \"type\": \"quantitative\"}}}, {\"data\": {\"name\": \"data-215feb86ea4adfdb8ad8bb3e9ed5ce69\"}, \"mark\": {\"type\": \"line\", \"color\": \"red\"}, \"encoding\": {\"x\": {\"field\": \"sqft\", \"type\": \"quantitative\"}, \"y\": {\"field\": \"value\", \"type\": \"quantitative\"}}}, {\"data\": {\"name\": \"data-661b0b91506b89ce8b9c21ed639c4c25\"}, \"mark\": {\"type\": \"line\", \"color\": \"red\"}, \"encoding\": {\"x\": {\"field\": \"sqft\", \"type\": \"quantitative\"}, \"y\": {\"field\": \"value\", \"type\": \"quantitative\"}}}, {\"data\": {\"name\": \"data-5c11126746a1c4e117c38d11f63c0989\"}, \"mark\": {\"type\": \"line\", \"color\": \"red\"}, \"encoding\": {\"x\": {\"field\": \"sqft\", \"type\": \"quantitative\"}, \"y\": {\"field\": \"value\", \"type\": \"quantitative\"}}}, {\"data\": {\"name\": \"data-1c8799a3f6aa9acf3b14da54fea85f46\"}, \"mark\": {\"type\": \"line\", \"color\": \"red\"}, \"encoding\": {\"x\": {\"field\": \"sqft\", \"type\": \"quantitative\"}, \"y\": {\"field\": \"value\", \"type\": \"quantitative\"}}}, {\"data\": {\"name\": \"data-6a02c676673c88219f4bbe177abb9451\"}, \"mark\": {\"type\": \"line\", \"color\": \"red\"}, \"encoding\": {\"x\": {\"field\": \"sqft\", \"type\": \"quantitative\"}, \"y\": {\"field\": \"value\", \"type\": \"quantitative\"}}}, {\"data\": {\"name\": \"data-d7e5a20bee4750093e928b968e6a4a82\"}, \"mark\": {\"type\": \"line\", \"color\": \"red\"}, \"encoding\": {\"x\": {\"field\": \"sqft\", \"type\": \"quantitative\"}, \"y\": {\"field\": \"value\", \"type\": \"quantitative\"}}}, {\"data\": {\"name\": \"data-0708ad81a280111d6b72186e36517a86\"}, \"mark\": {\"type\": \"line\", \"color\": \"red\"}, \"encoding\": {\"x\": {\"field\": \"sqft\", \"type\": \"quantitative\"}, \"y\": {\"field\": \"value\", \"type\": \"quantitative\"}}}, {\"data\": {\"name\": \"data-5d2245f647c352254fe0c6ce73128014\"}, \"mark\": {\"type\": \"line\", \"color\": \"red\"}, \"encoding\": {\"x\": {\"field\": \"sqft\", \"type\": \"quantitative\"}, \"y\": {\"field\": \"value\", \"type\": \"quantitative\"}}}, {\"data\": {\"name\": \"data-0fa451398545643fa2a2aff2af1a6f07\"}, \"mark\": {\"type\": \"line\", \"color\": \"red\"}, \"encoding\": {\"x\": {\"field\": \"sqft\", \"type\": \"quantitative\"}, \"y\": {\"field\": \"value\", \"type\": \"quantitative\"}}}, {\"data\": {\"name\": \"data-f5a34c045599725dd6591441381fc59e\"}, \"mark\": {\"type\": \"line\", \"color\": \"red\"}, \"encoding\": {\"x\": {\"field\": \"sqft\", \"type\": \"quantitative\"}, \"y\": {\"field\": \"value\", \"type\": \"quantitative\"}}}, {\"data\": {\"name\": \"data-b64027b42c6683bab3c2524995ec81ae\"}, \"mark\": {\"type\": \"line\", \"color\": \"red\"}, \"encoding\": {\"x\": {\"field\": \"sqft\", \"type\": \"quantitative\"}, \"y\": {\"field\": \"value\", \"type\": \"quantitative\"}}}, {\"data\": {\"name\": \"data-55c1ed8d1a7a994fb917618f46eb40dc\"}, \"mark\": {\"type\": \"line\", \"color\": \"red\"}, \"encoding\": {\"x\": {\"field\": \"sqft\", \"type\": \"quantitative\"}, \"y\": {\"field\": \"value\", \"type\": \"quantitative\"}}}, {\"data\": {\"name\": \"data-128ca6c205513e1fbc01690e4eda3ec5\"}, \"mark\": {\"type\": \"line\", \"color\": \"red\"}, \"encoding\": {\"x\": {\"field\": \"sqft\", \"type\": \"quantitative\"}, \"y\": {\"field\": \"value\", \"type\": \"quantitative\"}}}, {\"data\": {\"name\": \"data-ebbcd309de520b09783e4d45d3eef8fa\"}, \"mark\": {\"type\": \"line\", \"color\": \"red\"}, \"encoding\": {\"x\": {\"field\": \"sqft\", \"type\": \"quantitative\"}, \"y\": {\"field\": \"value\", \"type\": \"quantitative\"}}}, {\"data\": {\"name\": \"data-2b7a561a8db56f0e6d37ea9f059f6687\"}, \"mark\": {\"type\": \"line\", \"color\": \"red\"}, \"encoding\": {\"x\": {\"field\": \"sqft\", \"type\": \"quantitative\"}, \"y\": {\"field\": \"value\", \"type\": \"quantitative\"}}}, {\"data\": {\"name\": \"data-4795c107518bb06260cec91603c134f6\"}, \"mark\": {\"type\": \"line\", \"color\": \"red\"}, \"encoding\": {\"x\": {\"field\": \"sqft\", \"type\": \"quantitative\"}, \"y\": {\"field\": \"value\", \"type\": \"quantitative\"}}}, {\"data\": {\"name\": \"data-21e267dc0187354dde83be7d2a8bea4a\"}, \"mark\": {\"type\": \"line\", \"color\": \"red\"}, \"encoding\": {\"x\": {\"field\": \"sqft\", \"type\": \"quantitative\"}, \"y\": {\"field\": \"value\", \"type\": \"quantitative\"}}}, {\"data\": {\"name\": \"data-a474c7517c2223e36a9d3b7262db2560\"}, \"mark\": {\"type\": \"line\", \"color\": \"red\"}, \"encoding\": {\"x\": {\"field\": \"sqft\", \"type\": \"quantitative\"}, \"y\": {\"field\": \"value\", \"type\": \"quantitative\"}}}, {\"data\": {\"name\": \"data-b591e826abef8adbffd3d4f73237cddc\"}, \"mark\": {\"type\": \"line\", \"color\": \"red\"}, \"encoding\": {\"x\": {\"field\": \"sqft\", \"type\": \"quantitative\"}, \"y\": {\"field\": \"value\", \"type\": \"quantitative\"}}}, {\"data\": {\"name\": \"data-eb0a04cb70e10d3c973128c1ac6f22c8\"}, \"mark\": {\"type\": \"line\", \"color\": \"red\"}, \"encoding\": {\"x\": {\"field\": \"sqft\", \"type\": \"quantitative\"}, \"y\": {\"field\": \"value\", \"type\": \"quantitative\"}}}, {\"data\": {\"name\": \"data-50a675587f70786eb8e75105d1cd358a\"}, \"mark\": {\"type\": \"line\", \"color\": \"red\"}, \"encoding\": {\"x\": {\"field\": \"sqft\", \"type\": \"quantitative\"}, \"y\": {\"field\": \"value\", \"type\": \"quantitative\"}}}, {\"data\": {\"name\": \"data-ce4ed5c1bda441ef0f700d7aa99f835c\"}, \"mark\": {\"type\": \"line\", \"color\": \"red\"}, \"encoding\": {\"x\": {\"field\": \"sqft\", \"type\": \"quantitative\"}, \"y\": {\"field\": \"value\", \"type\": \"quantitative\"}}}, {\"data\": {\"name\": \"data-a1d4688279e95f333d81f7a6b35c4380\"}, \"mark\": {\"type\": \"line\", \"color\": \"red\"}, \"encoding\": {\"x\": {\"field\": \"sqft\", \"type\": \"quantitative\"}, \"y\": {\"field\": \"value\", \"type\": \"quantitative\"}}}, {\"data\": {\"name\": \"data-960352d027ae6a129fb7552e2c116f44\"}, \"mark\": {\"type\": \"line\", \"color\": \"red\"}, \"encoding\": {\"x\": {\"field\": \"sqft\", \"type\": \"quantitative\"}, \"y\": {\"field\": \"value\", \"type\": \"quantitative\"}}}, {\"data\": {\"name\": \"data-e155c8b8f7dbea20e17279f188cde235\"}, \"mark\": {\"type\": \"line\", \"color\": \"red\"}, \"encoding\": {\"x\": {\"field\": \"sqft\", \"type\": \"quantitative\"}, \"y\": {\"field\": \"value\", \"type\": \"quantitative\"}}}, {\"data\": {\"name\": \"data-881a2149f58e919643e234e0f5f841ee\"}, \"mark\": {\"type\": \"line\", \"color\": \"red\"}, \"encoding\": {\"x\": {\"field\": \"sqft\", \"type\": \"quantitative\"}, \"y\": {\"field\": \"value\", \"type\": \"quantitative\"}}}, {\"data\": {\"name\": \"data-ed1c9fb01d3bb1ea275d23fe9e7eba7a\"}, \"mark\": {\"type\": \"line\", \"color\": \"red\"}, \"encoding\": {\"x\": {\"field\": \"sqft\", \"type\": \"quantitative\"}, \"y\": {\"field\": \"value\", \"type\": \"quantitative\"}}}], \"data\": {\"name\": \"data-dd70ea120b69e4d2199dadb4d59509b6\"}, \"$schema\": \"https://vega.github.io/schema/vega-lite/v4.17.0.json\", \"datasets\": {\"data-dd70ea120b69e4d2199dadb4d59509b6\": [{\"city\": \"SACRAMENTO\", \"zip\": \"z95829\", \"beds\": 3, \"baths\": 2.0, \"sqft\": 2170, \"type\": \"Residential\", \"price\": 257729, \"latitude\": 38.45967, \"longitude\": -121.360461}, {\"city\": \"SACRAMENTO\", \"zip\": \"z95835\", \"beds\": 3, \"baths\": 2.0, \"sqft\": 1686, \"type\": \"Residential\", \"price\": 239000, \"latitude\": 38.671556, \"longitude\": -121.520916}, {\"city\": \"ROSEVILLE\", \"zip\": \"z95678\", \"beds\": 3, \"baths\": 2.0, \"sqft\": 1174, \"type\": \"Residential\", \"price\": 180000, \"latitude\": 38.734136, \"longitude\": -121.299639}, {\"city\": \"EL_DORADO_HILLS\", \"zip\": \"z95762\", \"beds\": 5, \"baths\": 4.0, \"sqft\": 4091, \"type\": \"Residential\", \"price\": 508000, \"latitude\": 38.676131, \"longitude\": -121.038931}, {\"city\": \"SACRAMENTO\", \"zip\": \"z95842\", \"beds\": 5, \"baths\": 2.0, \"sqft\": 1712, \"type\": \"Residential\", \"price\": 168000, \"latitude\": 38.677003, \"longitude\": -121.354454}, {\"city\": \"FAIR_OAKS\", \"zip\": \"z95628\", \"beds\": 3, \"baths\": 1.0, \"sqft\": 960, \"type\": \"Residential\", \"price\": 185000, \"latitude\": 38.667254, \"longitude\": -121.240708}, {\"city\": \"ORANGEVALE\", \"zip\": \"z95662\", \"beds\": 3, \"baths\": 2.0, \"sqft\": 1294, \"type\": \"Residential\", \"price\": 191250, \"latitude\": 38.687006, \"longitude\": -121.254319}, {\"city\": \"SACRAMENTO\", \"zip\": \"z95842\", \"beds\": 2, \"baths\": 2.0, \"sqft\": 1134, \"type\": \"Condo\", \"price\": 110700, \"latitude\": 38.700051, \"longitude\": -121.351278}, {\"city\": \"SACRAMENTO\", \"zip\": \"z95838\", \"beds\": 2, \"baths\": 1.0, \"sqft\": 1011, \"type\": \"Residential\", \"price\": 70000, \"latitude\": 38.643978, \"longitude\": -121.449562}, {\"city\": \"SACRAMENTO\", \"zip\": \"z95824\", \"beds\": 2, \"baths\": 2.0, \"sqft\": 1139, \"type\": \"Residential\", \"price\": 93600, \"latitude\": 38.520469, \"longitude\": -121.458606}, {\"city\": \"ROSEVILLE\", \"zip\": \"z95747\", \"beds\": 3, \"baths\": 2.5, \"sqft\": 1829, \"type\": \"Residential\", \"price\": 306500, \"latitude\": 38.772771, \"longitude\": -121.364877}, {\"city\": \"SACRAMENTO\", \"zip\": \"z95823\", \"beds\": 4, \"baths\": 2.0, \"sqft\": 1472, \"type\": \"Residential\", \"price\": 148750, \"latitude\": 38.479553, \"longitude\": -121.463317}, {\"city\": \"SACRAMENTO\", \"zip\": \"z95819\", \"beds\": 3, \"baths\": 1.0, \"sqft\": 1108, \"type\": \"Residential\", \"price\": 339000, \"latitude\": 38.563805, \"longitude\": -121.436395}, {\"city\": \"SACRAMENTO\", \"zip\": \"z95825\", \"beds\": 3, \"baths\": 1.0, \"sqft\": 1520, \"type\": \"Residential\", \"price\": 255000, \"latitude\": 38.599449, \"longitude\": -121.400305}, {\"city\": \"ELVERTA\", \"zip\": \"z95626\", \"beds\": 3, \"baths\": 2.0, \"sqft\": 1080, \"type\": \"Residential\", \"price\": 126000, \"latitude\": 38.717976, \"longitude\": -121.407684}, {\"city\": \"EL_DORADO_HILLS\", \"zip\": \"z95762\", \"beds\": 3, \"baths\": 2.0, \"sqft\": 2129, \"type\": \"Residential\", \"price\": 460000, \"latitude\": 38.668239, \"longitude\": -121.064437}, {\"city\": \"SACRAMENTO\", \"zip\": \"z95838\", \"beds\": 4, \"baths\": 2.0, \"sqft\": 1799, \"type\": \"Residential\", \"price\": 205000, \"latitude\": 38.655887, \"longitude\": -121.446119}, {\"city\": \"SACRAMENTO\", \"zip\": \"z95835\", \"beds\": 5, \"baths\": 3.0, \"sqft\": 3599, \"type\": \"Residential\", \"price\": 381300, \"latitude\": 38.677126, \"longitude\": -121.500519}, {\"city\": \"CAMERON_PARK\", \"zip\": \"z95682\", \"beds\": 2, \"baths\": 1.5, \"sqft\": 1376, \"type\": \"Residential\", \"price\": 210000, \"latitude\": 38.69437, \"longitude\": -120.996602}, {\"city\": \"SACRAMENTO\", \"zip\": \"z95815\", \"beds\": 3, \"baths\": 1.0, \"sqft\": 696, \"type\": \"Residential\", \"price\": 121725, \"latitude\": 38.613103, \"longitude\": -121.444085}, {\"city\": \"CARMICHAEL\", \"zip\": \"z95608\", \"beds\": 3, \"baths\": 2.0, \"sqft\": 1245, \"type\": \"Condo\", \"price\": 139500, \"latitude\": 38.628563, \"longitude\": -121.328297}, {\"city\": \"ELK_GROVE\", \"zip\": \"z95757\", \"beds\": 5, \"baths\": 3.5, \"sqft\": 2724, \"type\": \"Residential\", \"price\": 383000, \"latitude\": 38.381102, \"longitude\": -121.42901}, {\"city\": \"FAIR_OAKS\", \"zip\": \"z95628\", \"beds\": 3, \"baths\": 2.0, \"sqft\": 3173, \"type\": \"Residential\", \"price\": 525000, \"latitude\": 38.650735, \"longitude\": -121.258628}, {\"city\": \"CITRUS_HEIGHTS\", \"zip\": \"z95621\", \"beds\": 3, \"baths\": 2.0, \"sqft\": 1118, \"type\": \"Residential\", \"price\": 122000, \"latitude\": 38.707851, \"longitude\": -121.320707}, {\"city\": \"CITRUS_HEIGHTS\", \"zip\": \"z95610\", \"beds\": 3, \"baths\": 2.0, \"sqft\": 1882, \"type\": \"Residential\", \"price\": 219000, \"latitude\": 38.715423, \"longitude\": -121.246743}, {\"city\": \"SACRAMENTO\", \"zip\": \"z95834\", \"beds\": 3, \"baths\": 2.0, \"sqft\": 1672, \"type\": \"Condo\", \"price\": 265000, \"latitude\": 38.648879, \"longitude\": -121.544023}, {\"city\": \"SACRAMENTO\", \"zip\": \"z95842\", \"beds\": 2, \"baths\": 1.0, \"sqft\": 924, \"type\": \"Condo\", \"price\": 150454, \"latitude\": 38.672567, \"longitude\": -121.356754}, {\"city\": \"ANTELOPE\", \"zip\": \"z95843\", \"beds\": 3, \"baths\": 2.0, \"sqft\": 1830, \"type\": \"Residential\", \"price\": 254172, \"latitude\": 38.710221, \"longitude\": -121.341707}, {\"city\": \"SACRAMENTO\", \"zip\": \"z95820\", \"beds\": 2, \"baths\": 1.0, \"sqft\": 722, \"type\": \"Residential\", \"price\": 145000, \"latitude\": 38.532727, \"longitude\": -121.470783}, {\"city\": \"SACRAMENTO\", \"zip\": \"z95820\", \"beds\": 3, \"baths\": 2.0, \"sqft\": 1212, \"type\": \"Residential\", \"price\": 228327, \"latitude\": 38.534827, \"longitude\": -121.412545}], \"data-158e575ab9368412b29f685ce69990a5\": [{\"sqft\": 2170, \"variable\": \"price\", \"value\": 257729.0}, {\"sqft\": 2170, \"variable\": \"predicted\", \"value\": 296920.49645515514}], \"data-0f1d0f34d6e2481ed5c4477021b0d756\": [{\"sqft\": 1686, \"variable\": \"price\", \"value\": 239000.0}, {\"sqft\": 1686, \"variable\": \"predicted\", \"value\": 237435.88024868534}], \"data-f4b12bdcc0035168dfa592e903a8349e\": [{\"sqft\": 1174, \"variable\": \"price\", \"value\": 180000.0}, {\"sqft\": 1174, \"variable\": \"predicted\", \"value\": 174510.00525341145}], \"data-215feb86ea4adfdb8ad8bb3e9ed5ce69\": [{\"sqft\": 4091, \"variable\": \"price\", \"value\": 508000.0}, {\"sqft\": 4091, \"variable\": \"predicted\", \"value\": 533015.4297870323}], \"data-661b0b91506b89ce8b9c21ed639c4c25\": [{\"sqft\": 1712, \"variable\": \"price\", \"value\": 168000.0}, {\"sqft\": 1712, \"variable\": \"predicted\", \"value\": 240631.33483828907}], \"data-5c11126746a1c4e117c38d11f63c0989\": [{\"sqft\": 960, \"variable\": \"price\", \"value\": 185000.0}, {\"sqft\": 960, \"variable\": \"predicted\", \"value\": 148208.95593898057}], \"data-1c8799a3f6aa9acf3b14da54fea85f46\": [{\"sqft\": 1294, \"variable\": \"price\", \"value\": 191250.0}, {\"sqft\": 1294, \"variable\": \"predicted\", \"value\": 189258.25720542876}], \"data-6a02c676673c88219f4bbe177abb9451\": [{\"sqft\": 1134, \"variable\": \"price\", \"value\": 110700.0}, {\"sqft\": 1134, \"variable\": \"predicted\", \"value\": 169593.92126940566}], \"data-d7e5a20bee4750093e928b968e6a4a82\": [{\"sqft\": 1011, \"variable\": \"price\", \"value\": 70000.0}, {\"sqft\": 1011, \"variable\": \"predicted\", \"value\": 154476.9630185879}], \"data-0708ad81a280111d6b72186e36517a86\": [{\"sqft\": 1139, \"variable\": \"price\", \"value\": 93600.0}, {\"sqft\": 1139, \"variable\": \"predicted\", \"value\": 170208.4317674064}], \"data-5d2245f647c352254fe0c6ce73128014\": [{\"sqft\": 1829, \"variable\": \"price\", \"value\": 306500.0}, {\"sqft\": 1829, \"variable\": \"predicted\", \"value\": 255010.88049150596}], \"data-0fa451398545643fa2a2aff2af1a6f07\": [{\"sqft\": 1472, \"variable\": \"price\", \"value\": 148750.0}, {\"sqft\": 1472, \"variable\": \"predicted\", \"value\": 211134.83093425445}], \"data-f5a34c045599725dd6591441381fc59e\": [{\"sqft\": 1108, \"variable\": \"price\", \"value\": 339000.0}, {\"sqft\": 1108, \"variable\": \"predicted\", \"value\": 166398.46667980193}], \"data-b64027b42c6683bab3c2524995ec81ae\": [{\"sqft\": 1520, \"variable\": \"price\", \"value\": 255000.0}, {\"sqft\": 1520, \"variable\": \"predicted\", \"value\": 217034.13171506138}], \"data-55c1ed8d1a7a994fb917618f46eb40dc\": [{\"sqft\": 1080, \"variable\": \"price\", \"value\": 126000.0}, {\"sqft\": 1080, \"variable\": \"predicted\", \"value\": 162957.20789099787}], \"data-128ca6c205513e1fbc01690e4eda3ec5\": [{\"sqft\": 2129, \"variable\": \"price\", \"value\": 460000.0}, {\"sqft\": 2129, \"variable\": \"predicted\", \"value\": 291881.5103715493}], \"data-ebbcd309de520b09783e4d45d3eef8fa\": [{\"sqft\": 1799, \"variable\": \"price\", \"value\": 205000.0}, {\"sqft\": 1799, \"variable\": \"predicted\", \"value\": 251323.81750350163}], \"data-2b7a561a8db56f0e6d37ea9f059f6687\": [{\"sqft\": 3599, \"variable\": \"price\", \"value\": 381300.0}, {\"sqft\": 3599, \"variable\": \"predicted\", \"value\": 472547.59678376134}], \"data-4795c107518bb06260cec91603c134f6\": [{\"sqft\": 1376, \"variable\": \"price\", \"value\": 210000.0}, {\"sqft\": 1376, \"variable\": \"predicted\", \"value\": 199336.2293726406}], \"data-21e267dc0187354dde83be7d2a8bea4a\": [{\"sqft\": 696, \"variable\": \"price\", \"value\": 121725.0}, {\"sqft\": 696, \"variable\": \"predicted\", \"value\": 115762.80164454247}], \"data-a474c7517c2223e36a9d3b7262db2560\": [{\"sqft\": 1245, \"variable\": \"price\", \"value\": 139500.0}, {\"sqft\": 1245, \"variable\": \"predicted\", \"value\": 183236.0543250217}], \"data-b591e826abef8adbffd3d4f73237cddc\": [{\"sqft\": 2724, \"variable\": \"price\", \"value\": 383000.0}, {\"sqft\": 2724, \"variable\": \"predicted\", \"value\": 365008.2596336351}], \"data-eb0a04cb70e10d3c973128c1ac6f22c8\": [{\"sqft\": 3173, \"variable\": \"price\", \"value\": 525000.0}, {\"sqft\": 3173, \"variable\": \"predicted\", \"value\": 420191.30235409987}], \"data-50a675587f70786eb8e75105d1cd358a\": [{\"sqft\": 1118, \"variable\": \"price\", \"value\": 122000.0}, {\"sqft\": 1118, \"variable\": \"predicted\", \"value\": 167627.48767580336}], \"data-ce4ed5c1bda441ef0f700d7aa99f835c\": [{\"sqft\": 1882, \"variable\": \"price\", \"value\": 219000.0}, {\"sqft\": 1882, \"variable\": \"predicted\", \"value\": 261524.6917703136}], \"data-a1d4688279e95f333d81f7a6b35c4380\": [{\"sqft\": 1672, \"variable\": \"price\", \"value\": 265000.0}, {\"sqft\": 1672, \"variable\": \"predicted\", \"value\": 235715.2508542833}], \"data-960352d027ae6a129fb7552e2c116f44\": [{\"sqft\": 924, \"variable\": \"price\", \"value\": 150454.0}, {\"sqft\": 924, \"variable\": \"predicted\", \"value\": 143784.48035337537}], \"data-e155c8b8f7dbea20e17279f188cde235\": [{\"sqft\": 1830, \"variable\": \"price\", \"value\": 254172.0}, {\"sqft\": 1830, \"variable\": \"predicted\", \"value\": 255133.7825911061}], \"data-881a2149f58e919643e234e0f5f841ee\": [{\"sqft\": 722, \"variable\": \"price\", \"value\": 145000.0}, {\"sqft\": 722, \"variable\": \"predicted\", \"value\": 118958.25623414622}], \"data-ed1c9fb01d3bb1ea275d23fe9e7eba7a\": [{\"sqft\": 1212, \"variable\": \"price\", \"value\": 228327.0}, {\"sqft\": 1212, \"variable\": \"predicted\", \"value\": 179180.28503821694}]}}, {\"mode\": \"vega-lite\"});\n",
       "</script>"
      ],
      "text/plain": [
       "alt.LayerChart(...)"
      ]
     },
     "execution_count": 9,
     "metadata": {},
     "output_type": "execute_result"
    }
   ],
   "source": [
    "small_sacramento_pred = small_sacramento\n",
    "# get prediction\n",
    "small_sacramento_pred = small_sacramento_pred.assign(\n",
    "    predicted=lm.predict(small_sacramento[[\"sqft\"]])\n",
    ")\n",
    "# melt the dataframe to create separate df to create lines\n",
    "small_sacramento_pred = small_sacramento_pred[[\"sqft\", \"price\", \"predicted\"]].melt(\n",
    "    id_vars=[\"sqft\"]\n",
    ")\n",
    "\n",
    "error_plot = small_plot.copy()\n",
    "\n",
    "for i in range(len(small_sacramento)):\n",
    "    sqft_val = small_sacramento.iloc[i][\"sqft\"]\n",
    "    line_df = small_sacramento_pred.query(\"sqft == @sqft_val\")\n",
    "    error_plot += alt.Chart(line_df).mark_line(color=\"red\").encode(x=\"sqft\", y=\"value\")\n",
    "\n",
    "error_plot"
   ]
  },
  {
   "cell_type": "code",
   "execution_count": 10,
   "id": "d76f42a4-8d88-413c-a158-0359201a9aba",
   "metadata": {
    "tags": [
     "remove-cell"
    ]
   },
   "outputs": [
    {
     "data": {
      "text/html": [
       "\n",
       "<div id=\"altair-viz-7165313433bb45808fa53045c164d785\"></div>\n",
       "<script type=\"text/javascript\">\n",
       "  var VEGA_DEBUG = (typeof VEGA_DEBUG == \"undefined\") ? {} : VEGA_DEBUG;\n",
       "  (function(spec, embedOpt){\n",
       "    let outputDiv = document.currentScript.previousElementSibling;\n",
       "    if (outputDiv.id !== \"altair-viz-7165313433bb45808fa53045c164d785\") {\n",
       "      outputDiv = document.getElementById(\"altair-viz-7165313433bb45808fa53045c164d785\");\n",
       "    }\n",
       "    const paths = {\n",
       "      \"vega\": \"https://cdn.jsdelivr.net/npm//vega@5?noext\",\n",
       "      \"vega-lib\": \"https://cdn.jsdelivr.net/npm//vega-lib?noext\",\n",
       "      \"vega-lite\": \"https://cdn.jsdelivr.net/npm//vega-lite@4.17.0?noext\",\n",
       "      \"vega-embed\": \"https://cdn.jsdelivr.net/npm//vega-embed@6?noext\",\n",
       "    };\n",
       "\n",
       "    function maybeLoadScript(lib, version) {\n",
       "      var key = `${lib.replace(\"-\", \"\")}_version`;\n",
       "      return (VEGA_DEBUG[key] == version) ?\n",
       "        Promise.resolve(paths[lib]) :\n",
       "        new Promise(function(resolve, reject) {\n",
       "          var s = document.createElement('script');\n",
       "          document.getElementsByTagName(\"head\")[0].appendChild(s);\n",
       "          s.async = true;\n",
       "          s.onload = () => {\n",
       "            VEGA_DEBUG[key] = version;\n",
       "            return resolve(paths[lib]);\n",
       "          };\n",
       "          s.onerror = () => reject(`Error loading script: ${paths[lib]}`);\n",
       "          s.src = paths[lib];\n",
       "        });\n",
       "    }\n",
       "\n",
       "    function showError(err) {\n",
       "      outputDiv.innerHTML = `<div class=\"error\" style=\"color:red;\">${err}</div>`;\n",
       "      throw err;\n",
       "    }\n",
       "\n",
       "    function displayChart(vegaEmbed) {\n",
       "      vegaEmbed(outputDiv, spec, embedOpt)\n",
       "        .catch(err => showError(`Javascript Error: ${err.message}<br>This usually means there's a typo in your chart specification. See the javascript console for the full traceback.`));\n",
       "    }\n",
       "\n",
       "    if(typeof define === \"function\" && define.amd) {\n",
       "      requirejs.config({paths});\n",
       "      require([\"vega-embed\"], displayChart, err => showError(`Error loading script: ${err.message}`));\n",
       "    } else {\n",
       "      maybeLoadScript(\"vega\", \"5\")\n",
       "        .then(() => maybeLoadScript(\"vega-lite\", \"4.17.0\"))\n",
       "        .then(() => maybeLoadScript(\"vega-embed\", \"6\"))\n",
       "        .catch(showError)\n",
       "        .then(() => displayChart(vegaEmbed));\n",
       "    }\n",
       "  })({\"config\": {\"view\": {\"continuousWidth\": 400, \"continuousHeight\": 300}}, \"layer\": [{\"mark\": {\"type\": \"circle\", \"color\": \"black\"}, \"encoding\": {\"x\": {\"field\": \"sqft\", \"scale\": {\"zero\": false}, \"title\": \"House size (square feet)\", \"type\": \"quantitative\"}, \"y\": {\"axis\": {\"format\": \"$,.0f\"}, \"field\": \"price\", \"scale\": {\"zero\": false}, \"title\": \"Price (USD)\", \"type\": \"quantitative\"}}}, {\"mark\": \"line\", \"encoding\": {\"x\": {\"field\": \"sqft\", \"scale\": {\"zero\": false}, \"title\": \"House size (square feet)\", \"type\": \"quantitative\"}, \"y\": {\"axis\": {\"format\": \"$,.0f\"}, \"field\": \"price\", \"scale\": {\"zero\": false}, \"title\": \"Price (USD)\", \"type\": \"quantitative\"}}, \"transform\": [{\"on\": \"sqft\", \"regression\": \"price\"}]}, {\"data\": {\"name\": \"data-158e575ab9368412b29f685ce69990a5\"}, \"mark\": {\"type\": \"line\", \"color\": \"red\"}, \"encoding\": {\"x\": {\"field\": \"sqft\", \"type\": \"quantitative\"}, \"y\": {\"field\": \"value\", \"type\": \"quantitative\"}}}, {\"data\": {\"name\": \"data-0f1d0f34d6e2481ed5c4477021b0d756\"}, \"mark\": {\"type\": \"line\", \"color\": \"red\"}, \"encoding\": {\"x\": {\"field\": \"sqft\", \"type\": \"quantitative\"}, \"y\": {\"field\": \"value\", \"type\": \"quantitative\"}}}, {\"data\": {\"name\": \"data-f4b12bdcc0035168dfa592e903a8349e\"}, \"mark\": {\"type\": \"line\", \"color\": \"red\"}, \"encoding\": {\"x\": {\"field\": \"sqft\", \"type\": \"quantitative\"}, \"y\": {\"field\": \"value\", \"type\": \"quantitative\"}}}, {\"data\": {\"name\": \"data-215feb86ea4adfdb8ad8bb3e9ed5ce69\"}, \"mark\": {\"type\": \"line\", \"color\": \"red\"}, \"encoding\": {\"x\": {\"field\": \"sqft\", \"type\": \"quantitative\"}, \"y\": {\"field\": \"value\", \"type\": \"quantitative\"}}}, {\"data\": {\"name\": \"data-661b0b91506b89ce8b9c21ed639c4c25\"}, \"mark\": {\"type\": \"line\", \"color\": \"red\"}, \"encoding\": {\"x\": {\"field\": \"sqft\", \"type\": \"quantitative\"}, \"y\": {\"field\": \"value\", \"type\": \"quantitative\"}}}, {\"data\": {\"name\": \"data-5c11126746a1c4e117c38d11f63c0989\"}, \"mark\": {\"type\": \"line\", \"color\": \"red\"}, \"encoding\": {\"x\": {\"field\": \"sqft\", \"type\": \"quantitative\"}, \"y\": {\"field\": \"value\", \"type\": \"quantitative\"}}}, {\"data\": {\"name\": \"data-1c8799a3f6aa9acf3b14da54fea85f46\"}, \"mark\": {\"type\": \"line\", \"color\": \"red\"}, \"encoding\": {\"x\": {\"field\": \"sqft\", \"type\": \"quantitative\"}, \"y\": {\"field\": \"value\", \"type\": \"quantitative\"}}}, {\"data\": {\"name\": \"data-6a02c676673c88219f4bbe177abb9451\"}, \"mark\": {\"type\": \"line\", \"color\": \"red\"}, \"encoding\": {\"x\": {\"field\": \"sqft\", \"type\": \"quantitative\"}, \"y\": {\"field\": \"value\", \"type\": \"quantitative\"}}}, {\"data\": {\"name\": \"data-d7e5a20bee4750093e928b968e6a4a82\"}, \"mark\": {\"type\": \"line\", \"color\": \"red\"}, \"encoding\": {\"x\": {\"field\": \"sqft\", \"type\": \"quantitative\"}, \"y\": {\"field\": \"value\", \"type\": \"quantitative\"}}}, {\"data\": {\"name\": \"data-0708ad81a280111d6b72186e36517a86\"}, \"mark\": {\"type\": \"line\", \"color\": \"red\"}, \"encoding\": {\"x\": {\"field\": \"sqft\", \"type\": \"quantitative\"}, \"y\": {\"field\": \"value\", \"type\": \"quantitative\"}}}, {\"data\": {\"name\": \"data-5d2245f647c352254fe0c6ce73128014\"}, \"mark\": {\"type\": \"line\", \"color\": \"red\"}, \"encoding\": {\"x\": {\"field\": \"sqft\", \"type\": \"quantitative\"}, \"y\": {\"field\": \"value\", \"type\": \"quantitative\"}}}, {\"data\": {\"name\": \"data-0fa451398545643fa2a2aff2af1a6f07\"}, \"mark\": {\"type\": \"line\", \"color\": \"red\"}, \"encoding\": {\"x\": {\"field\": \"sqft\", \"type\": \"quantitative\"}, \"y\": {\"field\": \"value\", \"type\": \"quantitative\"}}}, {\"data\": {\"name\": \"data-f5a34c045599725dd6591441381fc59e\"}, \"mark\": {\"type\": \"line\", \"color\": \"red\"}, \"encoding\": {\"x\": {\"field\": \"sqft\", \"type\": \"quantitative\"}, \"y\": {\"field\": \"value\", \"type\": \"quantitative\"}}}, {\"data\": {\"name\": \"data-b64027b42c6683bab3c2524995ec81ae\"}, \"mark\": {\"type\": \"line\", \"color\": \"red\"}, \"encoding\": {\"x\": {\"field\": \"sqft\", \"type\": \"quantitative\"}, \"y\": {\"field\": \"value\", \"type\": \"quantitative\"}}}, {\"data\": {\"name\": \"data-55c1ed8d1a7a994fb917618f46eb40dc\"}, \"mark\": {\"type\": \"line\", \"color\": \"red\"}, \"encoding\": {\"x\": {\"field\": \"sqft\", \"type\": \"quantitative\"}, \"y\": {\"field\": \"value\", \"type\": \"quantitative\"}}}, {\"data\": {\"name\": \"data-128ca6c205513e1fbc01690e4eda3ec5\"}, \"mark\": {\"type\": \"line\", \"color\": \"red\"}, \"encoding\": {\"x\": {\"field\": \"sqft\", \"type\": \"quantitative\"}, \"y\": {\"field\": \"value\", \"type\": \"quantitative\"}}}, {\"data\": {\"name\": \"data-ebbcd309de520b09783e4d45d3eef8fa\"}, \"mark\": {\"type\": \"line\", \"color\": \"red\"}, \"encoding\": {\"x\": {\"field\": \"sqft\", \"type\": \"quantitative\"}, \"y\": {\"field\": \"value\", \"type\": \"quantitative\"}}}, {\"data\": {\"name\": \"data-2b7a561a8db56f0e6d37ea9f059f6687\"}, \"mark\": {\"type\": \"line\", \"color\": \"red\"}, \"encoding\": {\"x\": {\"field\": \"sqft\", \"type\": \"quantitative\"}, \"y\": {\"field\": \"value\", \"type\": \"quantitative\"}}}, {\"data\": {\"name\": \"data-4795c107518bb06260cec91603c134f6\"}, \"mark\": {\"type\": \"line\", \"color\": \"red\"}, \"encoding\": {\"x\": {\"field\": \"sqft\", \"type\": \"quantitative\"}, \"y\": {\"field\": \"value\", \"type\": \"quantitative\"}}}, {\"data\": {\"name\": \"data-21e267dc0187354dde83be7d2a8bea4a\"}, \"mark\": {\"type\": \"line\", \"color\": \"red\"}, \"encoding\": {\"x\": {\"field\": \"sqft\", \"type\": \"quantitative\"}, \"y\": {\"field\": \"value\", \"type\": \"quantitative\"}}}, {\"data\": {\"name\": \"data-a474c7517c2223e36a9d3b7262db2560\"}, \"mark\": {\"type\": \"line\", \"color\": \"red\"}, \"encoding\": {\"x\": {\"field\": \"sqft\", \"type\": \"quantitative\"}, \"y\": {\"field\": \"value\", \"type\": \"quantitative\"}}}, {\"data\": {\"name\": \"data-b591e826abef8adbffd3d4f73237cddc\"}, \"mark\": {\"type\": \"line\", \"color\": \"red\"}, \"encoding\": {\"x\": {\"field\": \"sqft\", \"type\": \"quantitative\"}, \"y\": {\"field\": \"value\", \"type\": \"quantitative\"}}}, {\"data\": {\"name\": \"data-eb0a04cb70e10d3c973128c1ac6f22c8\"}, \"mark\": {\"type\": \"line\", \"color\": \"red\"}, \"encoding\": {\"x\": {\"field\": \"sqft\", \"type\": \"quantitative\"}, \"y\": {\"field\": \"value\", \"type\": \"quantitative\"}}}, {\"data\": {\"name\": \"data-50a675587f70786eb8e75105d1cd358a\"}, \"mark\": {\"type\": \"line\", \"color\": \"red\"}, \"encoding\": {\"x\": {\"field\": \"sqft\", \"type\": \"quantitative\"}, \"y\": {\"field\": \"value\", \"type\": \"quantitative\"}}}, {\"data\": {\"name\": \"data-ce4ed5c1bda441ef0f700d7aa99f835c\"}, \"mark\": {\"type\": \"line\", \"color\": \"red\"}, \"encoding\": {\"x\": {\"field\": \"sqft\", \"type\": \"quantitative\"}, \"y\": {\"field\": \"value\", \"type\": \"quantitative\"}}}, {\"data\": {\"name\": \"data-a1d4688279e95f333d81f7a6b35c4380\"}, \"mark\": {\"type\": \"line\", \"color\": \"red\"}, \"encoding\": {\"x\": {\"field\": \"sqft\", \"type\": \"quantitative\"}, \"y\": {\"field\": \"value\", \"type\": \"quantitative\"}}}, {\"data\": {\"name\": \"data-960352d027ae6a129fb7552e2c116f44\"}, \"mark\": {\"type\": \"line\", \"color\": \"red\"}, \"encoding\": {\"x\": {\"field\": \"sqft\", \"type\": \"quantitative\"}, \"y\": {\"field\": \"value\", \"type\": \"quantitative\"}}}, {\"data\": {\"name\": \"data-e155c8b8f7dbea20e17279f188cde235\"}, \"mark\": {\"type\": \"line\", \"color\": \"red\"}, \"encoding\": {\"x\": {\"field\": \"sqft\", \"type\": \"quantitative\"}, \"y\": {\"field\": \"value\", \"type\": \"quantitative\"}}}, {\"data\": {\"name\": \"data-881a2149f58e919643e234e0f5f841ee\"}, \"mark\": {\"type\": \"line\", \"color\": \"red\"}, \"encoding\": {\"x\": {\"field\": \"sqft\", \"type\": \"quantitative\"}, \"y\": {\"field\": \"value\", \"type\": \"quantitative\"}}}, {\"data\": {\"name\": \"data-ed1c9fb01d3bb1ea275d23fe9e7eba7a\"}, \"mark\": {\"type\": \"line\", \"color\": \"red\"}, \"encoding\": {\"x\": {\"field\": \"sqft\", \"type\": \"quantitative\"}, \"y\": {\"field\": \"value\", \"type\": \"quantitative\"}}}], \"data\": {\"name\": \"data-dd70ea120b69e4d2199dadb4d59509b6\"}, \"$schema\": \"https://vega.github.io/schema/vega-lite/v4.17.0.json\", \"datasets\": {\"data-dd70ea120b69e4d2199dadb4d59509b6\": [{\"city\": \"SACRAMENTO\", \"zip\": \"z95829\", \"beds\": 3, \"baths\": 2.0, \"sqft\": 2170, \"type\": \"Residential\", \"price\": 257729, \"latitude\": 38.45967, \"longitude\": -121.360461}, {\"city\": \"SACRAMENTO\", \"zip\": \"z95835\", \"beds\": 3, \"baths\": 2.0, \"sqft\": 1686, \"type\": \"Residential\", \"price\": 239000, \"latitude\": 38.671556, \"longitude\": -121.520916}, {\"city\": \"ROSEVILLE\", \"zip\": \"z95678\", \"beds\": 3, \"baths\": 2.0, \"sqft\": 1174, \"type\": \"Residential\", \"price\": 180000, \"latitude\": 38.734136, \"longitude\": -121.299639}, {\"city\": \"EL_DORADO_HILLS\", \"zip\": \"z95762\", \"beds\": 5, \"baths\": 4.0, \"sqft\": 4091, \"type\": \"Residential\", \"price\": 508000, \"latitude\": 38.676131, \"longitude\": -121.038931}, {\"city\": \"SACRAMENTO\", \"zip\": \"z95842\", \"beds\": 5, \"baths\": 2.0, \"sqft\": 1712, \"type\": \"Residential\", \"price\": 168000, \"latitude\": 38.677003, \"longitude\": -121.354454}, {\"city\": \"FAIR_OAKS\", \"zip\": \"z95628\", \"beds\": 3, \"baths\": 1.0, \"sqft\": 960, \"type\": \"Residential\", \"price\": 185000, \"latitude\": 38.667254, \"longitude\": -121.240708}, {\"city\": \"ORANGEVALE\", \"zip\": \"z95662\", \"beds\": 3, \"baths\": 2.0, \"sqft\": 1294, \"type\": \"Residential\", \"price\": 191250, \"latitude\": 38.687006, \"longitude\": -121.254319}, {\"city\": \"SACRAMENTO\", \"zip\": \"z95842\", \"beds\": 2, \"baths\": 2.0, \"sqft\": 1134, \"type\": \"Condo\", \"price\": 110700, \"latitude\": 38.700051, \"longitude\": -121.351278}, {\"city\": \"SACRAMENTO\", \"zip\": \"z95838\", \"beds\": 2, \"baths\": 1.0, \"sqft\": 1011, \"type\": \"Residential\", \"price\": 70000, \"latitude\": 38.643978, \"longitude\": -121.449562}, {\"city\": \"SACRAMENTO\", \"zip\": \"z95824\", \"beds\": 2, \"baths\": 2.0, \"sqft\": 1139, \"type\": \"Residential\", \"price\": 93600, \"latitude\": 38.520469, \"longitude\": -121.458606}, {\"city\": \"ROSEVILLE\", \"zip\": \"z95747\", \"beds\": 3, \"baths\": 2.5, \"sqft\": 1829, \"type\": \"Residential\", \"price\": 306500, \"latitude\": 38.772771, \"longitude\": -121.364877}, {\"city\": \"SACRAMENTO\", \"zip\": \"z95823\", \"beds\": 4, \"baths\": 2.0, \"sqft\": 1472, \"type\": \"Residential\", \"price\": 148750, \"latitude\": 38.479553, \"longitude\": -121.463317}, {\"city\": \"SACRAMENTO\", \"zip\": \"z95819\", \"beds\": 3, \"baths\": 1.0, \"sqft\": 1108, \"type\": \"Residential\", \"price\": 339000, \"latitude\": 38.563805, \"longitude\": -121.436395}, {\"city\": \"SACRAMENTO\", \"zip\": \"z95825\", \"beds\": 3, \"baths\": 1.0, \"sqft\": 1520, \"type\": \"Residential\", \"price\": 255000, \"latitude\": 38.599449, \"longitude\": -121.400305}, {\"city\": \"ELVERTA\", \"zip\": \"z95626\", \"beds\": 3, \"baths\": 2.0, \"sqft\": 1080, \"type\": \"Residential\", \"price\": 126000, \"latitude\": 38.717976, \"longitude\": -121.407684}, {\"city\": \"EL_DORADO_HILLS\", \"zip\": \"z95762\", \"beds\": 3, \"baths\": 2.0, \"sqft\": 2129, \"type\": \"Residential\", \"price\": 460000, \"latitude\": 38.668239, \"longitude\": -121.064437}, {\"city\": \"SACRAMENTO\", \"zip\": \"z95838\", \"beds\": 4, \"baths\": 2.0, \"sqft\": 1799, \"type\": \"Residential\", \"price\": 205000, \"latitude\": 38.655887, \"longitude\": -121.446119}, {\"city\": \"SACRAMENTO\", \"zip\": \"z95835\", \"beds\": 5, \"baths\": 3.0, \"sqft\": 3599, \"type\": \"Residential\", \"price\": 381300, \"latitude\": 38.677126, \"longitude\": -121.500519}, {\"city\": \"CAMERON_PARK\", \"zip\": \"z95682\", \"beds\": 2, \"baths\": 1.5, \"sqft\": 1376, \"type\": \"Residential\", \"price\": 210000, \"latitude\": 38.69437, \"longitude\": -120.996602}, {\"city\": \"SACRAMENTO\", \"zip\": \"z95815\", \"beds\": 3, \"baths\": 1.0, \"sqft\": 696, \"type\": \"Residential\", \"price\": 121725, \"latitude\": 38.613103, \"longitude\": -121.444085}, {\"city\": \"CARMICHAEL\", \"zip\": \"z95608\", \"beds\": 3, \"baths\": 2.0, \"sqft\": 1245, \"type\": \"Condo\", \"price\": 139500, \"latitude\": 38.628563, \"longitude\": -121.328297}, {\"city\": \"ELK_GROVE\", \"zip\": \"z95757\", \"beds\": 5, \"baths\": 3.5, \"sqft\": 2724, \"type\": \"Residential\", \"price\": 383000, \"latitude\": 38.381102, \"longitude\": -121.42901}, {\"city\": \"FAIR_OAKS\", \"zip\": \"z95628\", \"beds\": 3, \"baths\": 2.0, \"sqft\": 3173, \"type\": \"Residential\", \"price\": 525000, \"latitude\": 38.650735, \"longitude\": -121.258628}, {\"city\": \"CITRUS_HEIGHTS\", \"zip\": \"z95621\", \"beds\": 3, \"baths\": 2.0, \"sqft\": 1118, \"type\": \"Residential\", \"price\": 122000, \"latitude\": 38.707851, \"longitude\": -121.320707}, {\"city\": \"CITRUS_HEIGHTS\", \"zip\": \"z95610\", \"beds\": 3, \"baths\": 2.0, \"sqft\": 1882, \"type\": \"Residential\", \"price\": 219000, \"latitude\": 38.715423, \"longitude\": -121.246743}, {\"city\": \"SACRAMENTO\", \"zip\": \"z95834\", \"beds\": 3, \"baths\": 2.0, \"sqft\": 1672, \"type\": \"Condo\", \"price\": 265000, \"latitude\": 38.648879, \"longitude\": -121.544023}, {\"city\": \"SACRAMENTO\", \"zip\": \"z95842\", \"beds\": 2, \"baths\": 1.0, \"sqft\": 924, \"type\": \"Condo\", \"price\": 150454, \"latitude\": 38.672567, \"longitude\": -121.356754}, {\"city\": \"ANTELOPE\", \"zip\": \"z95843\", \"beds\": 3, \"baths\": 2.0, \"sqft\": 1830, \"type\": \"Residential\", \"price\": 254172, \"latitude\": 38.710221, \"longitude\": -121.341707}, {\"city\": \"SACRAMENTO\", \"zip\": \"z95820\", \"beds\": 2, \"baths\": 1.0, \"sqft\": 722, \"type\": \"Residential\", \"price\": 145000, \"latitude\": 38.532727, \"longitude\": -121.470783}, {\"city\": \"SACRAMENTO\", \"zip\": \"z95820\", \"beds\": 3, \"baths\": 2.0, \"sqft\": 1212, \"type\": \"Residential\", \"price\": 228327, \"latitude\": 38.534827, \"longitude\": -121.412545}], \"data-158e575ab9368412b29f685ce69990a5\": [{\"sqft\": 2170, \"variable\": \"price\", \"value\": 257729.0}, {\"sqft\": 2170, \"variable\": \"predicted\", \"value\": 296920.49645515514}], \"data-0f1d0f34d6e2481ed5c4477021b0d756\": [{\"sqft\": 1686, \"variable\": \"price\", \"value\": 239000.0}, {\"sqft\": 1686, \"variable\": \"predicted\", \"value\": 237435.88024868534}], \"data-f4b12bdcc0035168dfa592e903a8349e\": [{\"sqft\": 1174, \"variable\": \"price\", \"value\": 180000.0}, {\"sqft\": 1174, \"variable\": \"predicted\", \"value\": 174510.00525341145}], \"data-215feb86ea4adfdb8ad8bb3e9ed5ce69\": [{\"sqft\": 4091, \"variable\": \"price\", \"value\": 508000.0}, {\"sqft\": 4091, \"variable\": \"predicted\", \"value\": 533015.4297870323}], \"data-661b0b91506b89ce8b9c21ed639c4c25\": [{\"sqft\": 1712, \"variable\": \"price\", \"value\": 168000.0}, {\"sqft\": 1712, \"variable\": \"predicted\", \"value\": 240631.33483828907}], \"data-5c11126746a1c4e117c38d11f63c0989\": [{\"sqft\": 960, \"variable\": \"price\", \"value\": 185000.0}, {\"sqft\": 960, \"variable\": \"predicted\", \"value\": 148208.95593898057}], \"data-1c8799a3f6aa9acf3b14da54fea85f46\": [{\"sqft\": 1294, \"variable\": \"price\", \"value\": 191250.0}, {\"sqft\": 1294, \"variable\": \"predicted\", \"value\": 189258.25720542876}], \"data-6a02c676673c88219f4bbe177abb9451\": [{\"sqft\": 1134, \"variable\": \"price\", \"value\": 110700.0}, {\"sqft\": 1134, \"variable\": \"predicted\", \"value\": 169593.92126940566}], \"data-d7e5a20bee4750093e928b968e6a4a82\": [{\"sqft\": 1011, \"variable\": \"price\", \"value\": 70000.0}, {\"sqft\": 1011, \"variable\": \"predicted\", \"value\": 154476.9630185879}], \"data-0708ad81a280111d6b72186e36517a86\": [{\"sqft\": 1139, \"variable\": \"price\", \"value\": 93600.0}, {\"sqft\": 1139, \"variable\": \"predicted\", \"value\": 170208.4317674064}], \"data-5d2245f647c352254fe0c6ce73128014\": [{\"sqft\": 1829, \"variable\": \"price\", \"value\": 306500.0}, {\"sqft\": 1829, \"variable\": \"predicted\", \"value\": 255010.88049150596}], \"data-0fa451398545643fa2a2aff2af1a6f07\": [{\"sqft\": 1472, \"variable\": \"price\", \"value\": 148750.0}, {\"sqft\": 1472, \"variable\": \"predicted\", \"value\": 211134.83093425445}], \"data-f5a34c045599725dd6591441381fc59e\": [{\"sqft\": 1108, \"variable\": \"price\", \"value\": 339000.0}, {\"sqft\": 1108, \"variable\": \"predicted\", \"value\": 166398.46667980193}], \"data-b64027b42c6683bab3c2524995ec81ae\": [{\"sqft\": 1520, \"variable\": \"price\", \"value\": 255000.0}, {\"sqft\": 1520, \"variable\": \"predicted\", \"value\": 217034.13171506138}], \"data-55c1ed8d1a7a994fb917618f46eb40dc\": [{\"sqft\": 1080, \"variable\": \"price\", \"value\": 126000.0}, {\"sqft\": 1080, \"variable\": \"predicted\", \"value\": 162957.20789099787}], \"data-128ca6c205513e1fbc01690e4eda3ec5\": [{\"sqft\": 2129, \"variable\": \"price\", \"value\": 460000.0}, {\"sqft\": 2129, \"variable\": \"predicted\", \"value\": 291881.5103715493}], \"data-ebbcd309de520b09783e4d45d3eef8fa\": [{\"sqft\": 1799, \"variable\": \"price\", \"value\": 205000.0}, {\"sqft\": 1799, \"variable\": \"predicted\", \"value\": 251323.81750350163}], \"data-2b7a561a8db56f0e6d37ea9f059f6687\": [{\"sqft\": 3599, \"variable\": \"price\", \"value\": 381300.0}, {\"sqft\": 3599, \"variable\": \"predicted\", \"value\": 472547.59678376134}], \"data-4795c107518bb06260cec91603c134f6\": [{\"sqft\": 1376, \"variable\": \"price\", \"value\": 210000.0}, {\"sqft\": 1376, \"variable\": \"predicted\", \"value\": 199336.2293726406}], \"data-21e267dc0187354dde83be7d2a8bea4a\": [{\"sqft\": 696, \"variable\": \"price\", \"value\": 121725.0}, {\"sqft\": 696, \"variable\": \"predicted\", \"value\": 115762.80164454247}], \"data-a474c7517c2223e36a9d3b7262db2560\": [{\"sqft\": 1245, \"variable\": \"price\", \"value\": 139500.0}, {\"sqft\": 1245, \"variable\": \"predicted\", \"value\": 183236.0543250217}], \"data-b591e826abef8adbffd3d4f73237cddc\": [{\"sqft\": 2724, \"variable\": \"price\", \"value\": 383000.0}, {\"sqft\": 2724, \"variable\": \"predicted\", \"value\": 365008.2596336351}], \"data-eb0a04cb70e10d3c973128c1ac6f22c8\": [{\"sqft\": 3173, \"variable\": \"price\", \"value\": 525000.0}, {\"sqft\": 3173, \"variable\": \"predicted\", \"value\": 420191.30235409987}], \"data-50a675587f70786eb8e75105d1cd358a\": [{\"sqft\": 1118, \"variable\": \"price\", \"value\": 122000.0}, {\"sqft\": 1118, \"variable\": \"predicted\", \"value\": 167627.48767580336}], \"data-ce4ed5c1bda441ef0f700d7aa99f835c\": [{\"sqft\": 1882, \"variable\": \"price\", \"value\": 219000.0}, {\"sqft\": 1882, \"variable\": \"predicted\", \"value\": 261524.6917703136}], \"data-a1d4688279e95f333d81f7a6b35c4380\": [{\"sqft\": 1672, \"variable\": \"price\", \"value\": 265000.0}, {\"sqft\": 1672, \"variable\": \"predicted\", \"value\": 235715.2508542833}], \"data-960352d027ae6a129fb7552e2c116f44\": [{\"sqft\": 924, \"variable\": \"price\", \"value\": 150454.0}, {\"sqft\": 924, \"variable\": \"predicted\", \"value\": 143784.48035337537}], \"data-e155c8b8f7dbea20e17279f188cde235\": [{\"sqft\": 1830, \"variable\": \"price\", \"value\": 254172.0}, {\"sqft\": 1830, \"variable\": \"predicted\", \"value\": 255133.7825911061}], \"data-881a2149f58e919643e234e0f5f841ee\": [{\"sqft\": 722, \"variable\": \"price\", \"value\": 145000.0}, {\"sqft\": 722, \"variable\": \"predicted\", \"value\": 118958.25623414622}], \"data-ed1c9fb01d3bb1ea275d23fe9e7eba7a\": [{\"sqft\": 1212, \"variable\": \"price\", \"value\": 228327.0}, {\"sqft\": 1212, \"variable\": \"predicted\", \"value\": 179180.28503821694}]}}, {\"mode\": \"vega-lite\"});\n",
       "</script>"
      ],
      "text/plain": [
       "alt.LayerChart(...)"
      ]
     },
     "metadata": {
      "scrapbook": {
       "mime_prefix": "",
       "name": "fig:08-verticalDistToMin"
      }
     },
     "output_type": "display_data"
    }
   ],
   "source": [
    "glue(\"fig:08-verticalDistToMin\", error_plot)"
   ]
  },
  {
   "cell_type": "markdown",
   "id": "d4f5680e-62b7-43dd-9029-e49b8a96798f",
   "metadata": {},
   "source": [
    ":::{glue:figure} fig:08-verticalDistToMin\n",
    ":name: fig:08-verticalDistToMin\n",
    "\n",
    "Scatter plot of sale price versus size with red lines denoting the vertical distances between the predicted values and the observed data points.\n",
    ":::"
   ]
  },
  {
   "cell_type": "markdown",
   "id": "b660a37e-19a3-4d9e-b19d-1b3371b2aea4",
   "metadata": {},
   "source": [
    "## Linear regression in R\n",
    "\n",
    "We can perform simple linear regression in R using `tidymodels` \\index{tidymodels} in a\n",
    "very similar manner to how we performed KNN regression. \n",
    "To do this, instead of creating a `nearest_neighbor` model specification with\n",
    "the `kknn` engine, we use a `linear_reg` model specification\n",
    "with the `lm` engine. Another difference is that we do not need to choose $K$ in the\n",
    "context of linear regression, and so we do not need to perform cross-validation.\n",
    "Below we illustrate how we can use the usual `tidymodels` workflow to predict house sale\n",
    "price given house size using a simple linear regression approach using the full\n",
    "Sacramento real estate data set.\n",
    "\n",
    "As usual, we start by loading packages, setting the seed, loading data, and putting some test data away in a lock box that we\n",
    "can come back to after we choose our final model. Let's take care of that now.\n",
    "\\index{seed!set.seed}"
   ]
  },
  {
   "cell_type": "markdown",
   "id": "183f302b-a3ee-4b8c-9170-4b8b8f1bbe1a",
   "metadata": {},
   "source": [
    "```{r 08-test-train-split, message = FALSE, warning = FALSE}\n",
    "library(tidyverse)\n",
    "library(tidymodels)\n",
    "\n",
    "set.seed(1234)\n",
    "\n",
    "sacramento <- read_csv(\"data/sacramento.csv\")\n",
    "\n",
    "sacramento_split <- initial_split(sacramento, prop = 0.6, strata = price)\n",
    "sacramento_train <- training(sacramento_split)\n",
    "sacramento_test <- testing(sacramento_split)\n",
    "```"
   ]
  },
  {
   "cell_type": "markdown",
   "id": "44718d92-d78a-46a8-a129-0137ca6e7b9a",
   "metadata": {},
   "source": [
    "Now that we have our training data, we will create the model specification\n",
    "and recipe, and fit our simple linear regression model:"
   ]
  },
  {
   "cell_type": "markdown",
   "id": "63cef4c3-6876-4c47-9a59-220c83d73b0f",
   "metadata": {},
   "source": [
    "```{r 08-fitLM, results = 'hide', echo = TRUE}\n",
    "lm_spec <- linear_reg() |>\n",
    "  set_engine(\"lm\") |>\n",
    "  set_mode(\"regression\")\n",
    "\n",
    "lm_recipe <- recipe(price ~ sqft, data = sacramento_train)\n",
    "\n",
    "lm_fit <- workflow() |>\n",
    "  add_recipe(lm_recipe) |>\n",
    "  add_model(lm_spec) |>\n",
    "  fit(data = sacramento_train)\n",
    "\n",
    "lm_fit\n",
    "```\n",
    "\n",
    "```{r echo = FALSE}\n",
    "print_tidymodels(lm_fit)\n",
    "```"
   ]
  },
  {
   "cell_type": "markdown",
   "id": "669300d8-1f25-4ee7-b93d-758335979587",
   "metadata": {},
   "source": [
    "> **Note:** An additional difference that you will notice here is that we do\n",
    "> not standardize \\index{standardization} (i.e., scale and center) our\n",
    "> predictors. In K-nearest neighbors models, recall that the model fit changes\n",
    "> depending on whether we standardize first or not. In linear regression,\n",
    "> standardization does not affect the fit (it *does* affect the coefficients in\n",
    "> the equation, though!).  So you can standardize if you want&mdash;it won't\n",
    "> hurt anything&mdash;but if you leave the predictors in their original form,\n",
    "> the best fit coefficients are usually easier to interpret afterward.\n",
    "\n",
    "Our coefficients are \n",
    "(intercept) $\\beta_0=$ `r format(round(pull(tidy(pull_workflow_fit(lm_fit)), estimate)[1]), scientific=FALSE)`\n",
    "and (slope) $\\beta_1=$ `r format(round(pull(tidy(pull_workflow_fit(lm_fit)), estimate)[2]), scientific=FALSE)`.\n",
    "This means that the equation of the line of best fit is\n",
    "\n",
    "$$\\text{house sale price} = `r format(round(pull(tidy(pull_workflow_fit(lm_fit)), estimate)[1]), scientific=FALSE)` + `r format(round(pull(tidy(pull_workflow_fit(lm_fit)), estimate)[2]), scientific=FALSE)`\\cdot (\\text{house size}).$$\n",
    "\n",
    "In other words, the model predicts that houses \n",
    "start at \\$`r format(round(pull(tidy(pull_workflow_fit(lm_fit)), estimate)[1]), big.mark=\",\", nsmall=0, scientific=FALSE)` for 0 square feet, and that\n",
    "every extra square foot increases the cost of \n",
    "the house by \\$`r format(round(pull(tidy(pull_workflow_fit(lm_fit)), estimate)[2]), scientific=FALSE)`. Finally, \n",
    "we predict on the test data set to assess how well our model does:"
   ]
  },
  {
   "cell_type": "markdown",
   "id": "a3c9ddb8-03fe-474d-8ad4-823fc7d4d238",
   "metadata": {},
   "source": [
    "```{r 08-assessFinal}\n",
    "lm_test_results <- lm_fit |>\n",
    "  predict(sacramento_test) |>\n",
    "  bind_cols(sacramento_test) |>\n",
    "  metrics(truth = price, estimate = .pred)\n",
    "\n",
    "lm_test_results\n",
    "```"
   ]
  },
  {
   "cell_type": "markdown",
   "id": "5a0a4b1f-6e72-4beb-8562-67886f5877aa",
   "metadata": {},
   "source": [
    "Our final model's test error as assessed by RMSPE \\index{RMSPE}\n",
    "is `r format(round(lm_test_results |> filter(.metric == 'rmse') |> pull(.estimate)), big.mark=\",\", nsmall=0, scientific=FALSE)`. \n",
    "Remember that this is in units of the target/response variable, and here that\n",
    "is US Dollars (USD). Does this mean our model is \"good\" at predicting house\n",
    "sale price based off of the predictor of home size? Again, answering this is\n",
    "tricky and requires knowledge of how you intend to use the prediction.\n",
    "\n",
    "To visualize the simple linear regression model, we can plot the predicted house\n",
    "sale price across all possible house sizes we might encounter superimposed on a scatter\n",
    "plot of the original housing price data. There is a plotting function in \n",
    "the `tidyverse`, `geom_smooth`, that\n",
    "allows us to add a layer on our plot with the simple\n",
    "linear regression predicted line of best fit. By default `geom_smooth` adds some other information\n",
    "to the plot that we are not interested in at this point; we provide the argument `se = FALSE` to\n",
    "tell `geom_smooth` not to show that information. Figure \\@ref(fig:08-lm-predict-all) displays the result."
   ]
  },
  {
   "cell_type": "markdown",
   "id": "33eb25f2-3f57-4065-bc65-e06a6a67d6b8",
   "metadata": {},
   "source": [
    "```{r 08-lm-predict-all, fig.height = 3.5, fig.width = 4.5, warning = FALSE, fig.pos = \"H\", out.extra=\"\", message = FALSE, fig.cap = \"Scatter plot of sale price versus size with line of best fit for the full Sacramento housing data.\"}\n",
    "lm_plot_final <- ggplot(sacramento_train, aes(x = sqft, y = price)) +\n",
    "  geom_point(alpha = 0.4) +\n",
    "  xlab(\"House size (square feet)\") +\n",
    "  ylab(\"Price (USD)\") +\n",
    "  scale_y_continuous(labels = dollar_format()) +\n",
    "  geom_smooth(method = \"lm\", se = FALSE) + \n",
    "  theme(text = element_text(size = 12))\n",
    "\n",
    "lm_plot_final\n",
    "```"
   ]
  },
  {
   "cell_type": "markdown",
   "id": "6bb0eb55-d20b-468e-89af-a00075065f52",
   "metadata": {},
   "source": [
    "We can extract the coefficients from our model by accessing the\n",
    "fit object that is output by the `fit` \\index{tidymodels!fit} function; we first have to extract\n",
    "it from the workflow using the `pull_workflow_fit` function, and then apply\n",
    "the `tidy` function to convert the result into a data frame:"
   ]
  },
  {
   "cell_type": "markdown",
   "id": "f8e0385e-1755-48eb-a2ac-797fd8fc40d3",
   "metadata": {},
   "source": [
    "```{r 08-lm-get-coeffs}\n",
    "coeffs <- lm_fit |>\n",
    "             pull_workflow_fit() |>\n",
    "             tidy()\n",
    "\n",
    "coeffs\n",
    "```"
   ]
  },
  {
   "cell_type": "markdown",
   "id": "e2c303ed-549f-4a53-9c0b-c6f4ec6d925c",
   "metadata": {},
   "source": [
    "## Comparing simple linear and KNN regression\n",
    "\n",
    "Now that we have a general understanding of both simple linear and KNN\n",
    "regression, we \\index{regression!comparison of methods} can start to compare and contrast these methods as well as the\n",
    "predictions made by them. To start, let's look at the visualization of the\n",
    "simple linear regression model predictions for the Sacramento real estate data\n",
    "(predicting price from house size) and the \"best\" KNN regression model\n",
    "obtained from the same problem, shown in Figure \\@ref(fig:08-compareRegression)."
   ]
  },
  {
   "cell_type": "markdown",
   "id": "8775554e-113c-4730-b8a5-d5a2fb77c0bc",
   "metadata": {},
   "source": [
    "```{r 08-compareRegression, echo = FALSE, warning = FALSE, message = FALSE, fig.height = 4.75, fig.width = 10, fig.cap = \"Comparison of simple linear regression and KNN regression.\"}\n",
    "set.seed(1234)\n",
    "sacr_spec <- nearest_neighbor(weight_func = \"rectangular\", neighbors = 30) |>\n",
    "  set_engine(\"kknn\") |>\n",
    "  set_mode(\"regression\")\n",
    "\n",
    "sacr_recipe <- recipe(price ~ sqft, data = sacramento_train) |>\n",
    "  step_scale(all_predictors()) |>\n",
    "  step_center(all_predictors())\n",
    "\n",
    "sacr_wkflw <- workflow() |>\n",
    "  add_recipe(sacr_recipe) |>\n",
    "  add_model(sacr_spec)\n",
    "\n",
    "sacr_fit <- sacr_wkflw |>\n",
    "  fit(data = sacramento_train)\n",
    "\n",
    "sacr_preds <- sacr_fit |>\n",
    "  predict(sacramento_train) |>\n",
    "  bind_cols(sacramento_train)\n",
    "\n",
    "sacr_rmse <- sacr_preds |>\n",
    "  metrics(truth = price, estimate = .pred) |>\n",
    "  filter(.metric == \"rmse\") |>\n",
    "  pull(.estimate) |>\n",
    "  round(2)\n",
    "\n",
    "sacr_rmspe <- sacr_fit |>\n",
    "  predict(sacramento_test) |>\n",
    "  bind_cols(sacramento_test) |>\n",
    "  metrics(truth = price, estimate = .pred) |>\n",
    "  filter(.metric == \"rmse\") |>\n",
    "  pull(.estimate) |>\n",
    "  round()\n",
    "\n",
    "\n",
    "knn_plot_final <- ggplot(sacr_preds, aes(x = sqft, y = price)) +\n",
    "  geom_point(alpha = 0.4) +\n",
    "  xlab(\"House size (square feet)\") +\n",
    "  ylab(\"Price (USD)\") +\n",
    "  scale_y_continuous(labels = dollar_format()) +\n",
    "  geom_line(data = sacr_preds, aes(x = sqft, y = .pred), color = \"blue\") +\n",
    "  ggtitle(\"KNN regression\") +\n",
    "  annotate(\"text\", x = 3500, y = 100000, label = paste(\"RMSPE =\", sacr_rmspe)) +\n",
    "  theme(text = element_text(size = 18), axis.title=element_text(size=18)) \n",
    "\n",
    "\n",
    "  \n",
    "lm_rmspe <- lm_test_results |>\n",
    "  filter(.metric == \"rmse\") |>\n",
    "  pull(.estimate) |>\n",
    "  round()\n",
    "\n",
    "lm_plot_final <- lm_plot_final +\n",
    "  annotate(\"text\", x = 3500, y = 100000, label = paste(\"RMSPE =\", lm_rmspe)) +\n",
    "  ggtitle(\"linear regression\") +\n",
    "  theme(text = element_text(size = 18), axis.title=element_text(size=18)) \n",
    "\n",
    "grid.arrange(lm_plot_final, knn_plot_final, ncol = 2)\n",
    "```"
   ]
  },
  {
   "cell_type": "markdown",
   "id": "825d6c83-8d6b-4816-b3a7-8d57b33ffd42",
   "metadata": {},
   "source": [
    "What differences do we observe in Figure \\@ref(fig:08-compareRegression)? One obvious\n",
    "difference is the shape of the blue lines. In simple linear regression we are\n",
    "restricted to a straight line, whereas in KNN regression our line is much more\n",
    "flexible and can be quite wiggly. But there is a major interpretability advantage in limiting the\n",
    "model to a straight line. A \n",
    "straight line can be defined by two numbers, the\n",
    "vertical intercept and the slope. The intercept tells us what the prediction is when\n",
    "all of the predictors are equal to 0; and the slope tells us what unit increase in the target/response\n",
    "variable we predict given a unit increase in the predictor\n",
    "variable. KNN regression, as simple as it is to implement and understand, has no such\n",
    "interpretability from its wiggly line. \n",
    "\n",
    "There can, however, also be a disadvantage to using a simple linear regression\n",
    "model in some cases, particularly when the relationship between the target and\n",
    "the predictor is not linear, but instead some other shape (e.g., curved or oscillating). In \n",
    "these cases the prediction model from a simple linear regression\n",
    "will underfit \\index{underfitting!regression} (have high bias), meaning that model/predicted values do not\n",
    "match the actual observed values very well. Such a model would probably have a\n",
    "quite high RMSE when assessing model goodness of fit on the training data and\n",
    "a quite high RMSPE when assessing model prediction quality on a test data\n",
    "set. On such a data set, KNN regression may fare better. Additionally, there\n",
    "are other types of regression you can learn about in future books that may do\n",
    "even better at predicting with such data.\n",
    "\n",
    "How do these two models compare on the Sacramento house prices data set? In\n",
    "Figure \\@ref(fig:08-compareRegression), we also printed the RMSPE as calculated from \n",
    "predicting on the test data set that was not used to train/fit the models. The RMSPE for the simple linear\n",
    "regression model is slightly lower than the RMSPE for the KNN regression model.\n",
    "Considering that the simple linear regression model is also more interpretable,\n",
    "if we were comparing these in practice we would likely choose to use the simple\n",
    "linear regression model.\n",
    "\n",
    "Finally, note that the KNN regression model becomes \"flat\"\n",
    "at the left and right boundaries of the data, while the linear model\n",
    "predicts a constant slope. Predicting outside the range of the observed\n",
    "data is known as *extrapolation*; \\index{extrapolation} KNN and linear models behave quite differently\n",
    "when extrapolating. Depending on the application, the flat\n",
    "or constant slope trend may make more sense. For example, if our housing\n",
    "data were slightly different, the linear model may have actually predicted \n",
    "a *negative* price for a small house (if the intercept $\\beta_0$ was negative),\n",
    "which obviously does not match reality. On the other hand, the trend of increasing\n",
    "house size corresponding to increasing house price probably continues for large houses, \n",
    "so the \"flat\" extrapolation of KNN likely does not match reality."
   ]
  },
  {
   "cell_type": "markdown",
   "id": "b76c4d6d-788c-44bd-a40b-0a4e29a4cebe",
   "metadata": {},
   "source": [
    "## Multivariable linear regression\n",
    "\n",
    "As in KNN classification and KNN regression, we can move beyond the simple\n",
    "case of only one predictor to the case with multiple predictors, \n",
    "known as *multivariable linear regression*. \\index{regression!multivariable linear}\\index{regression!multivariable linear equation|see{plane equation}}\n",
    "To do this, we follow a very similar approach to what we did for\n",
    "KNN regression: we just add more predictors to the model formula in the \n",
    "recipe. But recall that we do not need to use cross-validation to choose any parameters,\n",
    "nor do we need to standardize (i.e., center and scale) the data for linear regression. \n",
    "Note once again that we have the same concerns regarding multiple predictors\n",
    " as in the settings of multivariable KNN regression and classification: having more predictors is **not** always\n",
    "better. But because the same predictor selection \n",
    "algorithm from the classification chapter extends to the setting of linear regression,\n",
    "it will not be covered again in this chapter.\n",
    "\n",
    "We will demonstrate multivariable linear regression using the Sacramento real estate  \\index{Sacramento real estate}\n",
    "data with both house size\n",
    "(measured in square feet) as well as number of bedrooms as our predictors, and\n",
    "continue to use house sale price as our response variable. We will start by \n",
    "changing the formula in the recipe to \n",
    "include both the `sqft` and `beds` variables as predictors:"
   ]
  },
  {
   "cell_type": "markdown",
   "id": "28684f8d-609e-4759-a0cc-bfdf607aa744",
   "metadata": {},
   "source": [
    "```{r 08-lm-mult-test-train-split}\n",
    "mlm_recipe <- recipe(price ~ sqft + beds, data = sacramento_train)\n",
    "```"
   ]
  },
  {
   "cell_type": "markdown",
   "id": "d85ab7c1-13be-4785-af46-e0b6f6a8e1ff",
   "metadata": {},
   "source": [
    "Now we can build our workflow and fit the model:"
   ]
  },
  {
   "cell_type": "markdown",
   "id": "9efff4ec-59a5-4c41-b1c2-913a605702c1",
   "metadata": {},
   "source": [
    "```{r 08-fitlm, results = 'hide', echo = TRUE}\n",
    "mlm_fit <- workflow() |>\n",
    "  add_recipe(mlm_recipe) |>\n",
    "  add_model(lm_spec) |>\n",
    "  fit(data = sacramento_train)\n",
    "\n",
    "mlm_fit\n",
    "```\n",
    "\n",
    "```{r echo = FALSE}\n",
    "print_tidymodels(mlm_fit)\n",
    "```"
   ]
  },
  {
   "cell_type": "markdown",
   "id": "cba038ed-6cfd-4231-b47e-5831cdcc07a2",
   "metadata": {},
   "source": [
    "And finally, we make predictions on the test data set to assess the quality of our model:"
   ]
  },
  {
   "cell_type": "markdown",
   "id": "50e5c8de-37b1-406c-a923-56e2b6fb6043",
   "metadata": {},
   "source": [
    "```{r 08-assessFinal-multi}\n",
    "lm_mult_test_results <- mlm_fit |>\n",
    "  predict(sacramento_test) |>\n",
    "  bind_cols(sacramento_test) |>\n",
    "  metrics(truth = price, estimate = .pred)\n",
    "\n",
    "lm_mult_test_results\n",
    "```"
   ]
  },
  {
   "cell_type": "markdown",
   "id": "f0baf0e6-44ea-4db9-bebc-68b603d9fc52",
   "metadata": {},
   "source": [
    "Our model's test error as assessed by RMSPE\n",
    "is `r format(round(lm_mult_test_results |> filter(.metric == 'rmse') |> pull(.estimate)), big.mark=\",\", nsmall=0, scientific=FALSE)`.\n",
    "In the case of two predictors, we can plot the predictions made by our linear regression creates a *plane* of best fit, as\n",
    "shown in Figure \\@ref(fig:08-3DlinReg)."
   ]
  },
  {
   "cell_type": "markdown",
   "id": "f2dbaef8-e262-4eb1-b3c0-dc1c111ab100",
   "metadata": {},
   "source": [
    "```{r 08-3DlinReg, echo = FALSE, message = FALSE, warning = FALSE, fig.cap = \"Linear regression plane of best fit overlaid on top of the data (using price, house size, and number of bedrooms as predictors). Note that in general we recommend against using 3D visualizations; here we use a 3D visualization only to illustrate what the regression plane looks like for learning purposes.\", out.width=\"100%\"}\n",
    "xvals <- seq(from = min(sacramento_train$sqft), \n",
    "             to = max(sacramento_train$sqft), \n",
    "             length = 50)\n",
    "yvals <- seq(from = min(sacramento_train$beds), \n",
    "             to = max(sacramento_train$beds), \n",
    "             length = 50)\n",
    "\n",
    "zvals <- mlm_fit |>\n",
    "  predict(crossing(xvals, yvals) |> \n",
    "            mutate(sqft = xvals, beds = yvals)) |>\n",
    "  pull(.pred)\n",
    "\n",
    "zvalsm <- matrix(zvals, nrow = length(xvals))\n",
    "\n",
    "plot_3d <- plot_ly() |>\n",
    "  add_markers(\n",
    "    data = sacramento_train,\n",
    "    x = ~sqft,\n",
    "    y = ~beds,\n",
    "    z = ~price,\n",
    "    marker = list(size = 2, opacity = 0.4, color = \"red\")\n",
    "  ) |>\n",
    "  layout(scene = list(\n",
    "    xaxis = list(title = \"Size (sq ft)\"),\n",
    "    zaxis = list(title = \"Price (USD)\"),\n",
    "    yaxis = list(title = \"Bedrooms\")\n",
    "  )) |>\n",
    "  add_surface(\n",
    "    x = ~xvals,\n",
    "    y = ~yvals,\n",
    "    z = ~zvalsm,\n",
    "    colorbar = list(title = \"Price (USD)\")\n",
    "  )\n",
    "\n",
    "if(!is_latex_output()){  \n",
    "  plot_3d\n",
    "} else {\n",
    "  scene = list(camera = list(eye = list(x = -2.1, y = -2.2, z = 0.75)))\n",
    "  plot_3d <- plot_3d  |> layout(scene = scene)\n",
    "  save_image(plot_3d, \"img/plot3d_linear_regression.png\", scale = 10)\n",
    "  knitr::include_graphics(\"img/plot3d_linear_regression.png\")\n",
    "}\n",
    "```"
   ]
  },
  {
   "cell_type": "markdown",
   "id": "884d5dae-d3db-4ad9-bece-279483dbd0db",
   "metadata": {},
   "source": [
    "We see that the predictions from linear regression with two predictors form a\n",
    "flat plane. This is the hallmark of linear regression, and differs from the \n",
    "wiggly, flexible surface we get from other methods such as KNN regression. \n",
    " As discussed, this can be advantageous in one aspect, which is that for each\n",
    "predictor, we can get slopes/intercept from linear regression, and thus describe the\n",
    "plane mathematically. We can extract those slope values from our model object\n",
    "as shown below:"
   ]
  },
  {
   "cell_type": "markdown",
   "id": "6369f42d-960d-422d-8f1b-8cc8cd20aa61",
   "metadata": {},
   "source": [
    "```{r 08-lm-multi-get-coeffs}\n",
    "mcoeffs <- mlm_fit |>\n",
    "             pull_workflow_fit() |>\n",
    "             tidy()\n",
    "\n",
    "mcoeffs\n",
    "```"
   ]
  },
  {
   "cell_type": "markdown",
   "id": "568ca068-a112-4dc7-a7ba-446c8162f733",
   "metadata": {},
   "source": [
    "And then use those slopes to write a mathematical equation to describe the prediction plane: \\index{plane equation}\n",
    "\n",
    "$$\\text{house sale price} = \\beta_0 + \\beta_1\\cdot(\\text{house size}) + \\beta_2\\cdot(\\text{number of bedrooms}),$$\n",
    "where:\n",
    "\n",
    "- $\\beta_0$ is the *vertical intercept* of the hyperplane (the price when both house size and number of bedrooms are 0)\n",
    "- $\\beta_1$ is the *slope* for the first predictor (how quickly the price increases as you increase house size)\n",
    "- $\\beta_2$ is the *slope* for the second predictor (how quickly the price increases as you increase the number of bedrooms)\n",
    "\n",
    "Finally, we can fill in the values for $\\beta_0$, $\\beta_1$ and $\\beta_2$ from the model output above\n",
    "to create the equation of the plane of best fit to the data:"
   ]
  },
  {
   "cell_type": "markdown",
   "id": "503e8451-e7fa-4290-b47c-9cc7f92a218b",
   "metadata": {},
   "source": [
    "```{r 08-lm-multi-get-coeffs-hidden, echo = FALSE}\n",
    "icept <- format(round(mcoeffs |> \n",
    "                        filter(term == \"(Intercept)\") |> \n",
    "                        pull(estimate)), scientific = FALSE)\n",
    "sqftc <- format(round(mcoeffs |> \n",
    "                        filter(term == \"sqft\") |> \n",
    "                        pull(estimate)), scientific = FALSE)\n",
    "bedsc <- format(round(mcoeffs |> \n",
    "                        filter(term == \"beds\") |> \n",
    "                        pull(estimate)), scientific = FALSE)\n",
    "```"
   ]
  },
  {
   "cell_type": "markdown",
   "id": "c6ff2d94-4aa7-4a85-87ad-44eece63c71d",
   "metadata": {},
   "source": [
    "$$\\text{house sale price} = `r icept` + `r sqftc`\\cdot (\\text{house size})  `r bedsc` \\cdot (\\text{number of bedrooms})$$\n",
    "\n",
    "This model is more interpretable than the multivariable KNN\n",
    "regression model; we can write a mathematical equation that explains how\n",
    "each predictor is affecting the predictions. But as always, we should \n",
    "question how well multivariable linear regression is doing compared to\n",
    "the other tools we have, such as simple linear regression \n",
    "and multivariable KNN regression. If this comparison is part of\n",
    "the model tuning process&mdash;for example, if we are trying\n",
    " out many different sets of predictors for multivariable linear\n",
    "and KNN regression&mdash;we must perform this comparison using\n",
    "cross-validation on only our training data. But if we have already\n",
    "decided on a small number (e.g., 2 or 3) of tuned candidate models and\n",
    "we want to make a final comparison, we can do so by comparing the prediction\n",
    "error of the methods on the test data."
   ]
  },
  {
   "cell_type": "markdown",
   "id": "09fef0eb-fc8d-4c2f-8d59-2ca9a5c25955",
   "metadata": {},
   "source": [
    "```{r 08-get-RMSPE}\n",
    "lm_mult_test_results\n",
    "```"
   ]
  },
  {
   "cell_type": "markdown",
   "id": "b15de620-ce30-4dcc-a30d-f4ecfd872229",
   "metadata": {},
   "source": [
    "We obtain an RMSPE \\index{RMSPE} for the multivariable linear regression model \n",
    "of `r format(lm_mult_test_results |> filter(.metric == 'rmse') |> pull(.estimate), big.mark=\",\", nsmall=0, scientific = FALSE)`. This prediction error\n",
    " is less than the prediction error for the multivariable KNN regression model,\n",
    "indicating that we should likely choose linear regression for predictions of\n",
    "house sale price on this data set. Revisiting the simple linear regression model\n",
    "with only a single predictor from earlier in this chapter, we see that the RMSPE for that model was \n",
    "`r format(lm_test_results |> filter(.metric == 'rmse') |> pull(.estimate), big.mark=\",\", nsmall=0, scientific = FALSE)`, \n",
    "which is slightly higher than that of our more complex model. Our model with two predictors\n",
    "provided a slightly better fit on test data than our model with just one. \n",
    "As mentioned earlier, this is not always the case: sometimes including more\n",
    "predictors can negatively impact the prediction performance on unseen \n",
    "test data."
   ]
  },
  {
   "cell_type": "markdown",
   "id": "6784cafc-a120-498d-affa-fb40014c89d1",
   "metadata": {},
   "source": [
    "## Multicollinearity and outliers\n",
    "\n",
    "What can go wrong when performing (possibly multivariable) linear regression? \n",
    "This section will introduce two common issues&mdash;*outliers* and *collinear predictors*&mdash;and \n",
    "illustrate their impact on predictions."
   ]
  },
  {
   "cell_type": "markdown",
   "id": "82e8bdaf-f69a-4f27-aea0-dec03d9d947f",
   "metadata": {},
   "source": [
    "### Outliers\n",
    "\n",
    "Outliers \\index{outliers} are data points that do not follow the usual pattern of the rest of the data.\n",
    "In the setting of linear regression, these are points that\n",
    " have a vertical distance to the line of best fit that is either much higher or much lower \n",
    "than you might expect based on the rest of the data. The problem with outliers is that\n",
    "they can have *too much influence* on the line of best fit. In general, it is very difficult\n",
    "to judge accurately which data are outliers without advanced techniques that are beyond\n",
    "the scope of this book.\n",
    "\n",
    "But to illustrate what can happen when you have outliers, Figure \\@ref(fig:08-lm-outlier)\n",
    "shows a small subset of the Sacramento housing data again, except we have added a *single* data point (highlighted\n",
    "in red). This house is 5,000 square feet in size, and sold for only \\$50,000. Unbeknownst to the\n",
    "data analyst, this house was sold by a parent to their child for an absurdly low price. Of course,\n",
    "this is not representative of the real housing market values that the other data points follow; \n",
    "the data point is an *outlier*. In blue we plot the original line of best fit, and in red\n",
    "we plot the new line of best fit including the outlier. You can see how different the red line\n",
    "is from the blue line, which is entirely caused by that one extra outlier data point."
   ]
  },
  {
   "cell_type": "markdown",
   "id": "b92e1a9c-8da1-4c1e-aac5-151e7d5d7de2",
   "metadata": {},
   "source": [
    "```{r 08-lm-outlier, fig.height = 3.5, fig.width = 4.5, message = FALSE, warning = FALSE, echo = FALSE, fig.cap = \"Scatter plot of a subset of the data, with outlier highlighted in red.\"}\n",
    "sacramento_train_small <- sacramento_train |> sample_n(100)\n",
    "sacramento_outlier <- tibble(sqft = 5000, price = 50000)\n",
    "\n",
    "lm_plot_outlier <- ggplot(sacramento_train_small, aes(x = sqft, y = price)) +\n",
    "  geom_point(alpha = 0.4) +\n",
    "  geom_point(data = sacramento_outlier, \n",
    "             mapping = aes(x = sqft, y = price), color=\"red\", size = 2.5) +\n",
    "  xlab(\"House size (square feet)\") +\n",
    "  ylab(\"Price (USD)\") +\n",
    "  scale_y_continuous(labels = dollar_format()) +\n",
    "  geom_smooth(method = \"lm\", se = FALSE) + \n",
    "  geom_smooth(data = sacramento_train_small |> \n",
    "                add_row(sqft = 5000, price = 50000), \n",
    "              method = \"lm\", se = FALSE, color = \"red\")\n",
    "\n",
    "lm_plot_outlier\n",
    "```"
   ]
  },
  {
   "cell_type": "markdown",
   "id": "660e6b93-a5cf-4e09-93e8-f724c07a672c",
   "metadata": {},
   "source": [
    "Fortunately, if you have enough data, the inclusion of one or two\n",
    "outliers&mdash;as long as their values are not *too* wild&mdash;will\n",
    "typically not have a large effect on the line of best fit. Figure\n",
    "\\@ref(fig:08-lm-outlier-2) shows how that same outlier data point from earlier\n",
    "influences the line of best fit when we are working with the entire original\n",
    "Sacramento training data. You can see that with this larger data set, the line\n",
    "changes much less when adding the outlier.\n",
    "Nevertheless, it is still important when working with linear regression to critically\n",
    "think about how much any individual data point is influencing the model."
   ]
  },
  {
   "cell_type": "markdown",
   "id": "458a4856-ec64-4bff-9364-51032952044d",
   "metadata": {},
   "source": [
    "```{r 08-lm-outlier-2, fig.height = 3.5, fig.width = 4.5, warning = FALSE, message = FALSE, echo = FALSE, fig.cap = \"Scatter plot of the full data, with outlier highlighted in red.\"}\n",
    "sacramento_outlier <- tibble(sqft = 5000, price = 50000)\n",
    "\n",
    "lm_plot_outlier_large <- ggplot(sacramento_train, aes(x = sqft, y = price)) +\n",
    "  geom_point(alpha = 0.4) +\n",
    "  geom_point(data = sacramento_outlier, \n",
    "             mapping = aes(x = sqft, y = price), \n",
    "             color=\"red\", \n",
    "             size = 2.5) +\n",
    "  xlab(\"House size (square feet)\") +\n",
    "  ylab(\"Price (USD)\") +\n",
    "  scale_y_continuous(labels = dollar_format()) +\n",
    "  geom_smooth(method = \"lm\", se = FALSE) + \n",
    "  geom_smooth(data = sacramento_train |> \n",
    "                add_row(sqft = 5000, price = 50000), \n",
    "              method = \"lm\", \n",
    "              se = FALSE, \n",
    "              color = \"red\")\n",
    "\n",
    "lm_plot_outlier_large\n",
    "```"
   ]
  },
  {
   "cell_type": "markdown",
   "id": "a9638195-c52c-410b-90e1-079afd6e0014",
   "metadata": {},
   "source": [
    "### Multicollinearity\n",
    "\n",
    "The second, and much more subtle, issue can occur when performing multivariable\n",
    "linear regression.  In particular, if you include multiple predictors that are \\index{colinear}\\index{multicolinear|see{colinear}}\n",
    "strongly linearly related to one another, the coefficients that describe the\n",
    "plane of best fit can be very unreliable&mdash;small changes to the data can\n",
    "result in large changes in the coefficients. Consider an extreme example using\n",
    "the Sacramento housing data where the house was measured twice by two people.\n",
    "Since the two people are each slightly inaccurate, the two measurements might\n",
    "not agree exactly, but they are very strongly linearly related to each other,\n",
    "as shown in Figure \\@ref(fig:08-lm-multicol)."
   ]
  },
  {
   "cell_type": "markdown",
   "id": "ea623f45-dd78-4154-b808-36f06ebcd6ba",
   "metadata": {},
   "source": [
    "```{r 08-lm-multicol, fig.height = 3.5, fig.width = 4.5, warning = FALSE, echo = FALSE, fig.cap = \"Scatter plot of house size (in square inches) versus house size (in square feet).\"}\n",
    "sacramento_train <- sacramento_train |>\n",
    "                          mutate(sqft1 = sqft + 100 * sample(1000000,\n",
    "                                                             size=nrow(sacramento_train),\n",
    "                                                             replace=TRUE)/1000000) |>\n",
    "                          mutate(sqft2 = sqft + 100 * sample(1000000, \n",
    "                                                             size=nrow(sacramento_train),\n",
    "                                                             replace=TRUE)/1000000) |>\n",
    "                          mutate(sqft3 = sqft + 100 * sample(1000000, \n",
    "                                                             size=nrow(sacramento_train),\n",
    "                                                             replace=TRUE)/1000000) \n",
    "\n",
    "lm_plot_multicol_1 <- ggplot(sacramento_train) +\n",
    "  geom_point(aes(x = sqft, y = sqft1), alpha=0.4)+\n",
    "  xlab(\"House size (square feet)\") +\n",
    "  ylab(\"House size (square inches)\") \n",
    "lm_plot_multicol_1\n",
    "```"
   ]
  },
  {
   "cell_type": "markdown",
   "id": "0c5b0706-553b-4709-a951-b198e85d534b",
   "metadata": {},
   "source": [
    "```{r 08-lm-multicol-2, echo = FALSE, warning = FALSE}\n",
    "lm_recipe1 <- recipe(price ~ sqft + sqft1, data = sacramento_train)\n",
    "\n",
    "lm_fit1 <- workflow() |>\n",
    "  add_recipe(lm_recipe1) |>\n",
    "  add_model(lm_spec) |>\n",
    "  fit(data = sacramento_train)\n",
    "\n",
    "coeffs <- tidy(pull_workflow_fit(lm_fit1))\n",
    "\n",
    "icept1 <- format(round(coeffs |> \n",
    "                         filter(term == \"(Intercept)\") |>  \n",
    "                         pull(estimate)), \n",
    "                 scientific = FALSE)\n",
    "sqft1 <- format(round(coeffs |> \n",
    "                        filter(term == \"sqft\") |>  \n",
    "                        pull(estimate)), \n",
    "                scientific = FALSE)\n",
    "sqft11 <- format(round(coeffs |> \n",
    "                         filter(term == \"sqft1\") |>  \n",
    "                         pull(estimate)), \n",
    "                 scientific = FALSE)\n",
    "\n",
    "lm_recipe2 <- recipe(price ~ sqft + sqft2, data = sacramento_train)\n",
    "\n",
    "lm_fit2 <- workflow() |>\n",
    "  add_recipe(lm_recipe2) |>\n",
    "  add_model(lm_spec) |>\n",
    "  fit(data = sacramento_train)\n",
    "\n",
    "coeffs <- tidy(pull_workflow_fit(lm_fit2))\n",
    "icept2 <- format(round(coeffs |> \n",
    "                         filter(term == \"(Intercept)\") |> \n",
    "                         pull(estimate)), \n",
    "                 scientific = FALSE)\n",
    "sqft2 <- format(round(coeffs |> \n",
    "                        filter(term == \"sqft\") |> \n",
    "                        pull(estimate)), \n",
    "                scientific = FALSE)\n",
    "sqft22 <- format(round(coeffs |> \n",
    "                         filter(term == \"sqft2\") |> \n",
    "                         pull(estimate)), \n",
    "                 scientific = FALSE)\n",
    "\n",
    "lm_recipe3 <- recipe(price ~ sqft + sqft3, data = sacramento_train)\n",
    "\n",
    "lm_fit3 <- workflow() |>\n",
    "  add_recipe(lm_recipe3) |>\n",
    "  add_model(lm_spec) |>\n",
    "  fit(data = sacramento_train)\n",
    "\n",
    "coeffs <- tidy(pull_workflow_fit(lm_fit3))\n",
    "icept3 <- format(round(coeffs |> \n",
    "                         filter(term == \"(Intercept)\") |> \n",
    "                         pull(estimate)), \n",
    "                 scientific = FALSE)\n",
    "sqft3 <- format(round(coeffs |> \n",
    "                        filter(term == \"sqft\") |> \n",
    "                        pull(estimate)), \n",
    "                scientific = FALSE)\n",
    "sqft33 <- format(round(coeffs |> \n",
    "                         filter(term == \"sqft3\") |> \n",
    "                         pull(estimate)), \n",
    "                 scientific = FALSE)\n",
    "\n",
    "```"
   ]
  },
  {
   "cell_type": "markdown",
   "id": "469f6fec-c8a0-417d-b769-0ecf5cf9e67b",
   "metadata": {},
   "source": [
    " If we again fit the multivariable linear regression model on this data, then the plane of best fit\n",
    "has regression coefficients that are very sensitive to the exact values in the data. For example,\n",
    "if we change the data ever so slightly&mdash;e.g., by running cross-validation, which splits\n",
    "up the data randomly into different chunks&mdash;the coefficients vary by large amounts:\n",
    "\n",
    "Best Fit 1: $\\text{house sale price} = `r icept1` + `r sqft1`\\cdot (\\text{house size 1 (ft$^2$)}) + `r sqft11` \\cdot (\\text{house size 2 (ft$^2$)}).$\n",
    "\n",
    "Best Fit 2: $\\text{house sale price} = `r icept2` + `r sqft2`\\cdot (\\text{house size 1 (ft$^2$)}) + `r sqft22` \\cdot (\\text{house size 2 (ft$^2$)}).$\n",
    "\n",
    "Best Fit 3: $\\text{house sale price} = `r icept3` + `r sqft3`\\cdot (\\text{house size 1 (ft$^2$)}) + `r sqft33` \\cdot (\\text{house size 2 (ft$^2$)}).$\n",
    "\n",
    " Therefore, when performing multivariable linear regression, it is important to avoid including very\n",
    "linearly related predictors. However, techniques for doing so are beyond the scope of this\n",
    "book; see the list of additional resources at the end of this chapter to find out where you can learn more."
   ]
  },
  {
   "cell_type": "markdown",
   "id": "82af09a5-320a-480f-ba6e-01a535d90cb5",
   "metadata": {},
   "source": [
    "## Designing new predictors\n",
    "\n",
    "We were quite fortunate in our initial exploration to find a predictor variable (house size)\n",
    "that seems to have a meaningful and nearly linear relationship with our response variable (sale price).\n",
    "But what should we do if we cannot immediately find such a nice variable?\n",
    "Well, sometimes it is just a fact that the variables in the data do not have enough of \n",
    "a relationship with the response variable to provide useful predictions. For example,\n",
    "if the only available predictor was \"the current house owner's favorite ice cream flavor\",\n",
    "we likely would have little hope of using that variable to predict the house's sale price\n",
    "(barring any future remarkable scientific discoveries about the relationship between \n",
    "the housing market and homeowner ice cream preferences). In cases like these, \n",
    "the only option is to obtain measurements of more useful variables.\n",
    "\n",
    "There are, however, a wide variety of cases where the predictor variables do have a \n",
    "meaningful relationship with the response variable, but that relationship does not fit\n",
    "the assumptions of the regression method you have chosen. For example, a data frame `df`\n",
    "with two variables&mdash;`x` and `y`&mdash;with a nonlinear relationship between the two variables\n",
    "will not be fully captured by simple linear regression, as shown in Figure \\@ref(fig:08-predictor-design)."
   ]
  },
  {
   "cell_type": "markdown",
   "id": "59685a72-10d8-432e-a6f6-28a1a9aa9984",
   "metadata": {},
   "source": [
    "```{r 08-predictor-design-df, echo = FALSE, message = FALSE, warning = FALSE}\n",
    "set.seed(1)\n",
    "\n",
    "df = tibble(x = sample(10000, 100, replace=TRUE) / 10000)\n",
    "\n",
    "df <- df |> \n",
    "  mutate(y = x^3 + 0.2 * sample(10000, 100, replace=TRUE)/10000 - 0.1)\n",
    "```"
   ]
  },
  {
   "cell_type": "markdown",
   "id": "d70ce8cf-0aee-4788-ae52-5f46c35d5bde",
   "metadata": {},
   "source": [
    "```{r 08-predictor-design-df-2, message = FALSE, warning = FALSE}\n",
    "df\n",
    "```"
   ]
  },
  {
   "cell_type": "markdown",
   "id": "f0a3ab63-92f4-4b42-8933-44c0aa571908",
   "metadata": {},
   "source": [
    "```{r 08-predictor-design, message = FALSE, warning = FALSE, echo = FALSE, fig.height = 3.5, fig.width = 4.5, fig.cap = \"Example of a data set with a nonlinear relationship between the predictor and the response.\"}\n",
    "curve_plt <- ggplot(df, aes(x = x, y = y)) +\n",
    "  geom_point() +\n",
    "  xlab(\"x\") +\n",
    "  ylab(\"y\") +\n",
    "  geom_smooth(method = \"lm\", se = FALSE)\n",
    "curve_plt\n",
    "```"
   ]
  },
  {
   "cell_type": "markdown",
   "id": "678d9261-02ed-4b99-8ee5-de81478ed543",
   "metadata": {},
   "source": [
    "Instead of trying to predict the response `y` using a linear regression on `x`,\n",
    "we might have some scientific background about our problem to suggest that `y`\n",
    "should be a cubic function of `x`. So before performing regression,\n",
    "we might *create a new predictor variable* `z` using the `mutate` function: \\index{predictor design}"
   ]
  },
  {
   "cell_type": "markdown",
   "id": "386de645-aa30-4810-accc-9579db39fe07",
   "metadata": {},
   "source": [
    "```{r 08-predictor-design-3, message = FALSE, warning = FALSE}\n",
    "df <- df |>\n",
    "        mutate(z = x^3)\n",
    "```"
   ]
  },
  {
   "cell_type": "markdown",
   "id": "c5c883c1-c9a5-46e6-93c6-735ab87319a9",
   "metadata": {},
   "source": [
    "Then we can perform linear regression for `y` using the predictor variable `z`,\n",
    "as shown in Figure \\@ref(fig:08-predictor-design-2).\n",
    "Here you can see that the transformed predictor `z` helps the \n",
    "linear regression model make more accurate predictions. \n",
    "Note that none of the `y` response values have changed between Figures \\@ref(fig:08-predictor-design)\n",
    "and \\@ref(fig:08-predictor-design-2); the only change is that the `x` values\n",
    "have been replaced by `z` values."
   ]
  },
  {
   "cell_type": "markdown",
   "id": "b4d9eea7-52cd-4907-af36-69cbc2670d5c",
   "metadata": {},
   "source": [
    "```{r 08-predictor-design-2, message = FALSE, warning = FALSE, echo = FALSE, fig.height = 3.5, fig.width = 4.5, fig.cap = \"Relationship between the transformed predictor and the response.\"}\n",
    "curve_plt2 <- ggplot(df, aes(x = z, y = y)) +\n",
    "  geom_point() +\n",
    "  xlab(expression(paste(\"z = x\"^\"3\"))) +\n",
    "  ylab(\"y\") +\n",
    "  geom_smooth(method = \"lm\", se = FALSE)\n",
    "\n",
    "curve_plt2\n",
    "```"
   ]
  },
  {
   "cell_type": "markdown",
   "id": "eb18560c",
   "metadata": {},
   "source": [
    "The process of\n",
    "transforming predictors (and potentially combining multiple predictors in the process)\n",
    "is known as *feature engineering*. \\index{feature engineering|see{predictor design}} In real data analysis\n",
    "problems, you will need to rely on\n",
    "a deep understanding of the problem&mdash;as well as the wrangling tools \n",
    "from previous chapters&mdash;to engineer useful new features that improve\n",
    "predictive performance.\n",
    "\n",
    "> **Note:** Feature engineering\n",
    "> is *part of tuning your model*, and as such you must not use your test data\n",
    "> to evaluate the quality of the features you produce. You are free to use\n",
    "> cross-validation, though!"
   ]
  },
  {
   "cell_type": "markdown",
   "id": "3fc0a9e1-da63-490e-a4f2-dcf0c7b4b296",
   "metadata": {},
   "source": [
    "## The other sides of regression\n",
    "\n",
    "So far in this textbook we have used regression only in the context of\n",
    "prediction. However, regression can also be seen as a method to understand and\n",
    "quantify the effects of individual variables on a response / outcome of interest.\n",
    "In the housing example from this chapter, beyond just using past data\n",
    "to predict future sale prices, \n",
    "we might also be interested in describing the\n",
    "individual relationships of house size and the number of bedrooms with house price,\n",
    "quantifying how strong each of these relationships are, and assessing how accurately we\n",
    "can estimate their magnitudes. And even beyond that, we may be interested in \n",
    "understanding whether the predictors *cause* changes in the price.\n",
    "These sides of regression are well beyond the scope of this book; but\n",
    "the material you have learned here should give you a foundation of knowledge\n",
    "that will serve you well when moving to more advanced books on the topic."
   ]
  },
  {
   "cell_type": "markdown",
   "id": "2317db17",
   "metadata": {},
   "source": [
    "## Exercises\n",
    "\n",
    "Practice exercises for the material covered in this chapter \n",
    "can be found in the accompanying \n",
    "[worksheets repository](https://github.com/UBC-DSCI/data-science-a-first-intro-worksheets#readme)\n",
    "in the \"Regression II: linear regression\" row.\n",
    "You can launch an interactive version of the worksheet in your browser by clicking the \"launch binder\" button.\n",
    "You can also preview a non-interactive version of the worksheet by clicking \"view worksheet.\"\n",
    "If you instead decide to download the worksheet and run it on your own machine,\n",
    "make sure to follow the instructions for computer setup\n",
    "found in Chapter \\@ref(move-to-your-own-machine). This will ensure that the automated feedback\n",
    "and guidance that the worksheets provide will function as intended."
   ]
  },
  {
   "cell_type": "markdown",
   "id": "ef82781e",
   "metadata": {},
   "source": [
    "## Additional resources\n",
    "- The [`tidymodels` website](https://tidymodels.org/packages) is an excellent\n",
    "  reference for more details on, and advanced usage of, the functions and\n",
    "  packages in the past two chapters. Aside from that, it also has a [nice\n",
    "  beginner's tutorial](https://www.tidymodels.org/start/) and [an extensive list\n",
    "  of more advanced examples](https://www.tidymodels.org/learn/) that you can use\n",
    "  to continue learning beyond the scope of this book. \n",
    "- *Modern Dive* [@moderndive] is another textbook that uses the\n",
    "  `tidyverse` / `tidymodels` framework. Chapter 6 complements the material in\n",
    "  the current chapter well; it covers some slightly more advanced concepts than\n",
    "  we do without getting mathematical. Give this chapter a read before moving on\n",
    "  to the next reference. It is also worth noting that this book takes a more\n",
    "  \"explanatory\" / \"inferential\" approach to regression in general (in Chapters 5,\n",
    "  6, and 10), which provides a nice complement to the predictive tack we take in\n",
    "  the present book.\n",
    "- *An Introduction to Statistical Learning* [@james2013introduction] provides \n",
    "  a great next stop in the process of\n",
    "  learning about regression. Chapter 3 covers linear regression at a slightly\n",
    "  more mathematical level than we do here, but it is not too large a leap and so\n",
    "  should provide a good stepping stone. Chapter 6 discusses how to pick a subset\n",
    "  of \"informative\" predictors when you have a data set with many predictors, and\n",
    "  you expect only a few of them to be relevant. Chapter 7 covers regression\n",
    "  models that are more flexible than linear regression models but still enjoy the\n",
    "  computational efficiency of linear regression. In contrast, the KNN methods we\n",
    "  covered earlier are indeed more flexible but become very slow when given lots\n",
    "  of data."
   ]
  },
  {
   "cell_type": "markdown",
   "id": "91cd310e-9b61-4642-b173-80a52708832c",
   "metadata": {},
   "source": [
    "## References"
   ]
  },
  {
   "cell_type": "markdown",
   "id": "b3a61a33-93cd-45c0-8853-b0c65915d33c",
   "metadata": {},
   "source": [
    "```{bibliography}\n",
    "```"
   ]
  }
 ],
 "metadata": {
  "jupytext": {
   "formats": "py:percent,md:myst,ipynb"
  },
  "kernelspec": {
   "display_name": "Python 3 (ipykernel)",
   "language": "python",
   "name": "python3"
  },
  "language_info": {
   "codemirror_mode": {
    "name": "ipython",
    "version": 3
   },
   "file_extension": ".py",
   "mimetype": "text/x-python",
   "name": "python",
   "nbconvert_exporter": "python",
   "pygments_lexer": "ipython3",
   "version": "3.9.12"
  }
 },
 "nbformat": 4,
 "nbformat_minor": 5
}
